{
 "cells": [
  {
   "cell_type": "code",
   "execution_count": null,
   "metadata": {},
   "outputs": [],
   "source": [
    "# default_exp web_scraping"
   ]
  },
  {
   "cell_type": "markdown",
   "metadata": {},
   "source": [
    "# web scraping\n",
    "\n",
    "> API details."
   ]
  },
  {
   "cell_type": "code",
   "execution_count": null,
   "metadata": {},
   "outputs": [],
   "source": [
    "#hide\n",
    "from nbdev.showdoc import *\n"
   ]
  },
  {
   "cell_type": "code",
   "execution_count": null,
   "metadata": {},
   "outputs": [],
   "source": [
    "#export\n",
    "import random\n",
    "from time import sleep\n",
    "from selenium import webdriver\n",
    "from selenium.webdriver.firefox.options import Options\n",
    "import datetime\n",
    "import re\n",
    "import csv\n",
    "import os\n",
    "from fastcore.script import *"
   ]
  },
  {
   "cell_type": "markdown",
   "metadata": {},
   "source": [
    "def getHTMLsfu(): Funcion que  por medio del driver de selenium hace el log en la EESSA y obtiene el código html conla información"
   ]
  },
  {
   "cell_type": "code",
   "execution_count": null,
   "metadata": {},
   "outputs": [],
   "source": [
    "#export\n",
    "def getHTMLsfu():\n",
    "\n",
    "    source_code=\"\"\n",
    "    try:\n",
    "        rutadriver=back()\n",
    "        rutadriver=str(rutadriver)+\"geckodriver\"\n",
    "        #rutadriver=\n",
    "        options = Options()\n",
    "        options.add_argument('-headless')\n",
    "        driver = webdriver.Firefox(executable_path=str(rutadriver), options=options)\n",
    "        currentday = datetime.datetime.now()\n",
    "        #driver.get(\"https://esc.cbk.waw.pl/products/api.php?parameter=f10_7&start_date=2019%2F01%2F01+00%3A00&end_date=\"+str(currentday.year)+\"%2F\"+str(currentday.month)+\"%2F\"+str(currentday.day)+\"+00%3A00&output_type=html\")\n",
    "        driver.get(\"https://esc.cbk.waw.pl/products/api.php?parameter=f10_7&start_date=\"+str(currentday.year-1)+\"%2F\"+str(currentday.month)+\"%2F\"+str(currentday.day)+\"+00%3A00&end_date=\"+str(currentday.year)+\"%2F\"+str(currentday.month)+\"%2F\"+str(currentday.day)+\"+00%3A00&output_type=html\")\n",
    "        #driver.get(\"https://esc.cbk.waw.pl/products/api.php?parameter=f10_7&start_date=1750%2F01%2F01+00%3A00&end_date=\"+str(currentday.year)+\"%2F\"+str(currentday.month)+\"%2F\"+str(currentday.day)+\"+00%3A00&output_type=html\")\n",
    "        sleep(random.uniform(8.0,10.0))\n",
    "\n",
    "\n",
    "        user = driver.find_element_by_name(\"callback_0\")\n",
    "        password = driver.find_element_by_name(\"callback_1\")\n",
    "        button = driver.find_element_by_name(\"callback_2\")\n",
    "\n",
    "        credentials=getCredentials()\n",
    "        user.send_keys(credentials[0])\n",
    "        password.send_keys(credentials[1])\n",
    "        button.click()\n",
    "        sleep(random.uniform(10.0,12.0))\n",
    "\n",
    "        elem = driver.find_element_by_xpath(\"//*\")\n",
    "        source_code = elem.get_attribute(\"outerHTML\")\n",
    "\n",
    "    finally:\n",
    "        driver.quit()\n",
    "    return source_code\n",
    "\n",
    "\n"
   ]
  },
  {
   "cell_type": "markdown",
   "metadata": {},
   "source": [
    "back(): Devuelve el path de la carpeta anterior"
   ]
  },
  {
   "cell_type": "code",
   "execution_count": null,
   "metadata": {},
   "outputs": [],
   "source": [
    "#export\n",
    "def back():\n",
    "    path=os.getcwd()\n",
    "    s=path.split('/')\n",
    "    length=len(s)\n",
    "    back_path=\"\"\n",
    "    for pathpart in range(0,length-1):\n",
    "        if pathpart==0:\n",
    "            back_path=s[pathpart]+\"/\"\n",
    "        else:\n",
    "            back_path=back_path+s[pathpart]+\"/\"\n",
    "    return str(back_path)\n",
    "\n"
   ]
  },
  {
   "cell_type": "markdown",
   "metadata": {},
   "source": [
    "getCredentials(): Funcion que obtiene el user y password previamente escrito en el fichero infouser.txt para el login de la EESA"
   ]
  },
  {
   "cell_type": "code",
   "execution_count": null,
   "metadata": {},
   "outputs": [],
   "source": [
    "#export\n",
    "def getCredentials():\n",
    "    credentials=[]\n",
    "    user=getInfo(\"usuario\")\n",
    "    password=getInfo(\"password\")\n",
    "    credentials.append(user)\n",
    "    credentials.append(password)\n",
    "    return credentials\n"
   ]
  },
  {
   "cell_type": "code",
   "execution_count": null,
   "metadata": {},
   "outputs": [],
   "source": [
    "#export\n",
    "def getInfo(element):\n",
    "    try:\n",
    "        rutatxt=back()\n",
    "        rutatxt=str(rutatxt)+\"/infouser.txt\"\n",
    "        f = open (rutatxt,'r')\n",
    "        mensaje = f.read()\n",
    "        info=re.findall(str(element)+\"='(.*?)'\",mensaje)[0]\n",
    "    finally:\n",
    "        f.close()\n",
    "    return info"
   ]
  },
  {
   "cell_type": "markdown",
   "metadata": {},
   "source": [
    "getDatosSfu(html): Función que analiza y obtiene los datos (fecha y valor de sfu) del html"
   ]
  },
  {
   "cell_type": "code",
   "execution_count": null,
   "metadata": {},
   "outputs": [],
   "source": [
    "#export\n",
    "def getDatosSfu(html):\n",
    "    sfudiario=re.findall('<tr>\\n<td>(.*?)/td></tr>',str(html),re.DOTALL)\n",
    "    listaDatos=[]\n",
    "    for dia in sfudiario:\n",
    "        datofecha=re.findall(\"(.*?)</td>\",dia)\n",
    "        datosfu=re.findall(\"<td>(.*?)<\",dia)\n",
    "        listaDatos.append([datofecha[0],datosfu[0]])\n",
    "    return listaDatos"
   ]
  },
  {
   "cell_type": "markdown",
   "metadata": {},
   "source": [
    "sfuScv(listaDatos): Función que guarda los datos(fecha y valor de sfu) en un fichero csv"
   ]
  },
  {
   "cell_type": "code",
   "execution_count": null,
   "metadata": {},
   "outputs": [],
   "source": [
    "#export\n",
    "def sfuScv(listaDatos):\n",
    "    currentday = datetime.datetime.now()\n",
    "    #nombredatos=str(currentday.year)+\"-\"+str(currentday.month)+\"-\"+str(currentday.day)+\"sfuData.csv\"\n",
    "    nombredatos=str(currentday.year)+\"-\"+str(currentday.month)+\"-\"+str(currentday.day)+\"-\"+str(currentday.hour)+\"sfuData.csv\"\n",
    "    path=getInfo(\"csvdirectory\")\n",
    "    try:\n",
    "        myFile = open(str(path)+str(nombredatos), 'w',newline='')\n",
    "        with myFile:\n",
    "                writer = csv.writer(myFile)\n",
    "                writer.writerows(listaDatos)\n",
    "\n",
    "    finally:\n",
    "        myFile.close()\n",
    "\n"
   ]
  },
  {
   "cell_type": "code",
   "execution_count": null,
   "metadata": {},
   "outputs": [],
   "source": [
    "#export\n",
    "def web_scraping():\n",
    "    datosSfu=[]\n",
    "    sourcecode=getHTMLsfu()\n",
    "    datosSfu=getDatosSfu(sourcecode)\n",
    "    sfuScv(datosSfu)\n"
   ]
  },
  {
   "cell_type": "code",
   "execution_count": null,
   "metadata": {},
   "outputs": [],
   "source": [
    "#export\n",
    "@call_parse\n",
    "def main():\n",
    "    web_scraping()\n"
   ]
  },
  {
   "cell_type": "code",
   "execution_count": null,
   "metadata": {},
   "outputs": [],
   "source": []
  }
 ],
 "metadata": {
  "kernelspec": {
   "display_name": "Python 3",
   "language": "python",
   "name": "python3"
  }
 },
 "nbformat": 4,
 "nbformat_minor": 2
}
