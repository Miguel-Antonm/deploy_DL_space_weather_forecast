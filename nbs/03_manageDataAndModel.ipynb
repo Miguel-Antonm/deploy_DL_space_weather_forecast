{
 "cells": [
  {
   "cell_type": "code",
   "execution_count": null,
   "metadata": {},
   "outputs": [],
   "source": [
    "# default_exp manageDataAndModel"
   ]
  },
  {
   "cell_type": "markdown",
   "metadata": {},
   "source": [
    "# Manage Data And Model"
   ]
  },
  {
   "cell_type": "code",
   "execution_count": null,
   "metadata": {},
   "outputs": [],
   "source": [
    "#hide\n",
    "from nbdev.showdoc import *\n",
    "import sys\n",
    "sys.path.append(\"..\")\n",
    "%load_ext autoreload\n",
    "%autoreload 2"
   ]
  },
  {
   "cell_type": "code",
   "execution_count": null,
   "metadata": {},
   "outputs": [],
   "source": [
    "#export\n",
    "from swfd.load_model import *\n",
    "import datetime\n",
    "import numpy as np\n",
    "from swfd.resources import getInfo\n",
    "import csv\n",
    "import time\n",
    "import pandas as pd\n",
    "import pickle\n",
    "NORMALIZE=707.6\n",
    "HORIZONS=[3,5,7,10,14,21,27]\n",
    "COLUMNS=['Date','H3','H5','H7','H10','H14','H21','H27']"
   ]
  },
  {
   "cell_type": "markdown",
   "metadata": {},
   "source": [
    "getAllHorizonPrediction(): Predice para todos los horizontes en una fecha concreta"
   ]
  },
  {
   "cell_type": "code",
   "execution_count": null,
   "metadata": {},
   "outputs": [],
   "source": [
    "#export \n",
    "def getAllHorizonPrediction(date):\n",
    "    allpredicts=[]\n",
    "    allpredicts.append(date)\n",
    "    for horizon in HORIZONS:\n",
    "        try:\n",
    "                predict=ensemblePrediction(horizon,date)\n",
    "                mean,std=ensembleMeanVar(predict)\n",
    "                allpredicts.append([mean,std])\n",
    "        except TypeError: #Excepcion que salta con fecha invalida\n",
    "                print(\"error en horizonte\",horizon, \" el dia\",date)\n",
    "                allpredicts.append([])\n",
    "    return np.matrix(allpredicts,dtype=\"object\")\n"
   ]
  },
  {
   "cell_type": "code",
   "execution_count": null,
   "metadata": {},
   "outputs": [
    {
     "name": "stderr",
     "output_type": "stream",
     "text": [
      "/home/miguel/anaconda3/lib/python3.8/site-packages/torch/nn/modules/container.py:435: UserWarning: Setting attributes on ParameterList is not supported.\n",
      "  warnings.warn(\"Setting attributes on ParameterList is not supported.\")\n"
     ]
    },
    {
     "data": {
      "text/html": [
       "<div>\n",
       "<style scoped>\n",
       "    .dataframe tbody tr th:only-of-type {\n",
       "        vertical-align: middle;\n",
       "    }\n",
       "\n",
       "    .dataframe tbody tr th {\n",
       "        vertical-align: top;\n",
       "    }\n",
       "\n",
       "    .dataframe thead th {\n",
       "        text-align: right;\n",
       "    }\n",
       "</style>\n",
       "<table border=\"1\" class=\"dataframe\">\n",
       "  <thead>\n",
       "    <tr style=\"text-align: right;\">\n",
       "      <th></th>\n",
       "      <th>Date</th>\n",
       "      <th>H3</th>\n",
       "      <th>H5</th>\n",
       "      <th>H7</th>\n",
       "      <th>H10</th>\n",
       "      <th>H14</th>\n",
       "      <th>H21</th>\n",
       "      <th>H27</th>\n",
       "    </tr>\n",
       "  </thead>\n",
       "  <tbody>\n",
       "    <tr>\n",
       "      <th>0</th>\n",
       "      <td>2021-03-31</td>\n",
       "      <td>[[69.69863891601562, 68.13095092773438, 68.686...</td>\n",
       "      <td>[[76.21615600585938, 76.20450134277344, 76.503...</td>\n",
       "      <td>[[75.15353393554688, 75.81306457519531, 76.022...</td>\n",
       "      <td>[[72.3631362915039, 72.7759780883789, 73.49679...</td>\n",
       "      <td>[[82.78247833251953, 82.65411376953125, 81.448...</td>\n",
       "      <td>[[76.1208267211914, 74.2659912109375, 75.71601...</td>\n",
       "      <td>[[75.64323425292969, 74.97266387939453, 77.429...</td>\n",
       "    </tr>\n",
       "    <tr>\n",
       "      <th>1</th>\n",
       "      <td>2021-03-30</td>\n",
       "      <td>[[73.13507080078125, 71.82838439941406, 71.484...</td>\n",
       "      <td>[[78.35314483642578, 77.80770416259766, 78.808...</td>\n",
       "      <td>[[76.19380950927734, 76.58087158203125, 76.750...</td>\n",
       "      <td>[[76.66629028320312, 75.98340606689453, 77.019...</td>\n",
       "      <td>[[83.47217559814453, 82.89875793457031, 81.456...</td>\n",
       "      <td>[[75.9059829711914, 74.5954818725586, 76.16978...</td>\n",
       "      <td>[[82.08248138427734, 83.13996887207031, 80.835...</td>\n",
       "    </tr>\n",
       "    <tr>\n",
       "      <th>2</th>\n",
       "      <td>2021-03-29</td>\n",
       "      <td>[[69.53973388671875, 67.98240661621094, 67.702...</td>\n",
       "      <td>[[75.2167739868164, 74.58640594482422, 74.9011...</td>\n",
       "      <td>[[75.92972564697266, 76.85356140136719, 76.354...</td>\n",
       "      <td>[[71.71832275390625, 72.45899200439453, 73.586...</td>\n",
       "      <td>[[83.50550842285156, 82.67446899414062, 81.333...</td>\n",
       "      <td>[[77.7284164428711, 73.81826782226562, 76.4061...</td>\n",
       "      <td>[[75.53076171875, 75.73101043701172, 75.634292...</td>\n",
       "    </tr>\n",
       "    <tr>\n",
       "      <th>3</th>\n",
       "      <td>2021-03-28</td>\n",
       "      <td>[[70.51497650146484, 68.75836181640625, 69.106...</td>\n",
       "      <td>[[76.84338073730468, 76.23005676269531, 76.420...</td>\n",
       "      <td>[[78.7152099609375, 79.58194732666016, 78.4246...</td>\n",
       "      <td>[[73.3990249633789, 72.7371826171875, 74.12197...</td>\n",
       "      <td>[[84.60131072998047, 83.86864471435547, 83.110...</td>\n",
       "      <td>[[79.6921615600586, 79.48311614990234, 80.3238...</td>\n",
       "      <td>[[74.27607727050781, 73.82306671142578, 72.586...</td>\n",
       "    </tr>\n",
       "  </tbody>\n",
       "</table>\n",
       "</div>"
      ],
      "text/plain": [
       "        Date                                                 H3  \\\n",
       "0 2021-03-31  [[69.69863891601562, 68.13095092773438, 68.686...   \n",
       "1 2021-03-30  [[73.13507080078125, 71.82838439941406, 71.484...   \n",
       "2 2021-03-29  [[69.53973388671875, 67.98240661621094, 67.702...   \n",
       "3 2021-03-28  [[70.51497650146484, 68.75836181640625, 69.106...   \n",
       "\n",
       "                                                  H5  \\\n",
       "0  [[76.21615600585938, 76.20450134277344, 76.503...   \n",
       "1  [[78.35314483642578, 77.80770416259766, 78.808...   \n",
       "2  [[75.2167739868164, 74.58640594482422, 74.9011...   \n",
       "3  [[76.84338073730468, 76.23005676269531, 76.420...   \n",
       "\n",
       "                                                  H7  \\\n",
       "0  [[75.15353393554688, 75.81306457519531, 76.022...   \n",
       "1  [[76.19380950927734, 76.58087158203125, 76.750...   \n",
       "2  [[75.92972564697266, 76.85356140136719, 76.354...   \n",
       "3  [[78.7152099609375, 79.58194732666016, 78.4246...   \n",
       "\n",
       "                                                 H10  \\\n",
       "0  [[72.3631362915039, 72.7759780883789, 73.49679...   \n",
       "1  [[76.66629028320312, 75.98340606689453, 77.019...   \n",
       "2  [[71.71832275390625, 72.45899200439453, 73.586...   \n",
       "3  [[73.3990249633789, 72.7371826171875, 74.12197...   \n",
       "\n",
       "                                                 H14  \\\n",
       "0  [[82.78247833251953, 82.65411376953125, 81.448...   \n",
       "1  [[83.47217559814453, 82.89875793457031, 81.456...   \n",
       "2  [[83.50550842285156, 82.67446899414062, 81.333...   \n",
       "3  [[84.60131072998047, 83.86864471435547, 83.110...   \n",
       "\n",
       "                                                 H21  \\\n",
       "0  [[76.1208267211914, 74.2659912109375, 75.71601...   \n",
       "1  [[75.9059829711914, 74.5954818725586, 76.16978...   \n",
       "2  [[77.7284164428711, 73.81826782226562, 76.4061...   \n",
       "3  [[79.6921615600586, 79.48311614990234, 80.3238...   \n",
       "\n",
       "                                                 H27  \n",
       "0  [[75.64323425292969, 74.97266387939453, 77.429...  \n",
       "1  [[82.08248138427734, 83.13996887207031, 80.835...  \n",
       "2  [[75.53076171875, 75.73101043701172, 75.634292...  \n",
       "3  [[74.27607727050781, 73.82306671142578, 72.586...  "
      ]
     },
     "execution_count": null,
     "metadata": {},
     "output_type": "execute_result"
    }
   ],
   "source": [
    "#hide\n",
    "testallpredict5=getAllHorizonPrediction(datetime.datetime(2021,3,31))\n",
    "testallpredict6=getAllHorizonPrediction(datetime.datetime(2021,3,30))\n",
    "testallpredict7=getAllHorizonPrediction(datetime.datetime(2021,3,29))\n",
    "testallpredict8=getAllHorizonPrediction(datetime.datetime(2021,3,28))\n",
    "df = pd.DataFrame(columns=COLUMNS)\n",
    "\n",
    "df5 = pd.DataFrame (testallpredict5,columns=COLUMNS)\n",
    "df6 = pd.DataFrame (testallpredict6,columns=COLUMNS)\n",
    "df7 = pd.DataFrame (testallpredict7,columns=COLUMNS)\n",
    "df8 = pd.DataFrame (testallpredict8,columns=COLUMNS)\n",
    "\n",
    "df=df.append(df5)\n",
    "df=df.append(df6)\n",
    "df=df.append(df7)\n",
    "df=df.append(df8)\n",
    "df.reset_index(drop=True, inplace=True)\n",
    "(df)"
   ]
  },
  {
   "cell_type": "markdown",
   "metadata": {},
   "source": [
    "savePredict(): Guarda en un archivo todas las prediciones"
   ]
  },
  {
   "cell_type": "code",
   "execution_count": null,
   "metadata": {},
   "outputs": [],
   "source": [
    "#export\n",
    "def savePredict(datalist):\n",
    "    path=getInfo(\"csvdirectory\")+\"predictionData.csv\"\n",
    "    try:\n",
    "        outfile  = open(path, 'wb')\n",
    "        pickle.dump(datalist, outfile )\n",
    "    finally:\n",
    "        outfile.close()\n"
   ]
  },
  {
   "cell_type": "code",
   "execution_count": null,
   "metadata": {},
   "outputs": [],
   "source": [
    "#hide\n",
    "savePredict(df)"
   ]
  },
  {
   "cell_type": "markdown",
   "metadata": {},
   "source": [
    "loadPredict(): Carga y devuelve todas las prediciones"
   ]
  },
  {
   "cell_type": "code",
   "execution_count": null,
   "metadata": {},
   "outputs": [],
   "source": [
    "#export\n",
    "def loadPredict():\n",
    "    predict= pd.DataFrame(columns=COLUMNS)\n",
    "    path=getInfo(\"csvdirectory\")+\"predictionData.csv\"\n",
    "    try:\n",
    "        with open(path,'rb') as infile:\n",
    "            predict = pickle.load(infile, encoding='bytes')\n",
    "        infile.close() \n",
    "    except IOError:\n",
    "        print(\"File not accessible\")\n",
    "        \n",
    "    return predict"
   ]
  },
  {
   "cell_type": "code",
   "execution_count": null,
   "metadata": {},
   "outputs": [
    {
     "data": {
      "text/html": [
       "<div>\n",
       "<style scoped>\n",
       "    .dataframe tbody tr th:only-of-type {\n",
       "        vertical-align: middle;\n",
       "    }\n",
       "\n",
       "    .dataframe tbody tr th {\n",
       "        vertical-align: top;\n",
       "    }\n",
       "\n",
       "    .dataframe thead th {\n",
       "        text-align: right;\n",
       "    }\n",
       "</style>\n",
       "<table border=\"1\" class=\"dataframe\">\n",
       "  <thead>\n",
       "    <tr style=\"text-align: right;\">\n",
       "      <th></th>\n",
       "      <th>Date</th>\n",
       "      <th>H3</th>\n",
       "      <th>H5</th>\n",
       "      <th>H7</th>\n",
       "      <th>H10</th>\n",
       "      <th>H14</th>\n",
       "      <th>H21</th>\n",
       "      <th>H27</th>\n",
       "    </tr>\n",
       "  </thead>\n",
       "  <tbody>\n",
       "    <tr>\n",
       "      <th>0</th>\n",
       "      <td>2021-03-31</td>\n",
       "      <td>[[69.69863891601562, 68.13095092773438, 68.686...</td>\n",
       "      <td>[[76.21615600585938, 76.20450134277344, 76.503...</td>\n",
       "      <td>[[75.15353393554688, 75.81306457519531, 76.022...</td>\n",
       "      <td>[[72.3631362915039, 72.7759780883789, 73.49679...</td>\n",
       "      <td>[[82.78247833251953, 82.65411376953125, 81.448...</td>\n",
       "      <td>[[76.1208267211914, 74.2659912109375, 75.71601...</td>\n",
       "      <td>[[75.64323425292969, 74.97266387939453, 77.429...</td>\n",
       "    </tr>\n",
       "    <tr>\n",
       "      <th>1</th>\n",
       "      <td>2021-03-30</td>\n",
       "      <td>[[73.13507080078125, 71.82838439941406, 71.484...</td>\n",
       "      <td>[[78.35314483642578, 77.80770416259766, 78.808...</td>\n",
       "      <td>[[76.19380950927734, 76.58087158203125, 76.750...</td>\n",
       "      <td>[[76.66629028320312, 75.98340606689453, 77.019...</td>\n",
       "      <td>[[83.47217559814453, 82.89875793457031, 81.456...</td>\n",
       "      <td>[[75.9059829711914, 74.5954818725586, 76.16978...</td>\n",
       "      <td>[[82.08248138427734, 83.13996887207031, 80.835...</td>\n",
       "    </tr>\n",
       "    <tr>\n",
       "      <th>2</th>\n",
       "      <td>2021-03-29</td>\n",
       "      <td>[[69.53973388671875, 67.98240661621094, 67.702...</td>\n",
       "      <td>[[75.2167739868164, 74.58640594482422, 74.9011...</td>\n",
       "      <td>[[75.92972564697266, 76.85356140136719, 76.354...</td>\n",
       "      <td>[[71.71832275390625, 72.45899200439453, 73.586...</td>\n",
       "      <td>[[83.50550842285156, 82.67446899414062, 81.333...</td>\n",
       "      <td>[[77.7284164428711, 73.81826782226562, 76.4061...</td>\n",
       "      <td>[[75.53076171875, 75.73101043701172, 75.634292...</td>\n",
       "    </tr>\n",
       "    <tr>\n",
       "      <th>3</th>\n",
       "      <td>2021-03-28</td>\n",
       "      <td>[[70.51497650146484, 68.75836181640625, 69.106...</td>\n",
       "      <td>[[76.84338073730468, 76.23005676269531, 76.420...</td>\n",
       "      <td>[[78.7152099609375, 79.58194732666016, 78.4246...</td>\n",
       "      <td>[[73.3990249633789, 72.7371826171875, 74.12197...</td>\n",
       "      <td>[[84.60131072998047, 83.86864471435547, 83.110...</td>\n",
       "      <td>[[79.6921615600586, 79.48311614990234, 80.3238...</td>\n",
       "      <td>[[74.27607727050781, 73.82306671142578, 72.586...</td>\n",
       "    </tr>\n",
       "  </tbody>\n",
       "</table>\n",
       "</div>"
      ],
      "text/plain": [
       "        Date                                                 H3  \\\n",
       "0 2021-03-31  [[69.69863891601562, 68.13095092773438, 68.686...   \n",
       "1 2021-03-30  [[73.13507080078125, 71.82838439941406, 71.484...   \n",
       "2 2021-03-29  [[69.53973388671875, 67.98240661621094, 67.702...   \n",
       "3 2021-03-28  [[70.51497650146484, 68.75836181640625, 69.106...   \n",
       "\n",
       "                                                  H5  \\\n",
       "0  [[76.21615600585938, 76.20450134277344, 76.503...   \n",
       "1  [[78.35314483642578, 77.80770416259766, 78.808...   \n",
       "2  [[75.2167739868164, 74.58640594482422, 74.9011...   \n",
       "3  [[76.84338073730468, 76.23005676269531, 76.420...   \n",
       "\n",
       "                                                  H7  \\\n",
       "0  [[75.15353393554688, 75.81306457519531, 76.022...   \n",
       "1  [[76.19380950927734, 76.58087158203125, 76.750...   \n",
       "2  [[75.92972564697266, 76.85356140136719, 76.354...   \n",
       "3  [[78.7152099609375, 79.58194732666016, 78.4246...   \n",
       "\n",
       "                                                 H10  \\\n",
       "0  [[72.3631362915039, 72.7759780883789, 73.49679...   \n",
       "1  [[76.66629028320312, 75.98340606689453, 77.019...   \n",
       "2  [[71.71832275390625, 72.45899200439453, 73.586...   \n",
       "3  [[73.3990249633789, 72.7371826171875, 74.12197...   \n",
       "\n",
       "                                                 H14  \\\n",
       "0  [[82.78247833251953, 82.65411376953125, 81.448...   \n",
       "1  [[83.47217559814453, 82.89875793457031, 81.456...   \n",
       "2  [[83.50550842285156, 82.67446899414062, 81.333...   \n",
       "3  [[84.60131072998047, 83.86864471435547, 83.110...   \n",
       "\n",
       "                                                 H21  \\\n",
       "0  [[76.1208267211914, 74.2659912109375, 75.71601...   \n",
       "1  [[75.9059829711914, 74.5954818725586, 76.16978...   \n",
       "2  [[77.7284164428711, 73.81826782226562, 76.4061...   \n",
       "3  [[79.6921615600586, 79.48311614990234, 80.3238...   \n",
       "\n",
       "                                                 H27  \n",
       "0  [[75.64323425292969, 74.97266387939453, 77.429...  \n",
       "1  [[82.08248138427734, 83.13996887207031, 80.835...  \n",
       "2  [[75.53076171875, 75.73101043701172, 75.634292...  \n",
       "3  [[74.27607727050781, 73.82306671142578, 72.586...  "
      ]
     },
     "execution_count": null,
     "metadata": {},
     "output_type": "execute_result"
    }
   ],
   "source": [
    "#hide\n",
    "loadPredict()"
   ]
  },
  {
   "cell_type": "markdown",
   "metadata": {},
   "source": [
    "updatePredicts(): Hace todas las prediciones desde el primer día guardado del fichero de prediciones hasta hoy y las guarda en el fichero."
   ]
  },
  {
   "cell_type": "code",
   "execution_count": null,
   "metadata": {},
   "outputs": [],
   "source": [
    "#export\n",
    "def updatePredicts():\n",
    "    path=getInfo(\"csvdirectory\")+\"predictionData.csv\"\n",
    "    datapredict=loadPredict()\n",
    "    if(not datapredict.empty): \n",
    "        yesterday = datetime.datetime.today().date()-datetime.timedelta(1)\n",
    "        predictdate=pd.to_datetime(datapredict.loc[0,\"Date\"])+datetime.timedelta(1) #First date to predict\n",
    "        \n",
    "        if(yesterday >= predictdate):\n",
    "        \n",
    "            while(yesterday >= predictdate):# while yesterday is not in the past of data(predictdate)\n",
    "\n",
    "                #print(predictdate,yesterday)\n",
    "                print(\"Currently making \", predictdate ,\" prediction\")\n",
    "                currentpredict=getAllHorizonPrediction(predictdate)\n",
    "                datapredict=pd.concat([pd.DataFrame(currentpredict,columns=COLUMNS), datapredict], ignore_index=True)\n",
    "                predictdate=predictdate+datetime.timedelta(1)\n",
    "            \n",
    "        \n",
    "            print(\"Updated to \",yesterday)\n",
    "            savePredict(datapredict)\n",
    "        else:\n",
    "            print(\"It was already updated\")\n",
    "    else:\n",
    "        print(\"The file does not exist, you should make predictions to update\")"
   ]
  },
  {
   "cell_type": "code",
   "execution_count": null,
   "metadata": {},
   "outputs": [
    {
     "name": "stdout",
     "output_type": "stream",
     "text": [
      "Currently making  2021-04-04 00:00:00  prediction\n"
     ]
    },
    {
     "name": "stderr",
     "output_type": "stream",
     "text": [
      "/home/miguel/anaconda3/lib/python3.8/site-packages/torch/cuda/__init__.py:52: UserWarning: CUDA initialization: Found no NVIDIA driver on your system. Please check that you have an NVIDIA GPU and installed a driver from http://www.nvidia.com/Download/index.aspx (Triggered internally at  /opt/conda/conda-bld/pytorch_1607370172916/work/c10/cuda/CUDAFunctions.cpp:100.)\n",
      "  return torch._C._cuda_getDeviceCount() > 0\n",
      "/home/miguel/anaconda3/lib/python3.8/site-packages/torch/nn/modules/container.py:435: UserWarning: Setting attributes on ParameterList is not supported.\n",
      "  warnings.warn(\"Setting attributes on ParameterList is not supported.\")\n"
     ]
    },
    {
     "name": "stdout",
     "output_type": "stream",
     "text": [
      "Currently making  2021-04-05 00:00:00  prediction\n",
      "Currently making  2021-04-06 00:00:00  prediction\n",
      "Currently making  2021-04-07 00:00:00  prediction\n",
      "Currently making  2021-04-08 00:00:00  prediction\n",
      "Currently making  2021-04-09 00:00:00  prediction\n",
      "Currently making  2021-04-10 00:00:00  prediction\n",
      "Currently making  2021-04-11 00:00:00  prediction\n",
      "Currently making  2021-04-12 00:00:00  prediction\n",
      "Currently making  2021-04-13 00:00:00  prediction\n",
      "Currently making  2021-04-14 00:00:00  prediction\n",
      "Currently making  2021-04-15 00:00:00  prediction\n",
      "Currently making  2021-04-16 00:00:00  prediction\n",
      "Currently making  2021-04-17 00:00:00  prediction\n",
      "Currently making  2021-04-18 00:00:00  prediction\n",
      "Currently making  2021-04-19 00:00:00  prediction\n",
      "Currently making  2021-04-20 00:00:00  prediction\n",
      "Currently making  2021-04-21 00:00:00  prediction\n",
      "Currently making  2021-04-22 00:00:00  prediction\n",
      "Updated to  2021-04-22\n"
     ]
    }
   ],
   "source": [
    "#hide\n",
    "updatePredicts()"
   ]
  },
  {
   "cell_type": "markdown",
   "metadata": {},
   "source": [
    "updatePredicts(): Hace prediciones desde el último día guardado del fichero de prediciones 'days' veces y las guarda en el fichero."
   ]
  },
  {
   "cell_type": "code",
   "execution_count": null,
   "metadata": {},
   "outputs": [],
   "source": [
    "#export\n",
    "def doNewPredicts(days):\n",
    "    path=getInfo(\"csvdirectory\")+\"predictionData.csv\"\n",
    "    datapredict=loadPredict()\n",
    "    \n",
    "    \n",
    "    if(not datapredict.empty):\n",
    "        datestart=pd.to_datetime(datapredict.iloc[-1].Date)-datetime.timedelta(1)\n",
    "    else:\n",
    "        datestart=datetime.datetime.today().date()-datetime.timedelta(1)\n",
    "    for numdays in range(days): \n",
    "        print(datestart-datetime.timedelta(numdays))\n",
    "        currentpredict=getAllHorizonPrediction(datestart-datetime.timedelta(numdays))\n",
    "        datapredict=pd.concat([datapredict,pd.DataFrame(currentpredict,columns=COLUMNS)], ignore_index=True)\n",
    "        print(\"updated\")\n",
    "        savePredict(datapredict)"
   ]
  },
  {
   "cell_type": "code",
   "execution_count": null,
   "metadata": {},
   "outputs": [
    {
     "name": "stdout",
     "output_type": "stream",
     "text": [
      "2021-03-27 00:00:00\n",
      "updated\n",
      "2021-03-26 00:00:00\n",
      "updated\n"
     ]
    }
   ],
   "source": [
    "#hide\n",
    "doNewPredicts(2)"
   ]
  },
  {
   "cell_type": "code",
   "execution_count": null,
   "metadata": {},
   "outputs": [
    {
     "data": {
      "text/html": [
       "<div>\n",
       "<style scoped>\n",
       "    .dataframe tbody tr th:only-of-type {\n",
       "        vertical-align: middle;\n",
       "    }\n",
       "\n",
       "    .dataframe tbody tr th {\n",
       "        vertical-align: top;\n",
       "    }\n",
       "\n",
       "    .dataframe thead th {\n",
       "        text-align: right;\n",
       "    }\n",
       "</style>\n",
       "<table border=\"1\" class=\"dataframe\">\n",
       "  <thead>\n",
       "    <tr style=\"text-align: right;\">\n",
       "      <th></th>\n",
       "      <th>Date</th>\n",
       "      <th>H3</th>\n",
       "      <th>H5</th>\n",
       "      <th>H7</th>\n",
       "      <th>H10</th>\n",
       "      <th>H14</th>\n",
       "      <th>H21</th>\n",
       "      <th>H27</th>\n",
       "    </tr>\n",
       "  </thead>\n",
       "  <tbody>\n",
       "    <tr>\n",
       "      <th>89</th>\n",
       "      <td>2021-01-04 00:00:00</td>\n",
       "      <td>[[76.58043306138781, 76.59492645263671, 76.106...</td>\n",
       "      <td>[[76.64379077487521, 76.0216374291314, 75.4005...</td>\n",
       "      <td>[[77.82317648993597, 76.00651982625325, 75.151...</td>\n",
       "      <td>[[76.03544362386067, 75.0366815355089, 75.0621...</td>\n",
       "      <td>[[76.81720411512586, 76.39197447035048, 74.789...</td>\n",
       "      <td>[[75.74988216824002, 74.60072775946723, 73.404...</td>\n",
       "      <td>[[77.56344570583768, 76.00822821723091, 73.800...</td>\n",
       "    </tr>\n",
       "    <tr>\n",
       "      <th>90</th>\n",
       "      <td>2021-01-03 00:00:00</td>\n",
       "      <td>[[78.28685175577799, 78.35777401394314, 77.904...</td>\n",
       "      <td>[[78.76345876057943, 78.14849264356825, 77.769...</td>\n",
       "      <td>[[79.63974155849881, 77.6310499827067, 77.6632...</td>\n",
       "      <td>[[79.36880052354601, 78.54637218051487, 78.182...</td>\n",
       "      <td>[[77.80535134209526, 77.43764055040148, 75.476...</td>\n",
       "      <td>[[76.88357726203071, 75.58228666517469, 74.638...</td>\n",
       "      <td>[[78.09065551757813, 76.74893383449978, 74.390...</td>\n",
       "    </tr>\n",
       "    <tr>\n",
       "      <th>91</th>\n",
       "      <td>2021-01-02 00:00:00</td>\n",
       "      <td>[[79.4894888136122, 79.70341186523437, 79.1418...</td>\n",
       "      <td>[[79.30729844835069, 78.73648028903537, 78.303...</td>\n",
       "      <td>[[79.61578330993652, 78.50963575575086, 77.967...</td>\n",
       "      <td>[[79.84930046929253, 78.26517935858833, 77.520...</td>\n",
       "      <td>[[78.32853257921008, 77.85177976820204, 75.919...</td>\n",
       "      <td>[[77.4058464050293, 76.29005444844564, 74.9815...</td>\n",
       "      <td>[[79.1779529147678, 77.95882653130425, 75.1719...</td>\n",
       "    </tr>\n",
       "    <tr>\n",
       "      <th>92</th>\n",
       "      <td>2021-01-01 00:00:00</td>\n",
       "      <td>[[78.51016743977864, 77.97145161098904, 76.726...</td>\n",
       "      <td>[[78.09905480278863, 77.56652687920464, 76.333...</td>\n",
       "      <td>[[78.83145798577203, 78.16909908718533, 77.300...</td>\n",
       "      <td>[[79.31828206380209, 77.3329145219591, 76.4457...</td>\n",
       "      <td>[[78.82514894273547, 77.67510664198133, 75.632...</td>\n",
       "      <td>[[77.85925877888998, 77.11214993794759, 75.412...</td>\n",
       "      <td>[[79.54078576829698, 78.50568283928766, 74.850...</td>\n",
       "    </tr>\n",
       "    <tr>\n",
       "      <th>93</th>\n",
       "      <td>2020-12-31 00:00:00</td>\n",
       "      <td>[[79.27649824354384, 78.84107373555501, 77.506...</td>\n",
       "      <td>[[78.25406790839301, 77.4279780069987, 76.1410...</td>\n",
       "      <td>[[79.10408070882161, 77.12043033175998, 75.992...</td>\n",
       "      <td>[[80.67364857991537, 78.85228941175673, 77.599...</td>\n",
       "      <td>[[79.41536042955187, 78.36159066094292, 75.296...</td>\n",
       "      <td>[[79.06205215454102, 78.39445868598091, 76.570...</td>\n",
       "      <td>[[80.70089967515733, 78.80943340725369, 76.021...</td>\n",
       "    </tr>\n",
       "  </tbody>\n",
       "</table>\n",
       "</div>"
      ],
      "text/plain": [
       "                   Date                                                 H3  \\\n",
       "89  2021-01-04 00:00:00  [[76.58043306138781, 76.59492645263671, 76.106...   \n",
       "90  2021-01-03 00:00:00  [[78.28685175577799, 78.35777401394314, 77.904...   \n",
       "91  2021-01-02 00:00:00  [[79.4894888136122, 79.70341186523437, 79.1418...   \n",
       "92  2021-01-01 00:00:00  [[78.51016743977864, 77.97145161098904, 76.726...   \n",
       "93  2020-12-31 00:00:00  [[79.27649824354384, 78.84107373555501, 77.506...   \n",
       "\n",
       "                                                   H5  \\\n",
       "89  [[76.64379077487521, 76.0216374291314, 75.4005...   \n",
       "90  [[78.76345876057943, 78.14849264356825, 77.769...   \n",
       "91  [[79.30729844835069, 78.73648028903537, 78.303...   \n",
       "92  [[78.09905480278863, 77.56652687920464, 76.333...   \n",
       "93  [[78.25406790839301, 77.4279780069987, 76.1410...   \n",
       "\n",
       "                                                   H7  \\\n",
       "89  [[77.82317648993597, 76.00651982625325, 75.151...   \n",
       "90  [[79.63974155849881, 77.6310499827067, 77.6632...   \n",
       "91  [[79.61578330993652, 78.50963575575086, 77.967...   \n",
       "92  [[78.83145798577203, 78.16909908718533, 77.300...   \n",
       "93  [[79.10408070882161, 77.12043033175998, 75.992...   \n",
       "\n",
       "                                                  H10  \\\n",
       "89  [[76.03544362386067, 75.0366815355089, 75.0621...   \n",
       "90  [[79.36880052354601, 78.54637218051487, 78.182...   \n",
       "91  [[79.84930046929253, 78.26517935858833, 77.520...   \n",
       "92  [[79.31828206380209, 77.3329145219591, 76.4457...   \n",
       "93  [[80.67364857991537, 78.85228941175673, 77.599...   \n",
       "\n",
       "                                                  H14  \\\n",
       "89  [[76.81720411512586, 76.39197447035048, 74.789...   \n",
       "90  [[77.80535134209526, 77.43764055040148, 75.476...   \n",
       "91  [[78.32853257921008, 77.85177976820204, 75.919...   \n",
       "92  [[78.82514894273547, 77.67510664198133, 75.632...   \n",
       "93  [[79.41536042955187, 78.36159066094292, 75.296...   \n",
       "\n",
       "                                                  H21  \\\n",
       "89  [[75.74988216824002, 74.60072775946723, 73.404...   \n",
       "90  [[76.88357726203071, 75.58228666517469, 74.638...   \n",
       "91  [[77.4058464050293, 76.29005444844564, 74.9815...   \n",
       "92  [[77.85925877888998, 77.11214993794759, 75.412...   \n",
       "93  [[79.06205215454102, 78.39445868598091, 76.570...   \n",
       "\n",
       "                                                  H27  \n",
       "89  [[77.56344570583768, 76.00822821723091, 73.800...  \n",
       "90  [[78.09065551757813, 76.74893383449978, 74.390...  \n",
       "91  [[79.1779529147678, 77.95882653130425, 75.1719...  \n",
       "92  [[79.54078576829698, 78.50568283928766, 74.850...  \n",
       "93  [[80.70089967515733, 78.80943340725369, 76.021...  "
      ]
     },
     "execution_count": null,
     "metadata": {},
     "output_type": "execute_result"
    }
   ],
   "source": [
    "#hide\n",
    "#Result 1:20\n",
    "a=loadPredict()\n",
    "a.tail()"
   ]
  },
  {
   "cell_type": "code",
   "execution_count": null,
   "metadata": {},
   "outputs": [
    {
     "name": "stdout",
     "output_type": "stream",
     "text": [
      "File not accessible\n",
      "The file does not exist, you should make predictions to update\n"
     ]
    }
   ],
   "source": [
    "updatePredicts()"
   ]
  },
  {
   "cell_type": "code",
   "execution_count": null,
   "metadata": {},
   "outputs": [
    {
     "name": "stdout",
     "output_type": "stream",
     "text": [
      "2021-01-07 00:00:00\n"
     ]
    },
    {
     "name": "stderr",
     "output_type": "stream",
     "text": [
      "/home/miguel/anaconda3/lib/python3.8/site-packages/torch/nn/modules/container.py:435: UserWarning: Setting attributes on ParameterList is not supported.\n",
      "  warnings.warn(\"Setting attributes on ParameterList is not supported.\")\n"
     ]
    },
    {
     "name": "stdout",
     "output_type": "stream",
     "text": [
      "updated\n",
      "2021-01-06 00:00:00\n",
      "updated\n",
      "2021-01-05 00:00:00\n",
      "updated\n",
      "2021-01-04 00:00:00\n",
      "updated\n",
      "2021-01-03 00:00:00\n",
      "updated\n",
      "2021-01-02 00:00:00\n",
      "updated\n",
      "2021-01-01 00:00:00\n",
      "updated\n",
      "2020-12-31 00:00:00\n",
      "updated\n"
     ]
    }
   ],
   "source": [
    "doNewPredicts(8)"
   ]
  },
  {
   "cell_type": "markdown",
   "metadata": {},
   "source": [
    "infoDatesPredicts(): Devuelve los días entre los que comprende el fichero de datos."
   ]
  },
  {
   "cell_type": "code",
   "execution_count": null,
   "metadata": {},
   "outputs": [],
   "source": [
    "#export\n",
    "def infoDatesPredicts():\n",
    "    startdate=None\n",
    "    enddate=None\n",
    "    if startdate==None:\n",
    "        print(\"empty\")\n",
    "    datapredict=loadPredict()\n",
    "    if(not datapredict.empty): \n",
    "        startdate=pd.to_datetime(datapredict.iloc[0].Date)\n",
    "        enddate=pd.to_datetime(datapredict.iloc[-1].Date)\n",
    "    return startdate,enddate"
   ]
  },
  {
   "cell_type": "code",
   "execution_count": null,
   "metadata": {},
   "outputs": [
    {
     "name": "stdout",
     "output_type": "stream",
     "text": [
      "empty\n"
     ]
    },
    {
     "data": {
      "text/plain": [
       "(Timestamp('2021-04-22 00:00:00'), Timestamp('2020-12-31 00:00:00'))"
      ]
     },
     "execution_count": null,
     "metadata": {},
     "output_type": "execute_result"
    }
   ],
   "source": [
    "#hide\n",
    "infoDatesPredicts()"
   ]
  },
  {
   "cell_type": "code",
   "execution_count": null,
   "metadata": {},
   "outputs": [],
   "source": []
  }
 ],
 "metadata": {
  "kernelspec": {
   "display_name": "Python 3",
   "language": "python",
   "name": "python3"
  }
 },
 "nbformat": 4,
 "nbformat_minor": 4
}
