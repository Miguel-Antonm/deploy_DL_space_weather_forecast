{
 "cells": [
  {
   "cell_type": "code",
   "execution_count": null,
   "metadata": {},
   "outputs": [],
   "source": [
    "# default_exp menu"
   ]
  },
  {
   "cell_type": "markdown",
   "metadata": {},
   "source": [
    "# Menu"
   ]
  },
  {
   "cell_type": "code",
   "execution_count": null,
   "metadata": {},
   "outputs": [],
   "source": [
    "#export\n",
    "\n",
    "import os\n",
    "import datetime\n",
    "\n",
    "from fastcore.script import * # @Callparser\n",
    "\n",
    "from swfd.web_scraping import webScraping \n",
    "from swfd.download_model import downloadModel\n",
    "from swfd.resources import getInfo\n",
    "from swfd.manage_data import updatePredicts,doNewPredicts,infoDatesPredicts"
   ]
  },
  {
   "cell_type": "markdown",
   "metadata": {},
   "source": [
    "createFile(): Crea documento txt con el formato correcto."
   ]
  },
  {
   "cell_type": "code",
   "execution_count": null,
   "metadata": {},
   "outputs": [],
   "source": [
    "#export\n",
    "def createFile():\n",
    "    archi1=open(\"settings.txt\",\"w\") \n",
    "    archi1.write(\"user=''\\n\") \n",
    "    archi1.write(\"password=''\\n\") \n",
    "    archi1.write(\"csvdirectory=''\\n\")  \n",
    "    archi1.write(\"pthdirectory=''\\n\")  \n",
    "    archi1.close() "
   ]
  },
  {
   "cell_type": "code",
   "execution_count": null,
   "metadata": {},
   "outputs": [],
   "source": [
    "createFile()"
   ]
  },
  {
   "cell_type": "markdown",
   "metadata": {},
   "source": [
    "changeTxtOption(): Actualiza la línea correspondiente del txt de información al valor que decida el usuario."
   ]
  },
  {
   "cell_type": "code",
   "execution_count": null,
   "metadata": {},
   "outputs": [],
   "source": [
    "#export\n",
    "def changeTxtOption(line_num,option):\n",
    "    \n",
    "    with open(\"settings.txt\", 'r') as txt:\n",
    "        lines = txt.readlines()\n",
    "        value=lines[line_num].split(\"'\")[-2]\n",
    "        \n",
    "      \n",
    "        if option != \"password\" and value!='':\n",
    "            print(\"Current \"+option+\" value: \"+value)    \n",
    "        if option==\"csvdirectory\" or option==\"pthdirectory\": \n",
    "            print(\"It must starts and ends with / \\nE.g: /home/user/desktop/folder1/csvfolder/ \")\n",
    "            \n",
    "        inputstring = str(input(\"Enter the value for \"+option+\" (write '0' to back): \"))\n",
    "        \n",
    "        if(inputstring!=\"0\"):\n",
    "            print(\"prueba\"+lines[line_num] +\"\\n\")\n",
    "            lines[line_num] = option+\"='\"+inputstring+\"'\\n\"\n",
    "            with open(\"settings.txt\", 'w') as txt:\n",
    "                txt.writelines(lines)\n",
    "                print(option+\" update\")\n",
    "                "
   ]
  },
  {
   "cell_type": "markdown",
   "metadata": {},
   "source": [
    "showTxtOptions():Funcion que muestra todos los parámetros excepto password"
   ]
  },
  {
   "cell_type": "code",
   "execution_count": null,
   "metadata": {},
   "outputs": [],
   "source": [
    "#export\n",
    "def showTxtOptions():\n",
    "    try:\n",
    "        with open(\"settings.txt\", 'r') as txt:\n",
    "            try:\n",
    "                lines = txt.readlines()\n",
    "                print(\"**********txt************\\n\")\n",
    "                for line in lines:\n",
    "                    option=line.split(\"=\")[-2]\n",
    "                    if(option != \"password\"):\n",
    "                        print(line)\n",
    "                print(\"\\n*************************\\n\")\n",
    "            finally:\n",
    "                txt.close()\n",
    "    except IOError:\n",
    "        print(\"File not accessible\")   \n"
   ]
  },
  {
   "cell_type": "code",
   "execution_count": null,
   "metadata": {},
   "outputs": [
    {
     "name": "stdout",
     "output_type": "stream",
     "text": [
      "**********txt************\n",
      "\n",
      "user=''\n",
      "\n",
      "csvdirectory=''\n",
      "\n",
      "pthdirectory=''\n",
      "\n",
      "\n",
      "*************************\n",
      "\n"
     ]
    }
   ],
   "source": [
    "showTxtOptions()"
   ]
  },
  {
   "cell_type": "markdown",
   "metadata": {},
   "source": [
    "chooseOption(): Pide al usuario un numero y lo devuelve."
   ]
  },
  {
   "cell_type": "code",
   "execution_count": null,
   "metadata": {},
   "outputs": [],
   "source": [
    "#export\n",
    "def chooseOption():\n",
    "    isnumber=False\n",
    "    while(not isnumber):\n",
    "        try:\n",
    "            option = int(input(\"Enter the number of the option: \"))\n",
    "            isnumber=True\n",
    "        except ValueError:\n",
    "            print('Error, Need a correct option')\n",
    "     \n",
    "    return option"
   ]
  },
  {
   "cell_type": "markdown",
   "metadata": {},
   "source": [
    "showmenu(): Muestra el menu principal y hace las opciones correspondientes para cada opcion."
   ]
  },
  {
   "cell_type": "code",
   "execution_count": null,
   "metadata": {},
   "outputs": [],
   "source": [
    "#export\n",
    "def showmenu():\n",
    "    os.system (\"clear\") \n",
    "    exit=False\n",
    "    while not exit:\n",
    "        \n",
    "        print(\"\\n*******\\n1-Download sfu data\\n2-Download model\\n3-Prediction settings\\n4-Txt settings\\n5-Exit\\n*******\\n\")\n",
    "        option=chooseOption()\n",
    "        if option == 1:\n",
    "            webScraping()\n",
    "        elif option == 2:\n",
    "            downloadModel()\n",
    "        elif option == 3:\n",
    "            showPredictionsMenu()\n",
    "        elif option == 4:\n",
    "            showTxtMenu()\n",
    "        elif option == 5:\n",
    "            exit = True\n",
    "        else:\n",
    "            print (\"\\n\\nOption has to be between 1 and 5\")"
   ]
  },
  {
   "cell_type": "markdown",
   "metadata": {},
   "source": [
    "showPredictionsMenu(): Muestra el menu de prediciones y hace las opciones correspondientes para cada opcion."
   ]
  },
  {
   "cell_type": "code",
   "execution_count": null,
   "metadata": {},
   "outputs": [],
   "source": [
    "#export\n",
    "def showPredictionsMenu():\n",
    "    if os.path.isdir(getInfo(\"csvdirectory\")):\n",
    "        os.system (\"clear\") \n",
    "        if(not os.path.isfile(getInfo(\"csvdirectory\")+\"predictionData.csv\")):\n",
    "            print(\"\\npredictionData.csv not found, It will create and make new prediction\\n\")\n",
    "            doNewPredicts(1)\n",
    "        \n",
    "        exit=False\n",
    "        while not exit:\n",
    "            print(\"\\n*******\\n1-Update predictions until today\\n2-Extend past predictions\\n3-back\\n*******\\n\")\n",
    "            startdate,enddate=infoDatesPredicts()\n",
    "            if(startdate!=None and enddate!=None):\n",
    "                print(\"\\n\\nFirst date loaded is: \",startdate.strftime(\"%Y-%m-%d\"),\"\\nLast date loaded is: \",enddate.strftime(\"%Y-%m-%d\"))\n",
    "                option=chooseOption()\n",
    "            else:\n",
    "                print(\"You must predict first to use the file\")\n",
    "                option=2\n",
    "\n",
    "            if option == 1:\n",
    "                updatePredicts()\n",
    "            elif option == 2:\n",
    "                isnumber=False\n",
    "                while(not isnumber):\n",
    "                    try:\n",
    "                        days = int(input(\"Enter the number of days to predict from {}: \".format(enddate)))\n",
    "                        isnumber=True\n",
    "                    except ValueError:\n",
    "                        print('Error, Need a correct option')\n",
    "                doNewPredicts(days)\n",
    "            elif option == 3:\n",
    "                exit = True\n",
    "            else:\n",
    "                print (\"\\n\\nOption has to be between 1 and 3\")\n",
    "    else:\n",
    "        print(\"\\nPath to csv folder not found\\n\")"
   ]
  },
  {
   "cell_type": "markdown",
   "metadata": {},
   "source": [
    "showTxtMenu(): Muestra el menu del documento de texto y hace las opciones correspondientes para cada opcion."
   ]
  },
  {
   "cell_type": "code",
   "execution_count": null,
   "metadata": {},
   "outputs": [],
   "source": [
    "#export\n",
    "def showTxtMenu():\n",
    "    os.system (\"clear\") \n",
    "    exit=False\n",
    "    while not exit:\n",
    "        print(\"\\n*******\\n1-Change ESA user\\n2-Change ESA password\\n3-Change csv directory\\n4-Change pth directory\\n5-Show txt\\n6-Back\\n*******\\n\")\n",
    "        option=chooseOption()\n",
    "        if option == 1:\n",
    "            changeTxtOption(0,\"user\")\n",
    "        elif option == 2:\n",
    "            changeTxtOption(1,\"password\")\n",
    "        elif option == 3:\n",
    "            changeTxtOption(2,\"csvdirectory\")\n",
    "        elif option == 4:\n",
    "            changeTxtOption(3,\"pthdirectory\")\n",
    "        elif option == 5:\n",
    "            showTxtOptions()\n",
    "        elif option == 6:\n",
    "            exit = True\n",
    "        else:\n",
    "            print (\"\\n\\nOption has to be between 1 and 6\")"
   ]
  },
  {
   "cell_type": "code",
   "execution_count": null,
   "metadata": {},
   "outputs": [],
   "source": [
    "#export\n",
    "@call_parse\n",
    "def main():\n",
    "    if not os.path.isfile(\"settings.txt\"):\n",
    "        createFile()\n",
    "    showmenu()"
   ]
  },
  {
   "cell_type": "code",
   "execution_count": null,
   "metadata": {},
   "outputs": [
    {
     "name": "stdout",
     "output_type": "stream",
     "text": [
      "\n",
      "*******\n",
      "1-Download sfu data\n",
      "2-Download model\n",
      "3-Prediction settings\n",
      "4-Txt settings\n",
      "5-Exit\n",
      "*******\n",
      "\n",
      "Enter the number of the option: 2\n",
      "[Errno 2] No such file or directory: 'ensembleH3.txt'\n",
      "[Errno 2] No such file or directory: 'ensembleH5H7.txt'\n",
      "[Errno 2] No such file or directory: 'ensembleH10H14.txt'\n",
      "[Errno 2] No such file or directory: 'ensembleH21H27.txt'\n",
      "\n",
      "*******\n",
      "1-Download sfu data\n",
      "2-Download model\n",
      "3-Prediction settings\n",
      "4-Txt settings\n",
      "5-Exit\n",
      "*******\n",
      "\n",
      "Enter the number of the option: 2\n",
      "[Errno 2] No such file or directory: 'ensembleH3.txt'\n",
      "[Errno 2] No such file or directory: 'ensembleH5H7.txt'\n",
      "[Errno 2] No such file or directory: 'ensembleH10H14.txt'\n",
      "[Errno 2] No such file or directory: 'ensembleH21H27.txt'\n",
      "\n",
      "*******\n",
      "1-Download sfu data\n",
      "2-Download model\n",
      "3-Prediction settings\n",
      "4-Txt settings\n",
      "5-Exit\n",
      "*******\n",
      "\n",
      "Enter the number of the option: 2\n",
      "Collecting runs on ensembleH3.txt\n",
      "[Errno 2] No such file or directory: '../test/pth/ensembleH5H7.txt'\n",
      "[Errno 2] No such file or directory: '../test/pth/ensembleH10H14.txt'\n",
      "[Errno 2] No such file or directory: '../test/pth/ensembleH21H27.txt'\n",
      "\n",
      "*******\n",
      "1-Download sfu data\n",
      "2-Download model\n",
      "3-Prediction settings\n",
      "4-Txt settings\n",
      "5-Exit\n",
      "*******\n",
      "\n",
      "Enter the number of the option: 2\n",
      "Collecting runs on ensembleH3.txt\n",
      "[Errno 2] No such file or directory: '../test/pth/ensembleH5H7.txt'\n",
      "[Errno 2] No such file or directory: '../test/pth/ensembleH10H14.txt'\n",
      "Collecting runs on ensembleH21H27.txt\n"
     ]
    }
   ],
   "source": [
    "#main()"
   ]
  },
  {
   "cell_type": "code",
   "execution_count": null,
   "metadata": {},
   "outputs": [],
   "source": []
  }
 ],
 "metadata": {
  "kernelspec": {
   "display_name": "Python 3",
   "language": "python",
   "name": "python3"
  }
 },
 "nbformat": 4,
 "nbformat_minor": 4
}
