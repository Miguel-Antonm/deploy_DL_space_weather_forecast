{
 "cells": [
  {
   "cell_type": "code",
   "execution_count": null,
   "metadata": {},
   "outputs": [],
   "source": [
    "# default_exp menu"
   ]
  },
  {
   "cell_type": "markdown",
   "metadata": {},
   "source": [
    "# Menu"
   ]
  },
  {
   "cell_type": "code",
   "execution_count": null,
   "metadata": {},
   "outputs": [
    {
     "name": "stdout",
     "output_type": "stream",
     "text": [
      "The autoreload extension is already loaded. To reload it, use:\n",
      "  %reload_ext autoreload\n"
     ]
    }
   ],
   "source": [
    "#hide\n",
    "from nbdev.showdoc import *\n",
    "import sys\n",
    "sys.path.append(\"..\")\n",
    "%load_ext autoreload\n",
    "%autoreload 2"
   ]
  },
  {
   "cell_type": "code",
   "execution_count": null,
   "metadata": {},
   "outputs": [],
   "source": [
    "#export\n",
    "\n",
    "import os\n",
    "import datetime\n",
    "\n",
    "from fastcore.script import * # @Callparser\n",
    "\n",
    "from swfd.resources import back\n",
    "from swfd.web_scraping import webScraping \n",
    "from swfd.download_model import downloadmodel\n",
    "from swfd.manageDataAndModel import updatePredicts,doNewPredicts,infoDatesPredicts"
   ]
  },
  {
   "cell_type": "markdown",
   "metadata": {},
   "source": [
    "createFile(): Crea documento txt con el formato correcto."
   ]
  },
  {
   "cell_type": "code",
   "execution_count": null,
   "metadata": {},
   "outputs": [],
   "source": [
    "#export\n",
    "def createFile():\n",
    "    archi1=open(back()+\"infouser.txt\",\"w\") \n",
    "    archi1.write(\"user=''\\n\") \n",
    "    archi1.write(\"password=''\\n\") \n",
    "    archi1.write(\"csvdirectory=''\\n\")  \n",
    "    archi1.write(\"pthdirectory=''\\n\")  \n",
    "    archi1.close() "
   ]
  },
  {
   "cell_type": "markdown",
   "metadata": {},
   "source": [
    "changeTxtOption(): Actualiza la línea correspondiente del txt de información al valor que decida el usuario."
   ]
  },
  {
   "cell_type": "code",
   "execution_count": null,
   "metadata": {},
   "outputs": [],
   "source": [
    "#export\n",
    "def changeTxtOption(line_num,option):\n",
    "    \n",
    "    with open(back()+\"infouser.txt\", 'r') as txt:\n",
    "        lines = txt.readlines()\n",
    "        print(\"prueba1  \"+lines[line_num] )\n",
    "        value=lines[line_num].split(\"'\")[-2]\n",
    "        \n",
    "        if option != \"password\" and value=='':\n",
    "            print(\"Current \"+option+\" value: \"+value)\n",
    "            \n",
    "        inputstring = str(input(\"Enter the value for \"+option+\" (write '0' to back): \"))\n",
    "        if(option!=\"0\"):\n",
    "            print(\"prueba\"+lines[line_num] +\"\\n\")\n",
    "            lines[line_num] = option+\"='\"+inputstring+\"'\\n\"\n",
    "            with open(back()+\"infouser.txt\", 'w') as txt:\n",
    "                txt.writelines(lines)\n",
    "                print(option+\" update\")"
   ]
  },
  {
   "cell_type": "markdown",
   "metadata": {},
   "source": [
    "chooseOption(): Pide al usuario un numero y lo devuelve."
   ]
  },
  {
   "cell_type": "code",
   "execution_count": null,
   "metadata": {},
   "outputs": [],
   "source": [
    "#export\n",
    "def chooseOption():\n",
    "    isnumber=False\n",
    "    while(not isnumber):\n",
    "        try:\n",
    "            option = int(input(\"Enter the number of the option: \"))\n",
    "            isnumber=True\n",
    "        except ValueError:\n",
    "            print('Error, Need a correct option')\n",
    "     \n",
    "    return option"
   ]
  },
  {
   "cell_type": "markdown",
   "metadata": {},
   "source": [
    "showmenu(): Muestra el menu principal y hace las opciones correspondientes para cada opcion."
   ]
  },
  {
   "cell_type": "code",
   "execution_count": null,
   "metadata": {},
   "outputs": [],
   "source": [
    "#export\n",
    "def showmenu():\n",
    "    os.system (\"clear\") \n",
    "    exit=False\n",
    "    while not exit:\n",
    "        \n",
    "        print(\"1-Download sfu data\\n2-Download model\\n3-Prediction settings\\n4-Txt settings\\n5-Exit\")\n",
    "        option=chooseOption()\n",
    "        if option == 1:\n",
    "            webScraping()\n",
    "        elif option == 2:\n",
    "            downloadmodel()\n",
    "        elif option == 3:\n",
    "            showPredictionsMenu()\n",
    "        elif option == 4:\n",
    "            showTxtMenu()\n",
    "        elif option == 5:\n",
    "            exit = True\n",
    "        else:\n",
    "            print (\"\\n\\nOption has to be between 1 and 5\")"
   ]
  },
  {
   "cell_type": "markdown",
   "metadata": {},
   "source": [
    "showPredictionsMenu(): Muestra el menu de prediciones y hace las opciones correspondientes para cada opcion."
   ]
  },
  {
   "cell_type": "code",
   "execution_count": null,
   "metadata": {},
   "outputs": [],
   "source": [
    "#export\n",
    "def showPredictionsMenu():\n",
    "    os.system (\"clear\") \n",
    "    exit=False\n",
    "    while not exit:\n",
    "        print(\"1-Update predictions until today\\n2-Extend past predictions\\n3-back\\n\")\n",
    "        startdate,enddate=infoDatesPredicts()\n",
    "        print(\"******* start\",startdate,\"  end \",enddate) #Arreglar\n",
    "        option=chooseOption()\n",
    "        if option == 1:\n",
    "            updatePredicts()\n",
    "        elif option == 2:\n",
    "            isnumber=False\n",
    "            while(not isnumber):\n",
    "                try:\n",
    "                    days = int(input(\"Enter the number of days to predict from {}: \".format(enddate)))\n",
    "                    isnumber=True\n",
    "                except ValueError:\n",
    "                    print('Error, Need a correct option')\n",
    "            doNewPredicts(days)\n",
    "        elif option == 3:\n",
    "            exit = True\n",
    "        else:\n",
    "            print (\"\\n\\nOption has to be between 1 and 3\")"
   ]
  },
  {
   "cell_type": "markdown",
   "metadata": {},
   "source": [
    "showTxtMenu(): Muestra el menu del documento de texto y hace las opciones correspondientes para cada opcion."
   ]
  },
  {
   "cell_type": "code",
   "execution_count": null,
   "metadata": {},
   "outputs": [],
   "source": [
    "#export\n",
    "def showTxtMenu():\n",
    "    os.system (\"clear\") \n",
    "    exit=False\n",
    "    while not exit:\n",
    "        print(\"1-Change ESA user\\n2-Change ESA password\\n3-Change csv directory\\n4-Change pth directory\\n5-Back\")\n",
    "        option=chooseOption()\n",
    "        if option == 1:\n",
    "            changeTxtOption(0,\"user\")\n",
    "        elif option == 2:\n",
    "            changeTxtOption(1,\"password\")\n",
    "        elif option == 3:\n",
    "            changeTxtOption(2,\"csvdirectory\")\n",
    "        elif option == 4:\n",
    "            changeTxtOption(3,\"pthdirectory\")\n",
    "        elif option == 5:\n",
    "            exit = True\n",
    "        else:\n",
    "            print (\"\\n\\nOption has to be between 1 and 5\")"
   ]
  },
  {
   "cell_type": "code",
   "execution_count": null,
   "metadata": {},
   "outputs": [],
   "source": [
    "#export\n",
    "@call_parse\n",
    "def main():\n",
    "    if not os.path.isfile(back()+'infouser.txt'):\n",
    "        createFile()\n",
    "    showmenu()"
   ]
  },
  {
   "cell_type": "code",
   "execution_count": null,
   "metadata": {},
   "outputs": [],
   "source": []
  },
  {
   "cell_type": "code",
   "execution_count": null,
   "metadata": {},
   "outputs": [],
   "source": []
  }
 ],
 "metadata": {
  "kernelspec": {
   "display_name": "Python 3",
   "language": "python",
   "name": "python3"
  }
 },
 "nbformat": 4,
 "nbformat_minor": 4
}
