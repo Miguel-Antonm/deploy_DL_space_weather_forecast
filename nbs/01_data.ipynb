{
 "cells": [
  {
   "cell_type": "code",
   "execution_count": null,
   "metadata": {},
   "outputs": [],
   "source": [
    "# default_exp data"
   ]
  },
  {
   "cell_type": "markdown",
   "metadata": {},
   "source": [
    "# Data"
   ]
  },
  {
   "cell_type": "code",
   "execution_count": null,
   "metadata": {},
   "outputs": [],
   "source": [
    "#hide\n",
    "from nbdev.showdoc import *\n",
    "import sys\n",
    "sys.path.append(\"..\")\n",
    "%load_ext autoreload\n",
    "%autoreload 2"
   ]
  },
  {
   "cell_type": "code",
   "execution_count": null,
   "metadata": {},
   "outputs": [],
   "source": [
    "#export\n",
    "import wandb\n",
    "from fastcore.script import *\n",
    "from swfd.resources import *"
   ]
  },
  {
   "cell_type": "markdown",
   "metadata": {},
   "source": [
    "getrunids(nametxt):"
   ]
  },
  {
   "cell_type": "code",
   "execution_count": null,
   "metadata": {},
   "outputs": [],
   "source": [
    "#export\n",
    "def getrunids(nametxt):\n",
    "    #Cambiar esto a uno estatico quiza dentro de proyecto\n",
    "    pathfoldercsv=getInfo(\"csvdirectory\")\n",
    "    datalist=[]\n",
    "    try:       \n",
    "        with open(str(pathfoldercsv)+str(nametxt), 'r') as myFile:\n",
    "            datalist=[line.rstrip() for line in myFile]\n",
    "                    \n",
    "        datalist.remove(\"ID\")\n",
    "        while('' in datalist):\n",
    "            datalist.remove('')\n",
    "    finally:\n",
    "        myFile.close()\n",
    "    return datalist"
   ]
  },
  {
   "cell_type": "markdown",
   "metadata": {},
   "source": [
    "downloadpth(path,idsweep): Funcion que descargar el fichero best.pth y config.yaml de todas las runs del sweep, guardandolo en la direccion del path"
   ]
  },
  {
   "cell_type": "code",
   "execution_count": null,
   "metadata": {},
   "outputs": [],
   "source": [
    "#export\n",
    "def downloadpth(nametxt,savedirectory):\n",
    "    api = wandb.Api()\n",
    "    runs_id=getrunids(nametxt)\n",
    "    runnumber=1\n",
    "    horizon=-1\n",
    "    for run_id in runs_id:\n",
    "            run =api.run(\"stardust-r/deep-learning-space-weather-forecasting/{}\".format(run_id))\n",
    "            #Comparamos el H anterior con el actual para resetear el contador de carpetas en caso de nuevo H\n",
    "            if(horizon != run.config[\"horizon\"]):\n",
    "                runnumber=1\n",
    "            else:\n",
    "                runnumber=1+runnumber\n",
    "            horizon=run.config['horizon']\n",
    "            pathHorizon=str(savedirectory)+\"ensembleH\"+str(horizon)\n",
    "            pathfile=str(pathHorizon)+\"/sweep_run_\"+str(runnumber)+\"/\"\n",
    "            for file in run.files():\n",
    "                if(file.name.find(\"config.yaml\")==0):\n",
    "                    file.download(pathfile,replace=True)\n",
    "                if(file.name.find(\"models/best.pth\")==0):\n",
    "                    file.download(pathfile,replace=True)\n"
   ]
  },
  {
   "cell_type": "markdown",
   "metadata": {},
   "source": [
    "downloadmodel(path): Llamada de la funcion downloadpth para cada una de los id_sweep necesarios para la funcion"
   ]
  },
  {
   "cell_type": "code",
   "execution_count": null,
   "metadata": {},
   "outputs": [],
   "source": [
    "#export\n",
    "def downloadmodel(path):\n",
    "    ensemblerunids=[\"ensembleH3.txt\",\"ensembleH5H7.txt\",\"ensembleH10H14.txt\",\"ensembleH21H27.txt\"]\n",
    "    \n",
    "    for ensemble in ensemblerunids:\n",
    "        print(ensemble)\n",
    "        downloadpth(ensemble,path)\n",
    "        #print(ensemble,path)"
   ]
  },
  {
   "cell_type": "code",
   "execution_count": null,
   "metadata": {},
   "outputs": [],
   "source": [
    "#export\n",
    "@call_parse\n",
    "def main():\n",
    "    path= getInfo(\"pthdirectory\")\n",
    "    downloadmodel(path)"
   ]
  },
  {
   "cell_type": "code",
   "execution_count": null,
   "metadata": {},
   "outputs": [
    {
     "name": "stdout",
     "output_type": "stream",
     "text": [
      "ensembleH3.txt\n",
      "ensembleH5H7.txt\n",
      "ensembleH10H14.txt\n",
      "ensembleH21H27.txt\n"
     ]
    }
   ],
   "source": [
    "#main()"
   ]
  },
  {
   "cell_type": "code",
   "execution_count": null,
   "metadata": {},
   "outputs": [],
   "source": []
  },
  {
   "cell_type": "code",
   "execution_count": null,
   "metadata": {},
   "outputs": [],
   "source": []
  }
 ],
 "metadata": {
  "kernelspec": {
   "display_name": "Python 3",
   "language": "python",
   "name": "python3"
  }
 },
 "nbformat": 4,
 "nbformat_minor": 4
}
