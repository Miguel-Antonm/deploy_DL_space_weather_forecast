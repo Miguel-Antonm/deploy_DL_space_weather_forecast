{
 "cells": [
  {
   "cell_type": "code",
   "execution_count": null,
   "metadata": {},
   "outputs": [],
   "source": [
    "# default_exp data"
   ]
  },
  {
   "cell_type": "markdown",
   "metadata": {},
   "source": [
    "# Data"
   ]
  },
  {
   "cell_type": "code",
   "execution_count": null,
   "metadata": {},
   "outputs": [],
   "source": [
    "#hide\n",
    "from nbdev.showdoc import *\n",
    "import sys\n",
    "sys.path.append(\"..\")\n",
    "%load_ext autoreload\n",
    "%autoreload 2"
   ]
  },
  {
   "cell_type": "code",
   "execution_count": null,
   "metadata": {},
   "outputs": [],
   "source": [
    "#export\n",
    "import torch\n",
    "import wandb\n",
    "import os\n",
    "import re\n",
    "from fastcore.script import *\n",
    "from swfd.web_scraping import *"
   ]
  },
  {
   "cell_type": "markdown",
   "metadata": {},
   "source": [
    "downloadpth(path,idsweep): Funcion que descargar el fichero best.pth y config.yaml de todas las runs del sweep, guardandolo en la direccion del path"
   ]
  },
  {
   "cell_type": "code",
   "execution_count": null,
   "metadata": {},
   "outputs": [],
   "source": [
    "#export\n",
    "def downloadpth(path,idsweep):\n",
    "    api = wandb.Api()\n",
    "    sweep = api.sweep(str(idsweep))\n",
    "    numberrun=1\n",
    "    horizon=-1\n",
    "    for run in sweep.runs:\n",
    "        #Comparamos el H anterior con el actual para resetear el contador de carpetas en caso de nuevo H\n",
    "        if(horizon != run.config[\"horizon\"]):\n",
    "            numberrun=1\n",
    "        else:\n",
    "            numberrun=1+numberrun\n",
    "        horizon=run.config[\"horizon\"]\n",
    "        pathHorizon=str(path)+\"ensembleH\"+str(horizon)\n",
    "        pathfile=str(pathHorizon)+\"/sweep_run_\"+str(numberrun)+\"/\"\n",
    "        \n",
    "        for file in run.files():\n",
    "            if(file.name.find(\"best.pth\")==0):\n",
    "                file.download(pathfile,replace=True)\n",
    "            if(file.name.find(\"config.yaml\")==0):\n",
    "                file.download(pathfile,replace=True)\n"
   ]
  },
  {
   "cell_type": "markdown",
   "metadata": {},
   "source": [
    "downloadmodel(path): Llamada de la funcion downloadpth para cada una de los id_sweep necesarios para la funcion"
   ]
  },
  {
   "cell_type": "code",
   "execution_count": null,
   "metadata": {},
   "outputs": [],
   "source": [
    "#export\n",
    "def downloadmodel(path):\n",
    "    ensembleH3 = \"ecstevenson/swe_pytorch_ensemble/2c28yzhn\"\n",
    "    ensembleH5H7 = \"ecstevenson/swe_pytorch_ensemble/6gkj1b5m\"\n",
    "    ensembleH10H14 = \"ecstevenson/swe_pytorch_ensemble/0mhqqzhc\"\n",
    "    ensembleH21H27 = \"ecstevenson/swe_pytorch_ensemble/oupg313c\"\n",
    "    downloadpth(path,ensembleH3)\n",
    "    downloadpth(path,ensembleH5H7)\n",
    "    downloadpth(path,ensembleH10H14)\n",
    "    downloadpth(path,ensembleH21H27)\n",
    "    "
   ]
  },
  {
   "cell_type": "code",
   "execution_count": null,
   "metadata": {},
   "outputs": [],
   "source": [
    "#export\n",
    "@call_parse\n",
    "def main():\n",
    "    path= getInfo(\"pthdirectory\")\n",
    "    downloadmodel(path)"
   ]
  }
 ],
 "metadata": {
  "kernelspec": {
   "display_name": "Python 3",
   "language": "python",
   "name": "python3"
  }
 },
 "nbformat": 4,
 "nbformat_minor": 4
}
