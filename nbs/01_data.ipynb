{
 "cells": [
  {
   "cell_type": "code",
   "execution_count": null,
   "metadata": {},
   "outputs": [],
   "source": [
    "# default_exp data"
   ]
  },
  {
   "cell_type": "markdown",
   "metadata": {},
   "source": [
    "# Data"
   ]
  },
  {
   "cell_type": "code",
   "execution_count": null,
   "metadata": {},
   "outputs": [],
   "source": [
    "#hide\n",
    "from nbdev.showdoc import *\n",
    "import sys\n",
    "sys.path.append(\"..\")\n",
    "%load_ext autoreload\n",
    "%autoreload 2"
   ]
  },
  {
   "cell_type": "code",
   "execution_count": null,
   "metadata": {},
   "outputs": [],
   "source": [
    "#export\n",
    "import torch\n",
    "import wandb\n",
    "import os\n",
    "import re\n",
    "from fastcore.script import *\n",
    "#from swfd"
   ]
  },
  {
   "cell_type": "code",
   "execution_count": null,
   "metadata": {},
   "outputs": [],
   "source": [
    "#export\n",
    "def getInfo(element):\n",
    "    try:\n",
    "        rutatxt=back()\n",
    "        rutatxt=str(rutatxt)+\"/infouser.txt\"\n",
    "        f = open (rutatxt,'r')\n",
    "        mensaje = f.read()\n",
    "        info=re.findall(str(element)+\"='(.*?)'\",mensaje)[0]\n",
    "    finally:\n",
    "        f.close()\n",
    "    return info"
   ]
  },
  {
   "cell_type": "code",
   "execution_count": null,
   "metadata": {},
   "outputs": [],
   "source": [
    "#export\n",
    "def back():\n",
    "    path=os.getcwd()\n",
    "    s=path.split('/')\n",
    "    length=len(s)\n",
    "    back_path=\"\"\n",
    "    for pathpart in range(0,length-1):\n",
    "        if pathpart==0:\n",
    "            back_path=s[pathpart]+\"/\"\n",
    "        else:\n",
    "            back_path=back_path+s[pathpart]+\"/\"\n",
    "    return str(back_path)\n"
   ]
  },
  {
   "cell_type": "markdown",
   "metadata": {},
   "source": [
    "downloadpth(path,idsweep): Funcion que descargar el fichero best.pth y config.yaml de todas las runs del sweep, guardandolo en la direccion del path"
   ]
  },
  {
   "cell_type": "code",
   "execution_count": null,
   "metadata": {},
   "outputs": [],
   "source": [
    "#export\n",
    "def downloadpth(path,idsweep):\n",
    "    api = wandb.Api()\n",
    "    sweep = api.sweep(str(idsweep))\n",
    "    pathsweep=str(path)+str(sweep.config[\"name\"])\n",
    "    \n",
    "    numberrun=1\n",
    "    for run in sweep.runs:\n",
    "        pathfile=str(pathsweep)+\"/sweep_run_\"+str(numberrun)+\"/\"\n",
    "        numberrun=1+numberrun\n",
    "        for file in run.files():\n",
    "            if(file.name.find(\"best.pth\")==0):\n",
    "                file.download(pathfile,replace=True)\n",
    "            if(file.name.find(\"config.yaml\")==0):\n",
    "                file.download(pathfile,replace=True)\n"
   ]
  },
  {
   "cell_type": "markdown",
   "metadata": {},
   "source": [
    "loadmodel(path): Llamada de la funcion downloadpth para cada una de los id_sweep necesarios para la funcion"
   ]
  },
  {
   "cell_type": "code",
   "execution_count": null,
   "metadata": {},
   "outputs": [],
   "source": [
    "#export\n",
    "def loadmodel(path):\n",
    "    ensembleH3 = \"ecstevenson/swe_pytorch_ensemble/2c28yzhn\"\n",
    "    ensembleH5H7 = \"ecstevenson/swe_pytorch_ensemble/6gkj1b5m\"\n",
    "    ensembleH10H14 = \"ecstevenson/swe_pytorch_ensemble/0mhqqzhc\"\n",
    "    ensembleH21H27 = \"ecstevenson/swe_pytorch_ensemble/oupg313c\"\n",
    "    downloadpth(path,ensembleH3)\n",
    "    downloadpth(path,ensembleH5H7)\n",
    "    downloadpth(path,ensembleH10H14)\n",
    "    downloadpth(path,ensembleH21H27)\n",
    "    "
   ]
  },
  {
   "cell_type": "code",
   "execution_count": null,
   "metadata": {},
   "outputs": [],
   "source": [
    "#export\n",
    "@call_parse\n",
    "def main():\n",
    "    path= getInfo(\"pthdirectory\")\n",
    "    loadmodel(path)"
   ]
  },
  {
   "cell_type": "code",
   "execution_count": null,
   "metadata": {},
   "outputs": [],
   "source": [
    "#loadmodel()"
   ]
  },
  {
   "cell_type": "code",
   "execution_count": null,
   "metadata": {},
   "outputs": [],
   "source": [
    "\"\"\"\n",
    "print(\"-------------------------------\")\n",
    "print(run.history())\n",
    "print(\"-------------------------------\")\n",
    "print(run.summary)\n",
    "print(\"-------------------------------\")\n",
    "print(run.config)\n",
    "print(\"-------------------------------\")\n",
    "for pth in run.path:\n",
    "    print(pth)\n",
    "system_metrics = run.history(stream = 'events')\n",
    "print(system_metrics)\n",
    "\"\"\""
   ]
  },
  {
   "cell_type": "code",
   "execution_count": null,
   "metadata": {},
   "outputs": [
    {
     "name": "stdout",
     "output_type": "stream",
     "text": [
      "Found 180\n",
      "{'cuda': True, 'seed': 73122012649, 'step': 1, 'epochs': 10, 'metric': 'mse', 'cls_adj': False, 'cls_key': 'f10.7', 'horizon': 5, 'data_src': 'esa', 'lookback': 30, 'momentum': 0.5, 'test_pct': 0.1, 'data_comp': ['esa', 'cls'], 'date_llim': '1950-01-01', 'date_ulim': '2020-01-01', 'incl_test': False, 'loss_func': 'mse', 'optimiser': 'Adam', 'valid_pct': 0.2, 'batch_size': 'max', 'grad_steps': 100, 'wandb_mode': 'dryrun', 'assign_seed': False, 'cls_datadir': 'data/clstest', 'interp_freq': 24, 'model_fname': 'models/best.pth', 'stack_type1': 'generic', 'stack_type2': 'generic', 'thetas_dims': [7, 8], 'compdf_fname': 'models/forecast_comp.pickle', 'log_interval': 50, 'naive_season': 1, 'weight_decay': 0, 'learning_rate': 0.0001, 'CHECKPOINT_NAME': 'nbeats-training-checkpoint.th', 'esa_archive_key': 'f10_7', 'esa_forecast_key': 'F107_NMH_esforc', 'lookback_hfactor': '6H', 'preds_test_fname': 'models/preds_test.pickle', 'esa_archive_fname': 'data/F10.7DailyObservedFluxDensity.txt', 'preds_valid_fname': 'models/preds_valid.pickle', 'cls_forecast_ldate': '2017-01-01', 'cls_forecast_udate': '2020-01-01', 'esa_forecast_fname': 'data/F10.7_IndexForecast27day_BGS_2017.txt', 'hidden_layer_units': 128, 'comp_forecast_lower': '2017-01-01T00:00:00', 'comp_forecast_upper': '2019-09-28T00:00:00', 'nb_blocks_per_stack': 3, 'share_weights_in_stack': False}\n"
     ]
    }
   ],
   "source": [
    "api.flush()\n",
    "sweep = api.sweep(\"ecstevenson/swe_pytorch_ensemble/owfwgvb9\")\n",
    "path=\"\"\n",
    "print(\"Found %i\" % len(sweep.runs))\n",
    "i=1\n",
    "for run in sweep.runs:\n",
    "    pathfile=str(path)+str(i)+\"/\"\n",
    "    i=1+i\n",
    "    print(run.config)\n",
    "    config = run.config\n",
    "    break"
   ]
  },
  {
   "cell_type": "code",
   "execution_count": null,
   "metadata": {},
   "outputs": [
    {
     "ename": "NameError",
     "evalue": "name 'TheModelClass' is not defined",
     "output_type": "error",
     "traceback": [
      "\u001b[0;31m---------------------------------------------------------------------------\u001b[0m",
      "\u001b[0;31mNameError\u001b[0m                                 Traceback (most recent call last)",
      "\u001b[0;32m<ipython-input-11-fbf49deb0bf3>\u001b[0m in \u001b[0;36m<module>\u001b[0;34m\u001b[0m\n\u001b[0;32m----> 1\u001b[0;31m \u001b[0mmodel\u001b[0m \u001b[0;34m=\u001b[0m \u001b[0mTheModelClass\u001b[0m\u001b[0;34m(\u001b[0m\u001b[0;34m*\u001b[0m\u001b[0margs\u001b[0m\u001b[0;34m,\u001b[0m \u001b[0;34m**\u001b[0m\u001b[0mkwargs\u001b[0m\u001b[0;34m)\u001b[0m\u001b[0;34m\u001b[0m\u001b[0;34m\u001b[0m\u001b[0m\n\u001b[0m\u001b[1;32m      2\u001b[0m \u001b[0mmodel\u001b[0m\u001b[0;34m.\u001b[0m\u001b[0mload_state_dict\u001b[0m\u001b[0;34m(\u001b[0m\u001b[0mtorch\u001b[0m\u001b[0;34m.\u001b[0m\u001b[0mload\u001b[0m\u001b[0;34m(\u001b[0m\u001b[0;34m'/home/miguel/Escritorio/tfg_swf/csv/pth/1/best.pth'\u001b[0m\u001b[0;34m)\u001b[0m\u001b[0;34m)\u001b[0m\u001b[0;34m\u001b[0m\u001b[0;34m\u001b[0m\u001b[0m\n\u001b[1;32m      3\u001b[0m \u001b[0mmodel\u001b[0m\u001b[0;34m.\u001b[0m\u001b[0meval\u001b[0m\u001b[0;34m(\u001b[0m\u001b[0;34m)\u001b[0m\u001b[0;34m\u001b[0m\u001b[0;34m\u001b[0m\u001b[0m\n",
      "\u001b[0;31mNameError\u001b[0m: name 'TheModelClass' is not defined"
     ]
    }
   ],
   "source": [
    "model = TheModelClass(*args, **kwargs)\n",
    "model.load_state_dict(torch.load(''))\n",
    "model.eval()"
   ]
  }
 ],
 "metadata": {
  "kernelspec": {
   "display_name": "Python 3",
   "language": "python",
   "name": "python3"
  }
 },
 "nbformat": 4,
 "nbformat_minor": 4
}
