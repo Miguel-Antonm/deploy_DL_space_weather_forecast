{
 "cells": [
  {
   "cell_type": "code",
   "execution_count": null,
   "metadata": {},
   "outputs": [],
   "source": [
    "# default_exp download_model"
   ]
  },
  {
   "cell_type": "markdown",
   "metadata": {},
   "source": [
    "# Model"
   ]
  },
  {
   "cell_type": "code",
   "execution_count": null,
   "metadata": {},
   "outputs": [
    {
     "name": "stdout",
     "output_type": "stream",
     "text": [
      "The autoreload extension is already loaded. To reload it, use:\n",
      "  %reload_ext autoreload\n"
     ]
    }
   ],
   "source": [
    "#hide\n",
    "from nbdev.showdoc import *\n",
    "import sys\n",
    "sys.path.append(\"..\")\n",
    "%load_ext autoreload\n",
    "%autoreload 2"
   ]
  },
  {
   "cell_type": "code",
   "execution_count": null,
   "metadata": {},
   "outputs": [],
   "source": [
    "#export\n",
    "import wandb\n",
    "from fastcore.script import *\n",
    "from swfd.resources import getInfo"
   ]
  },
  {
   "cell_type": "markdown",
   "metadata": {},
   "source": [
    "getrunids(nametxt): Obtiene del txt las ids correspondientes, este txt tiene que estar en la carpeta donde se vaya a instalar los archivos del modelo."
   ]
  },
  {
   "cell_type": "code",
   "execution_count": null,
   "metadata": {},
   "outputs": [],
   "source": [
    "#export\n",
    "def getRunIds(nametxt):\n",
    "    pathfolderpth=getInfo(\"pthdirectory\")\n",
    "    datalist=[]\n",
    "    try:\n",
    "        \n",
    "        with open(str(pathfolderpth)+str(nametxt), 'r') as myFile:\n",
    "            try:\n",
    "                datalist=[line.rstrip() for line in myFile]\n",
    "\n",
    "                datalist.remove(\"ID\")\n",
    "                while('' in datalist):\n",
    "                    datalist.remove('')\n",
    "                print(\"Collecting runs on\",nametxt)\n",
    "            finally:\n",
    "                myFile.close()\n",
    "    except (IOError, ValueError, EOFError) as e:\n",
    "          print(e)\n",
    "    return datalist"
   ]
  },
  {
   "cell_type": "code",
   "execution_count": null,
   "metadata": {},
   "outputs": [
    {
     "name": "stdout",
     "output_type": "stream",
     "text": [
      "Collecting runs on ensembleH3.txt\n"
     ]
    },
    {
     "data": {
      "text/plain": [
       "['t8r3v9or',\n",
       " '6qusq1jh',\n",
       " 'gw53lrau',\n",
       " '51cg5qc0',\n",
       " '3obl101i',\n",
       " '8jst2nbq',\n",
       " 'bxf9udn8',\n",
       " 'qndwsjp5',\n",
       " 'jzqs6zl7',\n",
       " 'nclmwumq',\n",
       " 'iktziv7e',\n",
       " 'qoob9q7c',\n",
       " 'jwgs9gk9',\n",
       " '8zknkjsl',\n",
       " 'y9079f7p',\n",
       " 'gzb8xyzf',\n",
       " '0l7stpf9',\n",
       " '50qxkh16',\n",
       " 'y3ybdk4q',\n",
       " 'cct9h1bj',\n",
       " 'd83hmxcj',\n",
       " '9d76692y',\n",
       " 'mynx064s',\n",
       " 'ep7udihr',\n",
       " '5cehm5by',\n",
       " 'f0cp0l37',\n",
       " 'mnpvvo5s',\n",
       " '9zue0q38',\n",
       " 'j7jx7mhf',\n",
       " 'hkyw7eze',\n",
       " 's1pzkc3x',\n",
       " 'f74ft1yo',\n",
       " 'qug2gflk',\n",
       " 'g5hjybr8',\n",
       " 'sek7grr3',\n",
       " 'ojpbysmg',\n",
       " 'etu5it22',\n",
       " 'kin4qa39',\n",
       " 'z24wb0gu',\n",
       " 'fd6hwwne',\n",
       " 'ekxigjxg',\n",
       " 'e01ywkqy',\n",
       " 'czgn0ni5',\n",
       " 'cllsjy87',\n",
       " 'kqbysny8',\n",
       " 'f1y00xne',\n",
       " '2s4xrgko',\n",
       " 'p0pt7i4s',\n",
       " 'vwi12r5w',\n",
       " '90pmob4j',\n",
       " 'z2kqpsu6',\n",
       " 'shqo4hxl',\n",
       " 'mhmggwxr',\n",
       " 'eilb9gq3',\n",
       " 'bn55od8h',\n",
       " '9gftm1zm',\n",
       " 'm6djl1fd',\n",
       " 'zau5zfl9',\n",
       " 'sqjvley4',\n",
       " '2jy56dr5',\n",
       " 'cj0xdvms',\n",
       " '0kyu5jnn',\n",
       " 'qt6krtay',\n",
       " 'sqgedaw5',\n",
       " 'apxfe7ao',\n",
       " 'teudbgsd',\n",
       " '4ges0som',\n",
       " '9xco1s70',\n",
       " 'yu2c6hdj',\n",
       " 'ug8y323g',\n",
       " '2ky32rz5',\n",
       " 'bjevzogw',\n",
       " 'fs3m27v0',\n",
       " 'awa4zypd',\n",
       " 't2nldx6l',\n",
       " '1jl7o0md',\n",
       " 'oh2ifr0s',\n",
       " 'lsg4dr9f',\n",
       " '8gnhx9ih',\n",
       " 'waqzxa17',\n",
       " 'r83blhps',\n",
       " 'pupiiiez',\n",
       " 'yu3wz8wp',\n",
       " 'ue0d7nr1',\n",
       " 'd85nn11k',\n",
       " 'fo9onb0c',\n",
       " '8hb9jo07',\n",
       " 'j17bblsz',\n",
       " 'uvah0sg8',\n",
       " 'pvhu04bf']"
      ]
     },
     "execution_count": null,
     "metadata": {},
     "output_type": "execute_result"
    }
   ],
   "source": [
    "#hide\n",
    "getRunIds(\"ensembleH3.txt\")"
   ]
  },
  {
   "cell_type": "markdown",
   "metadata": {},
   "source": [
    "downloadpth(path,idsweep): Funcion que descargar el fichero best.pth y config.yaml de todas las runs del sweep, guardandolo en la direccion del path"
   ]
  },
  {
   "cell_type": "code",
   "execution_count": null,
   "metadata": {},
   "outputs": [],
   "source": [
    "#export\n",
    "def downloadPth(nametxt,savedirectory):\n",
    "    api = wandb.Api()\n",
    "    runs_id=getRunIds(nametxt)\n",
    "    runnumber=1\n",
    "    horizon=-1\n",
    "    for run_id in runs_id:\n",
    "            run =api.run(\"stardust-r/deep-learning-space-weather-forecasting/{}\".format(run_id))\n",
    "            #Comparamos el H anterior con el actual para resetear el contador de carpetas en caso de nuevo H\n",
    "            if(horizon != run.config[\"horizon\"]):\n",
    "                runnumber=1\n",
    "            else:\n",
    "                runnumber=1+runnumber\n",
    "            horizon=run.config['horizon']\n",
    "            pathhorizon=str(savedirectory)+\"ensembleH\"+str(horizon)\n",
    "            pathfile=str(pathhorizon)+\"/sweep_run_\"+str(runnumber)+\"/\"\n",
    "            for file in run.files():\n",
    "                if(file.name.find(\"config.yaml\")==0):\n",
    "                    file.download(pathfile,replace=True)\n",
    "                if(file.name.find(\"models/best.pth\")==0):\n",
    "                    file.download(pathfile,replace=True)\n"
   ]
  },
  {
   "cell_type": "markdown",
   "metadata": {},
   "source": [
    "downloadmodel(path): Llamada de la funcion downloadpth para cada una de los id_sweep necesarios para la funcion"
   ]
  },
  {
   "cell_type": "code",
   "execution_count": null,
   "metadata": {},
   "outputs": [],
   "source": [
    "#export\n",
    "def downloadModel():\n",
    "    path= getInfo(\"pthdirectory\")\n",
    "    ensemblerunids=[\"ensembleH3.txt\",\"ensembleH5H7.txt\",\"ensembleH10H14.txt\",\"ensembleH21H27.txt\"]\n",
    "    \n",
    "    for ensemble in ensemblerunids:\n",
    "        downloadPth(ensemble,path)"
   ]
  },
  {
   "cell_type": "code",
   "execution_count": null,
   "metadata": {},
   "outputs": [],
   "source": [
    "#export\n",
    "@call_parse\n",
    "def main():\n",
    "    downloadModel()"
   ]
  },
  {
   "cell_type": "code",
   "execution_count": null,
   "metadata": {},
   "outputs": [],
   "source": []
  },
  {
   "cell_type": "code",
   "execution_count": null,
   "metadata": {},
   "outputs": [],
   "source": []
  }
 ],
 "metadata": {
  "kernelspec": {
   "display_name": "Python 3",
   "language": "python",
   "name": "python3"
  }
 },
 "nbformat": 4,
 "nbformat_minor": 4
}
