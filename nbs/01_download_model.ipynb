{
 "cells": [
  {
   "cell_type": "code",
   "execution_count": null,
   "metadata": {},
   "outputs": [],
   "source": [
    "# default_exp download_model"
   ]
  },
  {
   "cell_type": "markdown",
   "metadata": {},
   "source": [
    "# Data"
   ]
  },
  {
   "cell_type": "code",
   "execution_count": null,
   "metadata": {},
   "outputs": [],
   "source": [
    "#export\n",
    "import wandb\n",
    "from fastcore.script import *\n",
    "from swfd.resources import getInfo"
   ]
  },
  {
   "cell_type": "markdown",
   "metadata": {},
   "source": [
    "getrunids(nametxt): Obtiene del txt las ids correspondientes, este txt tiene que estar en la carpeta donde se vaya a instalar los archivos del modelo."
   ]
  },
  {
   "cell_type": "code",
   "execution_count": null,
   "metadata": {},
   "outputs": [],
   "source": [
    "#export\n",
    "def getRunIds(nametxt):\n",
    "    pathfolderpth=getInfo(\"pthdirectory\")\n",
    "    datalist=[]\n",
    "    try:\n",
    "        \n",
    "        with open(str(pathfolderpth)+str(nametxt), 'r') as myFile:\n",
    "            try:\n",
    "                datalist=[line.rstrip() for line in myFile]\n",
    "\n",
    "                datalist.remove(\"ID\")\n",
    "                while('' in datalist):\n",
    "                    datalist.remove('')\n",
    "            finally:\n",
    "                myFile.close()\n",
    "    except (IOError, ValueError, EOFError) as e:\n",
    "          print(e)\n",
    "    return datalist"
   ]
  },
  {
   "cell_type": "code",
   "execution_count": null,
   "metadata": {},
   "outputs": [
    {
     "name": "stdout",
     "output_type": "stream",
     "text": [
      "[Errno 2] No such file or directory: 'testpthensembleH3.txt'\n"
     ]
    },
    {
     "data": {
      "text/plain": [
       "[]"
      ]
     },
     "execution_count": null,
     "metadata": {},
     "output_type": "execute_result"
    }
   ],
   "source": [
    "#hide\n",
    "getRunIds(\"ensembleH3.txt\")"
   ]
  },
  {
   "cell_type": "markdown",
   "metadata": {},
   "source": [
    "downloadpth(path,idsweep): Funcion que descargar el fichero best.pth y config.yaml de todas las runs del sweep, guardandolo en la direccion del path"
   ]
  },
  {
   "cell_type": "code",
   "execution_count": null,
   "metadata": {},
   "outputs": [],
   "source": [
    "#export\n",
    "def downloadPth(nametxt,savedirectory):\n",
    "    api = wandb.Api()\n",
    "    runs_id=getRunIds(nametxt)\n",
    "    runnumber=1\n",
    "    horizon=-1\n",
    "    for run_id in runs_id:\n",
    "            run =api.run(\"stardust-r/deep-learning-space-weather-forecasting/{}\".format(run_id))\n",
    "            #Comparamos el H anterior con el actual para resetear el contador de carpetas en caso de nuevo H\n",
    "            if(horizon != run.config[\"horizon\"]):\n",
    "                runnumber=1\n",
    "            else:\n",
    "                runnumber=1+runnumber\n",
    "            horizon=run.config['horizon']\n",
    "            pathhorizon=str(savedirectory)+\"ensembleH\"+str(horizon)\n",
    "            pathfile=str(pathhorizon)+\"/sweep_run_\"+str(runnumber)+\"/\"\n",
    "            for file in run.files():\n",
    "                if(file.name.find(\"config.yaml\")==0):\n",
    "                    file.download(pathfile,replace=True)\n",
    "                if(file.name.find(\"models/best.pth\")==0):\n",
    "                    file.download(pathfile,replace=True)\n"
   ]
  },
  {
   "cell_type": "markdown",
   "metadata": {},
   "source": [
    "downloadmodel(path): Llamada de la funcion downloadpth para cada una de los id_sweep necesarios para la funcion"
   ]
  },
  {
   "cell_type": "code",
   "execution_count": null,
   "metadata": {},
   "outputs": [],
   "source": [
    "#export\n",
    "def downloadModel():\n",
    "    path= getInfo(\"pthdirectory\")\n",
    "    ensemblerunids=[\"ensembleH3.txt\",\"ensembleH5H7.txt\",\"ensembleH10H14.txt\",\"ensembleH21H27.txt\"]\n",
    "    \n",
    "    for ensemble in ensemblerunids:\n",
    "        print(ensemble)\n",
    "        downloadPth(ensemble,path)"
   ]
  },
  {
   "cell_type": "code",
   "execution_count": null,
   "metadata": {},
   "outputs": [],
   "source": [
    "#export\n",
    "@call_parse\n",
    "def main():\n",
    "    downloadModel()"
   ]
  },
  {
   "cell_type": "code",
   "execution_count": null,
   "metadata": {},
   "outputs": [
    {
     "name": "stdout",
     "output_type": "stream",
     "text": [
      "ensembleH3.txt\n",
      "[Errno 2] No such file or directory: 'testpthensembleH3.txt'\n",
      "ensembleH5H7.txt\n",
      "[Errno 2] No such file or directory: 'testpthensembleH5H7.txt'\n",
      "ensembleH10H14.txt\n",
      "[Errno 2] No such file or directory: 'testpthensembleH10H14.txt'\n",
      "ensembleH21H27.txt\n",
      "[Errno 2] No such file or directory: 'testpthensembleH21H27.txt'\n"
     ]
    }
   ],
   "source": [
    "main()"
   ]
  },
  {
   "cell_type": "code",
   "execution_count": null,
   "metadata": {},
   "outputs": [],
   "source": []
  },
  {
   "cell_type": "code",
   "execution_count": null,
   "metadata": {},
   "outputs": [],
   "source": []
  }
 ],
 "metadata": {
  "kernelspec": {
   "display_name": "Python 3",
   "language": "python",
   "name": "python3"
  }
 },
 "nbformat": 4,
 "nbformat_minor": 4
}
