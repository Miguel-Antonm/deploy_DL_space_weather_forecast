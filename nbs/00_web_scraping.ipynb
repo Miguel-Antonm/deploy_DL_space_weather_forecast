{
 "cells": [
  {
   "cell_type": "code",
   "execution_count": null,
   "metadata": {},
   "outputs": [],
   "source": [
    "# default_exp web_scraping"
   ]
  },
  {
   "cell_type": "markdown",
   "metadata": {},
   "source": [
    "# web scraping\n",
    "\n",
    "> API details."
   ]
  },
  {
   "cell_type": "code",
   "execution_count": null,
   "metadata": {},
   "outputs": [],
   "source": [
    "#hide\n",
    "from nbdev.showdoc import *\n",
    "import sys\n",
    "sys.path.append(\"..\")\n",
    "%load_ext autoreload\n",
    "%autoreload 2"
   ]
  },
  {
   "cell_type": "code",
   "execution_count": null,
   "metadata": {},
   "outputs": [],
   "source": [
    "#export\n",
    "\n",
    "#Webscrapping\n",
    "from time import sleep\n",
    "from selenium import webdriver\n",
    "from selenium.webdriver.firefox.options import Options\n",
    "import datetime\n",
    "\n",
    "#Save data\n",
    "import re\n",
    "import pandas as pd\n",
    "\n",
    "#Resources\n",
    "import random\n",
    "from fastcore.script import * # @Callparser\n",
    "from swfd.resources import back, getInfo\n"
   ]
  },
  {
   "cell_type": "markdown",
   "metadata": {},
   "source": [
    "def getHTMLsfu(): Funcion que  por medio del driver de selenium hace el log en la EESSA y obtiene el código html conla información"
   ]
  },
  {
   "cell_type": "code",
   "execution_count": null,
   "metadata": {},
   "outputs": [],
   "source": [
    "#export\n",
    "def getHTMLsfu(currentdate,originaldate):\n",
    "\n",
    "    source_code=\"\"\n",
    "    try:\n",
    "        rutadriver=back()\n",
    "        rutadriver=str(rutadriver)+\"geckodriver\"\n",
    "        options = Options()\n",
    "        options.add_argument('-headless')\n",
    "        driver = webdriver.Firefox(executable_path=str(rutadriver), options=options)\n",
    "        currentday = datetime.datetime.now()\n",
    "        driver.get(\"https://esc.cbk.waw.pl/products/api.php?parameter=f10_7&start_date=\"+str(originaldate.year)+\"%2F\"+str(originaldate.month)+\"%2F\"+str(originaldate.day)+\"+00%3A00&end_date=\"+str(currentdate.year)+\"%2F\"+str(currentdate.month)+\"%2F\"+str(currentdate.day)+\"+00%3A00&output_type=html\")\n",
    "        sleep(random.uniform(8,10))\n",
    "\n",
    "        \n",
    "        user = driver.find_element_by_name(\"callback_0\")\n",
    "        password = driver.find_element_by_name(\"callback_1\")\n",
    "        button = driver.find_element_by_name(\"callback_2\")\n",
    "\n",
    "        credentials=getCredentials()\n",
    "        \n",
    "        if(credentials[0] or credentials[1]):\n",
    "            user.send_keys(credentials[0])\n",
    "            password.send_keys(credentials[1])\n",
    "            button.click()\n",
    "            sleep(random.uniform(15,10))\n",
    "\n",
    "            elem = driver.find_element_by_xpath(\"//*\")\n",
    "            source_code = elem.get_attribute(\"outerHTML\")\n",
    "        else:\n",
    "            print(\"user or password not found in txt\")\n",
    "\n",
    "    except: \n",
    "        e = sys.exc_info()[0]\n",
    "        print(\"Exception: \", e)\n",
    "        print(\"Make sure you have the internet and the selenium driver is in the sfw.\")\n",
    "    finally:\n",
    "        driver.quit()\n",
    "    \n",
    "    return source_code\n",
    "\n",
    "\n"
   ]
  },
  {
   "cell_type": "markdown",
   "metadata": {},
   "source": [
    "getCredentials(): Funcion que obtiene el user y password previamente escrito en el fichero infouser.txt para el login de la EESA"
   ]
  },
  {
   "cell_type": "code",
   "execution_count": null,
   "metadata": {},
   "outputs": [],
   "source": [
    "#export\n",
    "def getCredentials():\n",
    "    credentials=[]\n",
    "    user=getInfo(\"user\")\n",
    "    password=getInfo(\"password\")\n",
    "    credentials.append(user)\n",
    "    credentials.append(password)\n",
    "    return credentials\n"
   ]
  },
  {
   "cell_type": "code",
   "execution_count": null,
   "metadata": {},
   "outputs": [
    {
     "data": {
      "text/plain": [
       "'getCredentials()'"
      ]
     },
     "execution_count": null,
     "metadata": {},
     "output_type": "execute_result"
    }
   ],
   "source": [
    "#hide\n",
    "#If txt not exist return [[], []]\n",
    "getCredentials()"
   ]
  },
  {
   "cell_type": "markdown",
   "metadata": {},
   "source": [
    "getDatosSfu(html): Función que analiza y obtiene los datos (fecha y valor de sfu) del html"
   ]
  },
  {
   "cell_type": "code",
   "execution_count": null,
   "metadata": {},
   "outputs": [],
   "source": [
    "#export\n",
    "def getListDataSfu(html):\n",
    "\n",
    "    datalist=[]\n",
    "    \n",
    "    oldsfu=re.findall('<tbody>(.*?)<td>1996-02-14',str(html),re.DOTALL)\n",
    "    dailysfu=re.findall('<tr>(.*?)</tr>',str(oldsfu),re.DOTALL)\n",
    "    for day in dailysfu:\n",
    "        if(re.findall(\"(.*?)00:00:00</td>\",day)):\n",
    "            datedata=re.findall(\"<td>(.*?) 00:00:00</td>\",day)\n",
    "            sfudata=re.findall(\"</td><td>(.*?)<\",day)\n",
    "            datalist.append([datedata[0],sfudata[0]])\n",
    "    \n",
    "    newsfu=re.findall('<td>1996-02-13 00:00:00</td><td>68</td></tr>(.*?)</tbody></table></div></body></html>',str(html),re.DOTALL)\n",
    "    dailysfu=re.findall('<tr>(.*?)</tr>',str(newsfu),re.DOTALL)\n",
    "    for day in dailysfu:\n",
    "        if(re.findall(\"(.*?)20:00:00</td>\",day)):\n",
    "            datedata=re.findall(\"<td>(.*?) 20:00:00</td>\",day)\n",
    "            sfudata=re.findall(\"</td><td>(.*?)<\",day)\n",
    "            datalist.append([datedata[0],sfudata[0]])           \n",
    "\n",
    "    return datalist[::-1]"
   ]
  },
  {
   "cell_type": "markdown",
   "metadata": {},
   "source": [
    "emptydata(datosSfu)"
   ]
  },
  {
   "cell_type": "code",
   "execution_count": null,
   "metadata": {},
   "outputs": [],
   "source": [
    "#export\n",
    "def emptydata(datosSfu):\n",
    "    alldatasfu=[]\n",
    "    #Dia actual porque el primer registro siempre sera hoy-1\n",
    "    csvdaybefore=datetime.datetime.combine(datetime.datetime.today(), datetime.time.min)\n",
    "    #csvdaybefore=csvdaybefore+datetime.timedelta(days=1)\n",
    "    for record in datosSfu:\n",
    "        realdaybefore=csvdaybefore-datetime.timedelta(days=1)\n",
    "        csvdaybefore = datetime.datetime.strptime(record[0], '%Y-%m-%d')\n",
    "        #Si el dia de ayer no es igual al de hoy-1 faltan datos de un dia\n",
    "        if not(realdaybefore == csvdaybefore):\n",
    "            while(not(realdaybefore == csvdaybefore)):\n",
    "                alldatasfu.append([realdaybefore.strftime('%Y-%m-%d'),\"-1\"])\n",
    "                realdaybefore=realdaybefore-datetime.timedelta(days=1)\n",
    "                \n",
    "                \n",
    "        alldatasfu.append(record)\n",
    "    return alldatasfu  "
   ]
  },
  {
   "cell_type": "markdown",
   "metadata": {},
   "source": [
    "sfuScv(listaDatos): Función que guarda los datos(fecha y valor de sfu) en un fichero csv"
   ]
  },
  {
   "cell_type": "code",
   "execution_count": null,
   "metadata": {},
   "outputs": [],
   "source": [
    "#export\n",
    "def sfuScv(datalist):\n",
    "    path=getInfo(\"csvdirectory\")+\"sfuData.csv\"\n",
    "    df = pd.DataFrame(datalist, columns= ['Date', 'Sfu'])\n",
    "    df.to_csv(path, header = False, index = False)"
   ]
  },
  {
   "cell_type": "code",
   "execution_count": null,
   "metadata": {},
   "outputs": [
    {
     "data": {
      "text/html": [
       "<div>\n",
       "<style scoped>\n",
       "    .dataframe tbody tr th:only-of-type {\n",
       "        vertical-align: middle;\n",
       "    }\n",
       "\n",
       "    .dataframe tbody tr th {\n",
       "        vertical-align: top;\n",
       "    }\n",
       "\n",
       "    .dataframe thead th {\n",
       "        text-align: right;\n",
       "    }\n",
       "</style>\n",
       "<table border=\"1\" class=\"dataframe\">\n",
       "  <thead>\n",
       "    <tr style=\"text-align: right;\">\n",
       "      <th></th>\n",
       "      <th>0</th>\n",
       "      <th>1</th>\n",
       "    </tr>\n",
       "  </thead>\n",
       "  <tbody>\n",
       "    <tr>\n",
       "      <th>0</th>\n",
       "      <td>1</td>\n",
       "      <td>2</td>\n",
       "    </tr>\n",
       "    <tr>\n",
       "      <th>1</th>\n",
       "      <td>2</td>\n",
       "      <td>3</td>\n",
       "    </tr>\n",
       "    <tr>\n",
       "      <th>2</th>\n",
       "      <td>3</td>\n",
       "      <td>4</td>\n",
       "    </tr>\n",
       "  </tbody>\n",
       "</table>\n",
       "</div>"
      ],
      "text/plain": [
       "   0  1\n",
       "0  1  2\n",
       "1  2  3\n",
       "2  3  4"
      ]
     },
     "execution_count": null,
     "metadata": {},
     "output_type": "execute_result"
    }
   ],
   "source": [
    "\"\"\"#hide\n",
    "sfuScv([[1,2],[2,3],[3,4]])\n",
    "path=getInfo(\"csvdirectory\")+\"sfuData.csv\"\n",
    "df = pd.read_csv(path,header=None)\n",
    "df\"\"\""
   ]
  },
  {
   "cell_type": "markdown",
   "metadata": {},
   "source": [
    "web_scraping()"
   ]
  },
  {
   "cell_type": "code",
   "execution_count": null,
   "metadata": {},
   "outputs": [],
   "source": [
    "#export\n",
    "def web_scraping():\n",
    "    datosSfu=[]\n",
    "    \n",
    "    currentdate = datetime.datetime.now()\n",
    "    originaldate=datetime.datetime(1949, 1, 1)\n",
    "    sourcecode=getHTMLsfu(currentdate,originaldate)\n",
    "    \n",
    "    if(sourcecode!=\"\"):\n",
    "        datosSfu=getListDataSfu(sourcecode)\n",
    "        datosSfu=emptydata(datosSfu)\n",
    "\n",
    "        sfuScv(datosSfu)\n",
    "    else:\n",
    "        print(\"error\")\n",
    "\n"
   ]
  },
  {
   "cell_type": "markdown",
   "metadata": {},
   "source": [
    "getMaxValueSfu(): Saca el mayor valor de sfu historicamente"
   ]
  },
  {
   "cell_type": "code",
   "execution_count": null,
   "metadata": {},
   "outputs": [],
   "source": [
    "#export\n",
    "@call_parse\n",
    "def main():\n",
    "    web_scraping()\n"
   ]
  },
  {
   "cell_type": "code",
   "execution_count": null,
   "metadata": {},
   "outputs": [],
   "source": [
    "#main()"
   ]
  },
  {
   "cell_type": "code",
   "execution_count": null,
   "metadata": {},
   "outputs": [],
   "source": []
  }
 ],
 "metadata": {
  "kernelspec": {
   "display_name": "Python 3",
   "language": "python",
   "name": "python3"
  }
 },
 "nbformat": 4,
 "nbformat_minor": 2
}
