{
 "cells": [
  {
   "cell_type": "code",
   "execution_count": null,
   "metadata": {},
   "outputs": [],
   "source": [
    "# default_exp web_scraping"
   ]
  },
  {
   "cell_type": "markdown",
   "metadata": {},
   "source": [
    "# web scraping\n",
    "\n",
    "> API details."
   ]
  },
  {
   "cell_type": "code",
   "execution_count": null,
   "metadata": {},
   "outputs": [],
   "source": [
    "#hide\n",
    "from nbdev.showdoc import *\n",
    "import sys\n",
    "sys.path.append(\"..\")\n",
    "%load_ext autoreload\n",
    "%autoreload 2"
   ]
  },
  {
   "cell_type": "code",
   "execution_count": null,
   "metadata": {},
   "outputs": [],
   "source": [
    "#export\n",
    "import random\n",
    "from time import sleep\n",
    "from selenium import webdriver\n",
    "from selenium.webdriver.firefox.options import Options\n",
    "import datetime\n",
    "import re\n",
    "import csv\n",
    "import os\n",
    "from fastcore.script import *"
   ]
  },
  {
   "cell_type": "markdown",
   "metadata": {},
   "source": [
    "def getHTMLsfu(): Funcion que  por medio del driver de selenium hace el log en la EESSA y obtiene el código html conla información"
   ]
  },
  {
   "cell_type": "code",
   "execution_count": null,
   "metadata": {},
   "outputs": [],
   "source": [
    "#export\n",
    "def getHTMLsfu(currentdate,originaldate):\n",
    "\n",
    "    source_code=\"\"\n",
    "    try:\n",
    "        rutadriver=back()\n",
    "        rutadriver=str(rutadriver)+\"geckodriver\"\n",
    "        #rutadriver=\n",
    "        options = Options()\n",
    "        options.add_argument('-headless')\n",
    "        driver = webdriver.Firefox(executable_path=str(rutadriver), options=options)\n",
    "        currentday = datetime.datetime.now()\n",
    "        #driver.get(\"https://esc.cbk.waw.pl/products/api.php?parameter=f10_7&start_date=2019%2F01%2F01+00%3A00&end_date=\"+str(currentday.year)+\"%2F\"+str(currentday.month)+\"%2F\"+str(currentday.day)+\"+00%3A00&output_type=html\")\n",
    "        driver.get(\"https://esc.cbk.waw.pl/products/api.php?parameter=f10_7&start_date=\"+str(originaldate.year)+\"%2F\"+str(originaldate.month)+\"%2F\"+str(originaldate.day)+\"+00%3A00&end_date=\"+str(currentdate.year)+\"%2F\"+str(currentdate.month)+\"%2F\"+str(currentdate.day)+\"+00%3A00&output_type=html\")\n",
    "        #driver.get(\"https://esc.cbk.waw.pl/products/api.php?parameter=f10_7&start_date=\"+str(currentday.year-differenceyears)+\"%2F\"+str(currentday.month)+\"%2F\"+str(currentday.day)+\"+00%3A00&end_date=\"+str(currentday.year)+\"%2F\"+str(currentday.month)+\"%2F\"+str(currentday.day)+\"+00%3A00&output_type=html\")\n",
    "        #driver.get(\"https://esc.cbk.waw.pl/products/api.php?parameter=f10_7&start_date=1750%2F01%2F01+00%3A00&end_date=\"+str(currentday.year)+\"%2F\"+str(currentday.month)+\"%2F\"+str(currentday.day)+\"+00%3A00&output_type=html\")\n",
    "        sleep(random.uniform(8.0,10.0))\n",
    "\n",
    "        #getHTML(driver)\n",
    "        user = driver.find_element_by_name(\"callback_0\")\n",
    "        password = driver.find_element_by_name(\"callback_1\")\n",
    "        button = driver.find_element_by_name(\"callback_2\")\n",
    "\n",
    "        credentials=getCredentials()\n",
    "        user.send_keys(credentials[0])\n",
    "        password.send_keys(credentials[1])\n",
    "        button.click()\n",
    "        sleep(random.uniform(10.0,12.0))\n",
    "\n",
    "        elem = driver.find_element_by_xpath(\"//*\")\n",
    "        source_code = elem.get_attribute(\"outerHTML\")\n",
    "\n",
    "    finally:\n",
    "        driver.quit()\n",
    "    return source_code\n",
    "\n",
    "\n"
   ]
  },
  {
   "cell_type": "markdown",
   "metadata": {},
   "source": [
    "back(): Devuelve el path de la carpeta anterior"
   ]
  },
  {
   "cell_type": "code",
   "execution_count": null,
   "metadata": {},
   "outputs": [],
   "source": [
    "#export\n",
    "def back():\n",
    "    path=os.getcwd()\n",
    "    s=path.split('/')\n",
    "    length=len(s)\n",
    "    back_path=\"\"\n",
    "    for pathpart in range(0,length-1):\n",
    "        if pathpart==0:\n",
    "            back_path=s[pathpart]+\"/\"\n",
    "        else:\n",
    "            back_path=back_path+s[pathpart]+\"/\"\n",
    "    return str(back_path)\n",
    "\n"
   ]
  },
  {
   "cell_type": "markdown",
   "metadata": {},
   "source": [
    "getCredentials(): Funcion que obtiene el user y password previamente escrito en el fichero infouser.txt para el login de la EESA"
   ]
  },
  {
   "cell_type": "code",
   "execution_count": null,
   "metadata": {},
   "outputs": [],
   "source": [
    "#export\n",
    "def getCredentials():\n",
    "    credentials=[]\n",
    "    user=getInfo(\"usuario\")\n",
    "    password=getInfo(\"password\")\n",
    "    credentials.append(user)\n",
    "    credentials.append(password)\n",
    "    return credentials\n"
   ]
  },
  {
   "cell_type": "code",
   "execution_count": null,
   "metadata": {},
   "outputs": [],
   "source": [
    "#export\n",
    "def getInfo(element):\n",
    "    try:\n",
    "        txtpath=back()\n",
    "        txtpath=str(txtpath)+\"/infouser.txt\"\n",
    "        f = open (txtpath,'r')\n",
    "        message = f.read()\n",
    "        info=re.findall(str(element)+\"='(.*?)'\",message)[0]\n",
    "    finally:\n",
    "        f.close()\n",
    "    return info"
   ]
  },
  {
   "cell_type": "markdown",
   "metadata": {},
   "source": [
    "getDatosSfu(html): Función que analiza y obtiene los datos (fecha y valor de sfu) del html"
   ]
  },
  {
   "cell_type": "code",
   "execution_count": null,
   "metadata": {},
   "outputs": [],
   "source": [
    "#export\n",
    "def getListDataSfu(html):\n",
    "    #print(html)\n",
    "    dailysfu=re.findall('<tr>\\n<td>(.*?)/td></tr>',str(html),re.DOTALL)\n",
    "    datalist=[]\n",
    "    for day in dailysfu:\n",
    "        if(re.findall(\"(.*?)20:00:00</td>\",day)):\n",
    "            datedata=re.findall(\"(.*?)20:00:00</td>\",day)\n",
    "            sfudata=re.findall(\"<td>(.*?)<\",day)\n",
    "            datalist.append([datedata[0],sfudata[0]])\n",
    "    return datalist"
   ]
  },
  {
   "cell_type": "markdown",
   "metadata": {},
   "source": [
    "getValuesSfu(html):Obtiene todos los valores de sfu hasta la fecha actual"
   ]
  },
  {
   "cell_type": "code",
   "execution_count": null,
   "metadata": {},
   "outputs": [],
   "source": [
    "#export\n",
    "def getValuesSfu(html):\n",
    "    #Hasta 1996-02-13 solo habia una unica toma por dia, se tiene que tratar diferente antes de esa fecha(oldsfu)\n",
    "    newsfu=re.findall('<td>1996-02-13 00:00:00</td><td>68</td></tr>(.*?)</tbody></table></div></body></html>',str(html),re.DOTALL)\n",
    "    oldsfu=re.findall('<tbody><tr>(.*?)<td>1996-02-14',str(html),re.DOTALL)\n",
    "    datalist=[]\n",
    "    sfudiario=re.findall('20:00:00</td><td>(.*?)</td>',str(newsfu),re.DOTALL)\n",
    "    for value in sfudiario:\n",
    "        datalist.append(value)\n",
    "    \n",
    "    sfudiario=re.findall('00:00:00</td><td>(.*?)</td>',str(oldsfu),re.DOTALL)\n",
    "    for value in sfudiario:\n",
    "        datalist.append(value)\n",
    "    return datalist"
   ]
  },
  {
   "cell_type": "markdown",
   "metadata": {},
   "source": [
    "sfuScv(listaDatos): Función que guarda los datos(fecha y valor de sfu) en un fichero csv"
   ]
  },
  {
   "cell_type": "code",
   "execution_count": null,
   "metadata": {},
   "outputs": [],
   "source": [
    "#export\n",
    "def sfuScv(datalist):\n",
    "    currentday = datetime.datetime.now()\n",
    "    #nombredatos=str(currentday.year)+\"-\"+str(currentday.month)+\"-\"+str(currentday.day)+\"sfuData.csv\"\n",
    "    datanames=str(currentday.year)+\"-\"+str(currentday.month)+\"-\"+str(currentday.day)+\"-\"+str(currentday.hour)+\"sfuData.csv\"\n",
    "    path=getInfo(\"csvdirectory\")\n",
    "    try:\n",
    "        myFile = open(str(path)+str(datanames), 'w',newline='')\n",
    "        with myFile:\n",
    "                writer = csv.writer(myFile)\n",
    "                writer.writerows(datalist)\n",
    "\n",
    "    finally:\n",
    "        myFile.close()\n",
    "\n"
   ]
  },
  {
   "cell_type": "code",
   "execution_count": null,
   "metadata": {},
   "outputs": [],
   "source": [
    "#export\n",
    "def web_scraping():\n",
    "    datosSfu=[]\n",
    "    \n",
    "    currentdate = datetime.datetime.now()\n",
    "    originaldate=datetime.datetime(year=currentdate.year-1, month=currentdate.month, day=currentdate.day)\n",
    "    sourcecode=getHTMLsfu(currentdate,originaldate)\n",
    "    \n",
    "    datosSfu=getListDataSfu(sourcecode)\n",
    "    \n",
    "    sfuScv(datosSfu)\n"
   ]
  },
  {
   "cell_type": "markdown",
   "metadata": {},
   "source": [
    "getMaxValueSfu(): Saca el mayor valor de sfu historicamente"
   ]
  },
  {
   "cell_type": "code",
   "execution_count": null,
   "metadata": {},
   "outputs": [],
   "source": [
    "#export\n",
    "def getMaxValueSfu():\n",
    "    sfuValues=[]\n",
    "    currentdate = datetime.datetime.now()\n",
    "    originaldate=datetime.datetime(1949, 1, 1)\n",
    "    sourcecode=getHTMLsfu(currentdate,originaldate)\n",
    "    sfuValues=getValuesSfu(sourcecode)\n",
    "    return max(sfuValues, key=float)\n"
   ]
  },
  {
   "cell_type": "code",
   "execution_count": null,
   "metadata": {},
   "outputs": [
    {
     "data": {
      "text/plain": [
       "'938.6'"
      ]
     },
     "execution_count": null,
     "metadata": {},
     "output_type": "execute_result"
    }
   ],
   "source": [
    "#hide\n",
    "getMaxValueSfu()"
   ]
  },
  {
   "cell_type": "code",
   "execution_count": null,
   "metadata": {},
   "outputs": [],
   "source": [
    "#export\n",
    "@call_parse\n",
    "def main():\n",
    "    web_scraping()\n"
   ]
  },
  {
   "cell_type": "code",
   "execution_count": null,
   "metadata": {},
   "outputs": [],
   "source": [
    "\"\"\"\n",
    "18:00 = 592.4\n",
    "20:00 = 938.6\n",
    "22:00 = 383 // 331\n",
    "00:00 = 383 \n",
    "\"\"\""
   ]
  }
 ],
 "metadata": {
  "kernelspec": {
   "display_name": "Python 3",
   "language": "python",
   "name": "python3"
  }
 },
 "nbformat": 4,
 "nbformat_minor": 2
}
