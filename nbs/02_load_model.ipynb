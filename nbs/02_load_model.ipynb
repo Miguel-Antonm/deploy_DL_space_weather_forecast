{
 "cells": [
  {
   "cell_type": "code",
   "execution_count": null,
   "metadata": {},
   "outputs": [],
   "source": [
    "# default_exp load_model"
   ]
  },
  {
   "cell_type": "markdown",
   "metadata": {},
   "source": [
    "# Load Model"
   ]
  },
  {
   "cell_type": "code",
   "execution_count": null,
   "metadata": {},
   "outputs": [],
   "source": [
    "#hide\n",
    "from nbdev.showdoc import *\n",
    "import sys\n",
    "sys.path.append(\"..\")\n",
    "%load_ext autoreload\n",
    "%autoreload 2"
   ]
  },
  {
   "cell_type": "code",
   "execution_count": null,
   "metadata": {},
   "outputs": [],
   "source": [
    "#export\n",
    "import torch\n",
    "import yaml\n",
    "from fastcore.script import *\n",
    "from swfd.recursos.model import *"
   ]
  },
  {
   "cell_type": "markdown",
   "metadata": {},
   "source": [
    "loadModel(pathrun): Funcion que pasándole la dirección de una run saca su modelo"
   ]
  },
  {
   "cell_type": "code",
   "execution_count": null,
   "metadata": {},
   "outputs": [],
   "source": [
    "#export\n",
    "def loadModel(pathrun):\n",
    "    pathyaml=str(pathrun)+\"config.yaml\"\n",
    "    pathpth=str(pathrun)+\"best.pth\"\n",
    "    device = torch.device('cuda' if torch.cuda.is_available() else 'cpu')\n",
    "    model = NBeatsNet(device=device,stack_types=(NBeatsNet.GENERIC_BLOCK, NBeatsNet.GENERIC_BLOCK),\n",
    "                  nb_blocks_per_stack=config[\"nb_blocks_per_stack\"][\"value\"],\n",
    "                  thetas_dims=config[\"thetas_dims\"][\"value\"],\n",
    "                  hidden_layer_units=config[\"hidden_layer_units\"][\"value\"],\n",
    "                  forecast_length=config[\"horizon\"][\"value\"],backcast_length=config[\"lookback\"][\"value\"])\n",
    "    checkpoint = torch.load(pathpth,map_location=torch.device('cuda' if torch.cuda.is_available() else 'cpu'))\n",
    "    model.load_state_dict(checkpoint['model_state_dict'])\n",
    "    model.eval()\n",
    "    print(model.eval())\n"
   ]
  },
  {
   "cell_type": "code",
   "execution_count": null,
   "metadata": {},
   "outputs": [
    {
     "name": "stdout",
     "output_type": "stream",
     "text": [
      "| N-Beats\n",
      "| --  Stack Generic (#0) (share_weights_in_stack=False)\n",
      "     | -- GenericBlock(units=128, thetas_dim=7, backcast_length=42, forecast_length=7, share_thetas=False) at @140013641260624\n",
      "     | -- GenericBlock(units=128, thetas_dim=7, backcast_length=42, forecast_length=7, share_thetas=False) at @140013641659920\n",
      "     | -- GenericBlock(units=128, thetas_dim=7, backcast_length=42, forecast_length=7, share_thetas=False) at @140013641715776\n",
      "| --  Stack Generic (#1) (share_weights_in_stack=False)\n",
      "     | -- GenericBlock(units=128, thetas_dim=8, backcast_length=42, forecast_length=7, share_thetas=False) at @140013641658720\n",
      "     | -- GenericBlock(units=128, thetas_dim=8, backcast_length=42, forecast_length=7, share_thetas=False) at @140013641715920\n",
      "     | -- GenericBlock(units=128, thetas_dim=8, backcast_length=42, forecast_length=7, share_thetas=False) at @140013641715824\n"
     ]
    },
    {
     "data": {
      "text/plain": [
       "NBeatsNet(\n",
       "  (parameters): ParameterList(\n",
       "      (0): Parameter containing: [torch.FloatTensor of size 128x42]\n",
       "      (1): Parameter containing: [torch.FloatTensor of size 128]\n",
       "      (2): Parameter containing: [torch.FloatTensor of size 128x128]\n",
       "      (3): Parameter containing: [torch.FloatTensor of size 128]\n",
       "      (4): Parameter containing: [torch.FloatTensor of size 128x128]\n",
       "      (5): Parameter containing: [torch.FloatTensor of size 128]\n",
       "      (6): Parameter containing: [torch.FloatTensor of size 128x128]\n",
       "      (7): Parameter containing: [torch.FloatTensor of size 128]\n",
       "      (8): Parameter containing: [torch.FloatTensor of size 7x128]\n",
       "      (9): Parameter containing: [torch.FloatTensor of size 7x128]\n",
       "      (10): Parameter containing: [torch.FloatTensor of size 42x7]\n",
       "      (11): Parameter containing: [torch.FloatTensor of size 42]\n",
       "      (12): Parameter containing: [torch.FloatTensor of size 7x7]\n",
       "      (13): Parameter containing: [torch.FloatTensor of size 7]\n",
       "      (14): Parameter containing: [torch.FloatTensor of size 128x42]\n",
       "      (15): Parameter containing: [torch.FloatTensor of size 128]\n",
       "      (16): Parameter containing: [torch.FloatTensor of size 128x128]\n",
       "      (17): Parameter containing: [torch.FloatTensor of size 128]\n",
       "      (18): Parameter containing: [torch.FloatTensor of size 128x128]\n",
       "      (19): Parameter containing: [torch.FloatTensor of size 128]\n",
       "      (20): Parameter containing: [torch.FloatTensor of size 128x128]\n",
       "      (21): Parameter containing: [torch.FloatTensor of size 128]\n",
       "      (22): Parameter containing: [torch.FloatTensor of size 7x128]\n",
       "      (23): Parameter containing: [torch.FloatTensor of size 7x128]\n",
       "      (24): Parameter containing: [torch.FloatTensor of size 42x7]\n",
       "      (25): Parameter containing: [torch.FloatTensor of size 42]\n",
       "      (26): Parameter containing: [torch.FloatTensor of size 7x7]\n",
       "      (27): Parameter containing: [torch.FloatTensor of size 7]\n",
       "      (28): Parameter containing: [torch.FloatTensor of size 128x42]\n",
       "      (29): Parameter containing: [torch.FloatTensor of size 128]\n",
       "      (30): Parameter containing: [torch.FloatTensor of size 128x128]\n",
       "      (31): Parameter containing: [torch.FloatTensor of size 128]\n",
       "      (32): Parameter containing: [torch.FloatTensor of size 128x128]\n",
       "      (33): Parameter containing: [torch.FloatTensor of size 128]\n",
       "      (34): Parameter containing: [torch.FloatTensor of size 128x128]\n",
       "      (35): Parameter containing: [torch.FloatTensor of size 128]\n",
       "      (36): Parameter containing: [torch.FloatTensor of size 7x128]\n",
       "      (37): Parameter containing: [torch.FloatTensor of size 7x128]\n",
       "      (38): Parameter containing: [torch.FloatTensor of size 42x7]\n",
       "      (39): Parameter containing: [torch.FloatTensor of size 42]\n",
       "      (40): Parameter containing: [torch.FloatTensor of size 7x7]\n",
       "      (41): Parameter containing: [torch.FloatTensor of size 7]\n",
       "      (42): Parameter containing: [torch.FloatTensor of size 128x42]\n",
       "      (43): Parameter containing: [torch.FloatTensor of size 128]\n",
       "      (44): Parameter containing: [torch.FloatTensor of size 128x128]\n",
       "      (45): Parameter containing: [torch.FloatTensor of size 128]\n",
       "      (46): Parameter containing: [torch.FloatTensor of size 128x128]\n",
       "      (47): Parameter containing: [torch.FloatTensor of size 128]\n",
       "      (48): Parameter containing: [torch.FloatTensor of size 128x128]\n",
       "      (49): Parameter containing: [torch.FloatTensor of size 128]\n",
       "      (50): Parameter containing: [torch.FloatTensor of size 8x128]\n",
       "      (51): Parameter containing: [torch.FloatTensor of size 8x128]\n",
       "      (52): Parameter containing: [torch.FloatTensor of size 42x8]\n",
       "      (53): Parameter containing: [torch.FloatTensor of size 42]\n",
       "      (54): Parameter containing: [torch.FloatTensor of size 7x8]\n",
       "      (55): Parameter containing: [torch.FloatTensor of size 7]\n",
       "      (56): Parameter containing: [torch.FloatTensor of size 128x42]\n",
       "      (57): Parameter containing: [torch.FloatTensor of size 128]\n",
       "      (58): Parameter containing: [torch.FloatTensor of size 128x128]\n",
       "      (59): Parameter containing: [torch.FloatTensor of size 128]\n",
       "      (60): Parameter containing: [torch.FloatTensor of size 128x128]\n",
       "      (61): Parameter containing: [torch.FloatTensor of size 128]\n",
       "      (62): Parameter containing: [torch.FloatTensor of size 128x128]\n",
       "      (63): Parameter containing: [torch.FloatTensor of size 128]\n",
       "      (64): Parameter containing: [torch.FloatTensor of size 8x128]\n",
       "      (65): Parameter containing: [torch.FloatTensor of size 8x128]\n",
       "      (66): Parameter containing: [torch.FloatTensor of size 42x8]\n",
       "      (67): Parameter containing: [torch.FloatTensor of size 42]\n",
       "      (68): Parameter containing: [torch.FloatTensor of size 7x8]\n",
       "      (69): Parameter containing: [torch.FloatTensor of size 7]\n",
       "      (70): Parameter containing: [torch.FloatTensor of size 128x42]\n",
       "      (71): Parameter containing: [torch.FloatTensor of size 128]\n",
       "      (72): Parameter containing: [torch.FloatTensor of size 128x128]\n",
       "      (73): Parameter containing: [torch.FloatTensor of size 128]\n",
       "      (74): Parameter containing: [torch.FloatTensor of size 128x128]\n",
       "      (75): Parameter containing: [torch.FloatTensor of size 128]\n",
       "      (76): Parameter containing: [torch.FloatTensor of size 128x128]\n",
       "      (77): Parameter containing: [torch.FloatTensor of size 128]\n",
       "      (78): Parameter containing: [torch.FloatTensor of size 8x128]\n",
       "      (79): Parameter containing: [torch.FloatTensor of size 8x128]\n",
       "      (80): Parameter containing: [torch.FloatTensor of size 42x8]\n",
       "      (81): Parameter containing: [torch.FloatTensor of size 42]\n",
       "      (82): Parameter containing: [torch.FloatTensor of size 7x8]\n",
       "      (83): Parameter containing: [torch.FloatTensor of size 7]\n",
       "  )\n",
       ")"
      ]
     },
     "execution_count": null,
     "metadata": {},
     "output_type": "execute_result"
    }
   ],
   "source": [
    "\"\"\"config=yaml.safe_load(open('/home/miguel/Escritorio/tfg_swf/csv/pth/ensembleH7/sweep_run_2/config.yaml'))\n",
    "pathpth='/home/miguel/Escritorio/tfg_swf/csv/pth/ensembleH7/sweep_run_2/best.pth'\n",
    "device = torch.device('cuda' if torch.cuda.is_available() else 'cpu')\n",
    "model = NBeatsNet(device=device,stack_types=(NBeatsNet.GENERIC_BLOCK, NBeatsNet.GENERIC_BLOCK),\n",
    "                  nb_blocks_per_stack=config[\"nb_blocks_per_stack\"][\"value\"],\n",
    "                  thetas_dims=config[\"thetas_dims\"][\"value\"],\n",
    "                  hidden_layer_units=config[\"hidden_layer_units\"][\"value\"],\n",
    "                  forecast_length=config[\"horizon\"][\"value\"],backcast_length=config[\"lookback\"][\"value\"])\n",
    "checkpoint = torch.load(pathpth,map_location=torch.device('cuda' if torch.cuda.is_available() else 'cpu'))\n",
    "model.load_state_dict(checkpoint['model_state_dict'])\n",
    "model.eval()\"\"\""
   ]
  }
 ],
 "metadata": {
  "kernelspec": {
   "display_name": "Python 3",
   "language": "python",
   "name": "python3"
  }
 },
 "nbformat": 4,
 "nbformat_minor": 4
}
