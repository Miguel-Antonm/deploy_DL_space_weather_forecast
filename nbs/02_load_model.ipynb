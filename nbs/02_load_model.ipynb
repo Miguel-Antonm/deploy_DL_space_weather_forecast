{
 "cells": [
  {
   "cell_type": "code",
   "execution_count": null,
   "metadata": {},
   "outputs": [],
   "source": [
    "# default_exp load_model"
   ]
  },
  {
   "cell_type": "markdown",
   "metadata": {},
   "source": [
    "# Load Model"
   ]
  },
  {
   "cell_type": "code",
   "execution_count": null,
   "metadata": {},
   "outputs": [
    {
     "name": "stdout",
     "output_type": "stream",
     "text": [
      "The autoreload extension is already loaded. To reload it, use:\n",
      "  %reload_ext autoreload\n"
     ]
    }
   ],
   "source": [
    "#hide\n",
    "from nbdev.showdoc import *\n",
    "import sys\n",
    "sys.path.append(\"..\")\n",
    "%load_ext autoreload\n",
    "%autoreload 2"
   ]
  },
  {
   "cell_type": "code",
   "execution_count": null,
   "metadata": {},
   "outputs": [],
   "source": [
    "#export\n",
    "import torch \n",
    "import yaml\n",
    "from fastcore.script import *\n",
    "from swfd.recursos.model import *\n",
    "import csv\n",
    "import numpy as np\n",
    "import os\n",
    "import matplotlib.pyplot as plt\n",
    "from swfd.web_scraping import *"
   ]
  },
  {
   "cell_type": "markdown",
   "metadata": {},
   "source": [
    "loadModel(pathrun): Funcion que pasándole la dirección de una run saca su modelo"
   ]
  },
  {
   "cell_type": "code",
   "execution_count": null,
   "metadata": {},
   "outputs": [],
   "source": [
    "#export\n",
    "def loadModel(pathrun):\n",
    "    pathyaml=str(pathrun)+\"config.yaml\"\n",
    "    pathpth=str(pathrun)+\"best.pth\"\n",
    "    config=yaml.safe_load(open(str(pathyaml)))\n",
    "    device = torch.device('cuda' if torch.cuda.is_available() else 'cpu')\n",
    "    model = NBeatsNet(device=device,stack_types=(NBeatsNet.GENERIC_BLOCK, NBeatsNet.GENERIC_BLOCK),\n",
    "                  nb_blocks_per_stack=config[\"nb_blocks_per_stack\"][\"value\"],\n",
    "                  thetas_dims=config[\"thetas_dims\"][\"value\"],\n",
    "                  hidden_layer_units=config[\"hidden_layer_units\"][\"value\"],\n",
    "                  forecast_length=config[\"horizon\"][\"value\"],backcast_length=config[\"lookback\"][\"value\"])\n",
    "    checkpoint = torch.load(pathpth,map_location=device)\n",
    "    model.load_state_dict(checkpoint['model_state_dict'])\n",
    "    model.eval()\n",
    "    return model\n"
   ]
  },
  {
   "cell_type": "code",
   "execution_count": null,
   "metadata": {},
   "outputs": [
    {
     "data": {
      "text/plain": [
       "NBeatsNet(\n",
       "  (parameters): ParameterList(\n",
       "      (0): Parameter containing: [torch.FloatTensor of size 128x42]\n",
       "      (1): Parameter containing: [torch.FloatTensor of size 128]\n",
       "      (2): Parameter containing: [torch.FloatTensor of size 128x128]\n",
       "      (3): Parameter containing: [torch.FloatTensor of size 128]\n",
       "      (4): Parameter containing: [torch.FloatTensor of size 128x128]\n",
       "      (5): Parameter containing: [torch.FloatTensor of size 128]\n",
       "      (6): Parameter containing: [torch.FloatTensor of size 128x128]\n",
       "      (7): Parameter containing: [torch.FloatTensor of size 128]\n",
       "      (8): Parameter containing: [torch.FloatTensor of size 7x128]\n",
       "      (9): Parameter containing: [torch.FloatTensor of size 7x128]\n",
       "      (10): Parameter containing: [torch.FloatTensor of size 42x7]\n",
       "      (11): Parameter containing: [torch.FloatTensor of size 42]\n",
       "      (12): Parameter containing: [torch.FloatTensor of size 7x7]\n",
       "      (13): Parameter containing: [torch.FloatTensor of size 7]\n",
       "      (14): Parameter containing: [torch.FloatTensor of size 128x42]\n",
       "      (15): Parameter containing: [torch.FloatTensor of size 128]\n",
       "      (16): Parameter containing: [torch.FloatTensor of size 128x128]\n",
       "      (17): Parameter containing: [torch.FloatTensor of size 128]\n",
       "      (18): Parameter containing: [torch.FloatTensor of size 128x128]\n",
       "      (19): Parameter containing: [torch.FloatTensor of size 128]\n",
       "      (20): Parameter containing: [torch.FloatTensor of size 128x128]\n",
       "      (21): Parameter containing: [torch.FloatTensor of size 128]\n",
       "      (22): Parameter containing: [torch.FloatTensor of size 7x128]\n",
       "      (23): Parameter containing: [torch.FloatTensor of size 7x128]\n",
       "      (24): Parameter containing: [torch.FloatTensor of size 42x7]\n",
       "      (25): Parameter containing: [torch.FloatTensor of size 42]\n",
       "      (26): Parameter containing: [torch.FloatTensor of size 7x7]\n",
       "      (27): Parameter containing: [torch.FloatTensor of size 7]\n",
       "      (28): Parameter containing: [torch.FloatTensor of size 128x42]\n",
       "      (29): Parameter containing: [torch.FloatTensor of size 128]\n",
       "      (30): Parameter containing: [torch.FloatTensor of size 128x128]\n",
       "      (31): Parameter containing: [torch.FloatTensor of size 128]\n",
       "      (32): Parameter containing: [torch.FloatTensor of size 128x128]\n",
       "      (33): Parameter containing: [torch.FloatTensor of size 128]\n",
       "      (34): Parameter containing: [torch.FloatTensor of size 128x128]\n",
       "      (35): Parameter containing: [torch.FloatTensor of size 128]\n",
       "      (36): Parameter containing: [torch.FloatTensor of size 7x128]\n",
       "      (37): Parameter containing: [torch.FloatTensor of size 7x128]\n",
       "      (38): Parameter containing: [torch.FloatTensor of size 42x7]\n",
       "      (39): Parameter containing: [torch.FloatTensor of size 42]\n",
       "      (40): Parameter containing: [torch.FloatTensor of size 7x7]\n",
       "      (41): Parameter containing: [torch.FloatTensor of size 7]\n",
       "      (42): Parameter containing: [torch.FloatTensor of size 128x42]\n",
       "      (43): Parameter containing: [torch.FloatTensor of size 128]\n",
       "      (44): Parameter containing: [torch.FloatTensor of size 128x128]\n",
       "      (45): Parameter containing: [torch.FloatTensor of size 128]\n",
       "      (46): Parameter containing: [torch.FloatTensor of size 128x128]\n",
       "      (47): Parameter containing: [torch.FloatTensor of size 128]\n",
       "      (48): Parameter containing: [torch.FloatTensor of size 128x128]\n",
       "      (49): Parameter containing: [torch.FloatTensor of size 128]\n",
       "      (50): Parameter containing: [torch.FloatTensor of size 8x128]\n",
       "      (51): Parameter containing: [torch.FloatTensor of size 8x128]\n",
       "      (52): Parameter containing: [torch.FloatTensor of size 42x8]\n",
       "      (53): Parameter containing: [torch.FloatTensor of size 42]\n",
       "      (54): Parameter containing: [torch.FloatTensor of size 7x8]\n",
       "      (55): Parameter containing: [torch.FloatTensor of size 7]\n",
       "      (56): Parameter containing: [torch.FloatTensor of size 128x42]\n",
       "      (57): Parameter containing: [torch.FloatTensor of size 128]\n",
       "      (58): Parameter containing: [torch.FloatTensor of size 128x128]\n",
       "      (59): Parameter containing: [torch.FloatTensor of size 128]\n",
       "      (60): Parameter containing: [torch.FloatTensor of size 128x128]\n",
       "      (61): Parameter containing: [torch.FloatTensor of size 128]\n",
       "      (62): Parameter containing: [torch.FloatTensor of size 128x128]\n",
       "      (63): Parameter containing: [torch.FloatTensor of size 128]\n",
       "      (64): Parameter containing: [torch.FloatTensor of size 8x128]\n",
       "      (65): Parameter containing: [torch.FloatTensor of size 8x128]\n",
       "      (66): Parameter containing: [torch.FloatTensor of size 42x8]\n",
       "      (67): Parameter containing: [torch.FloatTensor of size 42]\n",
       "      (68): Parameter containing: [torch.FloatTensor of size 7x8]\n",
       "      (69): Parameter containing: [torch.FloatTensor of size 7]\n",
       "      (70): Parameter containing: [torch.FloatTensor of size 128x42]\n",
       "      (71): Parameter containing: [torch.FloatTensor of size 128]\n",
       "      (72): Parameter containing: [torch.FloatTensor of size 128x128]\n",
       "      (73): Parameter containing: [torch.FloatTensor of size 128]\n",
       "      (74): Parameter containing: [torch.FloatTensor of size 128x128]\n",
       "      (75): Parameter containing: [torch.FloatTensor of size 128]\n",
       "      (76): Parameter containing: [torch.FloatTensor of size 128x128]\n",
       "      (77): Parameter containing: [torch.FloatTensor of size 128]\n",
       "      (78): Parameter containing: [torch.FloatTensor of size 8x128]\n",
       "      (79): Parameter containing: [torch.FloatTensor of size 8x128]\n",
       "      (80): Parameter containing: [torch.FloatTensor of size 42x8]\n",
       "      (81): Parameter containing: [torch.FloatTensor of size 42]\n",
       "      (82): Parameter containing: [torch.FloatTensor of size 7x8]\n",
       "      (83): Parameter containing: [torch.FloatTensor of size 7]\n",
       "  )\n",
       ")"
      ]
     },
     "execution_count": null,
     "metadata": {},
     "output_type": "execute_result"
    }
   ],
   "source": [
    "#hide\n",
    "currentfolderpathtest=os.getcwd()\n",
    "pathmodeltest=currentfolderpathtest+\"/test/example_run_forecast7/\"\n",
    "modeltest=loadModel(pathmodeltest)\n",
    "modeltest"
   ]
  },
  {
   "cell_type": "markdown",
   "metadata": {},
   "source": [
    "getcsvdata(lookback):Funcion que devuelve el numero de valores de sfu empezando en el dia actual \"lookback\" veces."
   ]
  },
  {
   "cell_type": "code",
   "execution_count": null,
   "metadata": {},
   "outputs": [],
   "source": [
    "#export\n",
    "def getcsvdata(lookback):\n",
    "    pathfoldercsv=getInfo(\"csvdirectory\") #Obtiene del txt el path del csv\n",
    "    csvname=\"sfuData.csv\" #Siempre se llamara así\n",
    "    datalist=[]\n",
    "    try:       \n",
    "        with open(str(pathfoldercsv)+str(csvname)) as csv_file:\n",
    "            forecastcount=0\n",
    "            for row in reversed(list(csv.reader(csv_file, delimiter=','))):\n",
    "                if(forecastcount<lookback):\n",
    "                    datalist=np.append(datalist,float(row[1]))\n",
    "                    forecastcount=forecastcount+1\n",
    "                    \n",
    "    finally:\n",
    "        csv_file.close()\n",
    "    return datalist\n"
   ]
  },
  {
   "cell_type": "code",
   "execution_count": null,
   "metadata": {},
   "outputs": [
    {
     "data": {
      "text/plain": [
       "array([72.9, 73.7, 73.4, 73.7, 75.5, 75.6, 76.3])"
      ]
     },
     "execution_count": null,
     "metadata": {},
     "output_type": "execute_result"
    }
   ],
   "source": [
    "#hide\n",
    "getcsvdata(7)"
   ]
  },
  {
   "cell_type": "markdown",
   "metadata": {},
   "source": [
    "getnamerunfolders(horizon,runshorizonfolder): Funcion que devuelve lista con el directorio de todas las carpetas de un horizonte"
   ]
  },
  {
   "cell_type": "code",
   "execution_count": null,
   "metadata": {},
   "outputs": [],
   "source": [
    "#export\n",
    "def getnamerunfolders(horizon,runshorizonfolder): \n",
    "    runshorizonfolder=runshorizonfolder+\"ensembleH\"+str(horizon)\n",
    "    pathfolderruns=[]\n",
    "    contenido = os.listdir(str(runshorizonfolder))\n",
    "    for i in contenido:\n",
    "        pathrun=runshorizonfolder+\"/\"+str(i)+\"/\"\n",
    "        pathfolderruns.append(pathrun)\n",
    "    \n",
    "    return pathfolderruns\n"
   ]
  },
  {
   "cell_type": "code",
   "execution_count": null,
   "metadata": {},
   "outputs": [
    {
     "data": {
      "text/plain": [
       "['/home/miguel/Escritorio/tfg_swf/csv/pth/ensembleH7/sweep_run_22/',\n",
       " '/home/miguel/Escritorio/tfg_swf/csv/pth/ensembleH7/sweep_run_3/',\n",
       " '/home/miguel/Escritorio/tfg_swf/csv/pth/ensembleH7/sweep_run_20/',\n",
       " '/home/miguel/Escritorio/tfg_swf/csv/pth/ensembleH7/sweep_run_72/',\n",
       " '/home/miguel/Escritorio/tfg_swf/csv/pth/ensembleH7/sweep_run_28/',\n",
       " '/home/miguel/Escritorio/tfg_swf/csv/pth/ensembleH7/sweep_run_87/',\n",
       " '/home/miguel/Escritorio/tfg_swf/csv/pth/ensembleH7/sweep_run_12/',\n",
       " '/home/miguel/Escritorio/tfg_swf/csv/pth/ensembleH7/sweep_run_89/',\n",
       " '/home/miguel/Escritorio/tfg_swf/csv/pth/ensembleH7/sweep_run_86/',\n",
       " '/home/miguel/Escritorio/tfg_swf/csv/pth/ensembleH7/sweep_run_49/',\n",
       " '/home/miguel/Escritorio/tfg_swf/csv/pth/ensembleH7/sweep_run_70/',\n",
       " '/home/miguel/Escritorio/tfg_swf/csv/pth/ensembleH7/sweep_run_80/',\n",
       " '/home/miguel/Escritorio/tfg_swf/csv/pth/ensembleH7/sweep_run_41/',\n",
       " '/home/miguel/Escritorio/tfg_swf/csv/pth/ensembleH7/sweep_run_71/',\n",
       " '/home/miguel/Escritorio/tfg_swf/csv/pth/ensembleH7/sweep_run_55/',\n",
       " '/home/miguel/Escritorio/tfg_swf/csv/pth/ensembleH7/sweep_run_16/',\n",
       " '/home/miguel/Escritorio/tfg_swf/csv/pth/ensembleH7/sweep_run_59/',\n",
       " '/home/miguel/Escritorio/tfg_swf/csv/pth/ensembleH7/sweep_run_67/',\n",
       " '/home/miguel/Escritorio/tfg_swf/csv/pth/ensembleH7/sweep_run_39/',\n",
       " '/home/miguel/Escritorio/tfg_swf/csv/pth/ensembleH7/sweep_run_42/',\n",
       " '/home/miguel/Escritorio/tfg_swf/csv/pth/ensembleH7/sweep_run_74/',\n",
       " '/home/miguel/Escritorio/tfg_swf/csv/pth/ensembleH7/sweep_run_32/',\n",
       " '/home/miguel/Escritorio/tfg_swf/csv/pth/ensembleH7/sweep_run_33/',\n",
       " '/home/miguel/Escritorio/tfg_swf/csv/pth/ensembleH7/sweep_run_47/',\n",
       " '/home/miguel/Escritorio/tfg_swf/csv/pth/ensembleH7/sweep_run_65/',\n",
       " '/home/miguel/Escritorio/tfg_swf/csv/pth/ensembleH7/sweep_run_9/',\n",
       " '/home/miguel/Escritorio/tfg_swf/csv/pth/ensembleH7/sweep_run_54/',\n",
       " '/home/miguel/Escritorio/tfg_swf/csv/pth/ensembleH7/sweep_run_8/',\n",
       " '/home/miguel/Escritorio/tfg_swf/csv/pth/ensembleH7/sweep_run_77/',\n",
       " '/home/miguel/Escritorio/tfg_swf/csv/pth/ensembleH7/sweep_run_34/',\n",
       " '/home/miguel/Escritorio/tfg_swf/csv/pth/ensembleH7/sweep_run_88/',\n",
       " '/home/miguel/Escritorio/tfg_swf/csv/pth/ensembleH7/sweep_run_23/',\n",
       " '/home/miguel/Escritorio/tfg_swf/csv/pth/ensembleH7/sweep_run_46/',\n",
       " '/home/miguel/Escritorio/tfg_swf/csv/pth/ensembleH7/sweep_run_81/',\n",
       " '/home/miguel/Escritorio/tfg_swf/csv/pth/ensembleH7/sweep_run_66/',\n",
       " '/home/miguel/Escritorio/tfg_swf/csv/pth/ensembleH7/sweep_run_63/',\n",
       " '/home/miguel/Escritorio/tfg_swf/csv/pth/ensembleH7/sweep_run_38/',\n",
       " '/home/miguel/Escritorio/tfg_swf/csv/pth/ensembleH7/sweep_run_83/',\n",
       " '/home/miguel/Escritorio/tfg_swf/csv/pth/ensembleH7/sweep_run_73/',\n",
       " '/home/miguel/Escritorio/tfg_swf/csv/pth/ensembleH7/sweep_run_50/',\n",
       " '/home/miguel/Escritorio/tfg_swf/csv/pth/ensembleH7/sweep_run_24/',\n",
       " '/home/miguel/Escritorio/tfg_swf/csv/pth/ensembleH7/sweep_run_43/',\n",
       " '/home/miguel/Escritorio/tfg_swf/csv/pth/ensembleH7/sweep_run_69/',\n",
       " '/home/miguel/Escritorio/tfg_swf/csv/pth/ensembleH7/sweep_run_19/',\n",
       " '/home/miguel/Escritorio/tfg_swf/csv/pth/ensembleH7/sweep_run_79/',\n",
       " '/home/miguel/Escritorio/tfg_swf/csv/pth/ensembleH7/sweep_run_31/',\n",
       " '/home/miguel/Escritorio/tfg_swf/csv/pth/ensembleH7/sweep_run_30/',\n",
       " '/home/miguel/Escritorio/tfg_swf/csv/pth/ensembleH7/sweep_run_35/',\n",
       " '/home/miguel/Escritorio/tfg_swf/csv/pth/ensembleH7/sweep_run_5/',\n",
       " '/home/miguel/Escritorio/tfg_swf/csv/pth/ensembleH7/sweep_run_60/',\n",
       " '/home/miguel/Escritorio/tfg_swf/csv/pth/ensembleH7/sweep_run_27/',\n",
       " '/home/miguel/Escritorio/tfg_swf/csv/pth/ensembleH7/sweep_run_61/',\n",
       " '/home/miguel/Escritorio/tfg_swf/csv/pth/ensembleH7/sweep_run_14/',\n",
       " '/home/miguel/Escritorio/tfg_swf/csv/pth/ensembleH7/sweep_run_45/',\n",
       " '/home/miguel/Escritorio/tfg_swf/csv/pth/ensembleH7/sweep_run_56/',\n",
       " '/home/miguel/Escritorio/tfg_swf/csv/pth/ensembleH7/sweep_run_17/',\n",
       " '/home/miguel/Escritorio/tfg_swf/csv/pth/ensembleH7/sweep_run_51/',\n",
       " '/home/miguel/Escritorio/tfg_swf/csv/pth/ensembleH7/sweep_run_7/',\n",
       " '/home/miguel/Escritorio/tfg_swf/csv/pth/ensembleH7/sweep_run_85/',\n",
       " '/home/miguel/Escritorio/tfg_swf/csv/pth/ensembleH7/sweep_run_10/',\n",
       " '/home/miguel/Escritorio/tfg_swf/csv/pth/ensembleH7/sweep_run_4/',\n",
       " '/home/miguel/Escritorio/tfg_swf/csv/pth/ensembleH7/sweep_run_1/',\n",
       " '/home/miguel/Escritorio/tfg_swf/csv/pth/ensembleH7/sweep_run_78/',\n",
       " '/home/miguel/Escritorio/tfg_swf/csv/pth/ensembleH7/sweep_run_68/',\n",
       " '/home/miguel/Escritorio/tfg_swf/csv/pth/ensembleH7/sweep_run_58/',\n",
       " '/home/miguel/Escritorio/tfg_swf/csv/pth/ensembleH7/sweep_run_15/',\n",
       " '/home/miguel/Escritorio/tfg_swf/csv/pth/ensembleH7/sweep_run_11/',\n",
       " '/home/miguel/Escritorio/tfg_swf/csv/pth/ensembleH7/sweep_run_48/',\n",
       " '/home/miguel/Escritorio/tfg_swf/csv/pth/ensembleH7/sweep_run_21/',\n",
       " '/home/miguel/Escritorio/tfg_swf/csv/pth/ensembleH7/sweep_run_26/',\n",
       " '/home/miguel/Escritorio/tfg_swf/csv/pth/ensembleH7/sweep_run_18/',\n",
       " '/home/miguel/Escritorio/tfg_swf/csv/pth/ensembleH7/sweep_run_84/',\n",
       " '/home/miguel/Escritorio/tfg_swf/csv/pth/ensembleH7/sweep_run_52/',\n",
       " '/home/miguel/Escritorio/tfg_swf/csv/pth/ensembleH7/sweep_run_25/',\n",
       " '/home/miguel/Escritorio/tfg_swf/csv/pth/ensembleH7/sweep_run_36/',\n",
       " '/home/miguel/Escritorio/tfg_swf/csv/pth/ensembleH7/sweep_run_75/',\n",
       " '/home/miguel/Escritorio/tfg_swf/csv/pth/ensembleH7/sweep_run_6/',\n",
       " '/home/miguel/Escritorio/tfg_swf/csv/pth/ensembleH7/sweep_run_57/',\n",
       " '/home/miguel/Escritorio/tfg_swf/csv/pth/ensembleH7/sweep_run_62/',\n",
       " '/home/miguel/Escritorio/tfg_swf/csv/pth/ensembleH7/sweep_run_13/',\n",
       " '/home/miguel/Escritorio/tfg_swf/csv/pth/ensembleH7/sweep_run_37/',\n",
       " '/home/miguel/Escritorio/tfg_swf/csv/pth/ensembleH7/sweep_run_40/',\n",
       " '/home/miguel/Escritorio/tfg_swf/csv/pth/ensembleH7/sweep_run_76/',\n",
       " '/home/miguel/Escritorio/tfg_swf/csv/pth/ensembleH7/sweep_run_53/',\n",
       " '/home/miguel/Escritorio/tfg_swf/csv/pth/ensembleH7/sweep_run_44/',\n",
       " '/home/miguel/Escritorio/tfg_swf/csv/pth/ensembleH7/sweep_run_64/',\n",
       " '/home/miguel/Escritorio/tfg_swf/csv/pth/ensembleH7/sweep_run_2/',\n",
       " '/home/miguel/Escritorio/tfg_swf/csv/pth/ensembleH7/sweep_run_82/',\n",
       " '/home/miguel/Escritorio/tfg_swf/csv/pth/ensembleH7/sweep_run_90/',\n",
       " '/home/miguel/Escritorio/tfg_swf/csv/pth/ensembleH7/sweep_run_29/']"
      ]
     },
     "execution_count": null,
     "metadata": {},
     "output_type": "execute_result"
    }
   ],
   "source": [
    "#hide\n",
    "getnamerunfolders(7,\"/home/miguel/Escritorio/tfg_swf/csv/pth/\")"
   ]
  },
  {
   "cell_type": "markdown",
   "metadata": {},
   "source": [
    "singleprediction(path,normalize): Funcion que hace la prediccion de una run concreta(carpeta individual)"
   ]
  },
  {
   "cell_type": "code",
   "execution_count": null,
   "metadata": {},
   "outputs": [],
   "source": [
    "#export\n",
    "def singleprediction(filepath,normalize):\n",
    "    net=loadModel(str(filepath))\n",
    "    lookback=net.backcast_length\n",
    "    data=getcsvdata(lookback)\n",
    "    row = torch.Tensor([data/normalize])\n",
    "    backcast,forecast = net(row)\n",
    "    preds_tensor=(forecast.detach().numpy())*normalize\n",
    "    return preds_tensor[0]\n"
   ]
  },
  {
   "cell_type": "code",
   "execution_count": null,
   "metadata": {},
   "outputs": [
    {
     "data": {
      "text/plain": [
       "array([79.85754, 83.43284, 94.86105], dtype=float32)"
      ]
     },
     "execution_count": null,
     "metadata": {},
     "output_type": "execute_result"
    }
   ],
   "source": [
    "#hide\n",
    "currentfolderpathtest=os.getcwd()\n",
    "runpathtest=currentfolderpathtest+\"/test/example_run_forecast3/\" #\"/test/example_run_forecast7/\"\n",
    "#runpath=currentfolderpath+\"/test/example_run_forecast7/\"\n",
    "predicttest=singleprediction(runpathtest,938.6)\n",
    "predicttest"
   ]
  },
  {
   "cell_type": "markdown",
   "metadata": {},
   "source": [
    "ensembleprediction(path,normalize): Funcion que se recorre cada carpeta de un horizonte y hace la predicion para cada run, devolviendo una lista con todas las predicciones."
   ]
  },
  {
   "cell_type": "code",
   "execution_count": null,
   "metadata": {},
   "outputs": [],
   "source": [
    "#export\n",
    "def ensembleprediction(horizon,normalize):\n",
    "    prediction=[]\n",
    "    folderpath=getInfo(\"pthdirectory\")\n",
    "    runspath=getnamerunfolders(horizon,folderpath)\n",
    "    for run in runspath:\n",
    "        prediction.append(singleprediction(run,normalize))\n",
    "    return prediction"
   ]
  },
  {
   "cell_type": "code",
   "execution_count": null,
   "metadata": {},
   "outputs": [
    {
     "name": "stdout",
     "output_type": "stream",
     "text": [
      "[array([74.981155, 92.93279 , 92.622154, 79.89616 , 86.963745],\n",
      "      dtype=float32), array([84.54304 , 91.930885, 87.835915, 91.26686 , 88.970436],\n",
      "      dtype=float32), array([86.38434, 93.41148, 95.53563, 85.63299, 91.77669], dtype=float32), array([84.73564 , 76.66728 , 89.02227 , 85.671616, 90.735634],\n",
      "      dtype=float32), array([80.499985, 84.37188 , 77.60178 , 83.79948 , 76.84219 ],\n",
      "      dtype=float32), array([86.80842 , 91.533325, 82.43016 , 84.47903 , 86.20782 ],\n",
      "      dtype=float32), array([88.46016 , 95.98141 , 80.343925, 85.026245, 84.27839 ],\n",
      "      dtype=float32), array([73.78886 , 96.20657 , 91.785286, 87.34165 , 80.62271 ],\n",
      "      dtype=float32), array([86.00594 , 94.54687 , 88.13045 , 90.267975, 95.38281 ],\n",
      "      dtype=float32), array([91.4103  , 82.90245 , 91.30496 , 95.156494, 98.4752  ],\n",
      "      dtype=float32), array([82.62045, 85.30244, 82.89681, 88.06808, 91.41293], dtype=float32), array([79.20084 , 88.19611 , 91.729836, 86.99387 , 84.817085],\n",
      "      dtype=float32), array([ 91.51332 ,  89.32335 , 101.925865,  83.14495 ,  88.73301 ],\n",
      "      dtype=float32), array([82.459274, 79.952156, 91.52713 , 82.91752 , 94.455444],\n",
      "      dtype=float32), array([96.934784, 92.32763 , 96.635864, 92.88094 , 87.49496 ],\n",
      "      dtype=float32), array([74.377144, 82.071144, 91.4623  , 90.001335, 70.920845],\n",
      "      dtype=float32), array([93.44712 , 91.72223 , 90.707245, 90.29333 , 88.70436 ],\n",
      "      dtype=float32), array([94.586395, 88.38165 , 95.8863  , 94.09482 , 97.14446 ],\n",
      "      dtype=float32), array([98.90705, 90.41795, 78.40495, 88.64323, 94.72028], dtype=float32), array([89.274414, 97.11102 , 88.08094 , 84.76577 , 87.79321 ],\n",
      "      dtype=float32), array([85.02841 , 91.40253 , 85.7503  , 95.29196 , 71.680824],\n",
      "      dtype=float32), array([ 84.80089 , 102.442444,  89.5084  ,  92.01395 ,  90.08185 ],\n",
      "      dtype=float32), array([75.74668 , 86.77695 , 58.86133 , 81.90409 , 84.152824],\n",
      "      dtype=float32), array([87.00672, 91.46524, 96.004  , 94.29494, 90.584  ], dtype=float32), array([88.4799  , 84.81182 , 78.33657 , 82.04399 , 82.544266],\n",
      "      dtype=float32), array([93.2493  , 62.706562, 96.78565 , 80.26762 , 94.96175 ],\n",
      "      dtype=float32), array([90.63871 , 89.768684, 87.66994 , 91.08979 , 87.82076 ],\n",
      "      dtype=float32), array([82.24529 , 86.37539 , 86.27727 , 82.692604, 84.427704],\n",
      "      dtype=float32), array([84.542564, 97.80124 , 83.7391  , 86.02744 , 79.92347 ],\n",
      "      dtype=float32), array([95.71682 , 80.43444 , 72.28685 , 86.356606, 82.35138 ],\n",
      "      dtype=float32), array([85.21871 , 86.335724, 84.93346 , 84.918816, 83.41068 ],\n",
      "      dtype=float32), array([83.87236 , 86.020065, 79.788   , 86.96994 , 81.41775 ],\n",
      "      dtype=float32), array([126.044   , 113.128174,  65.80382 ,  88.000305, 102.94432 ],\n",
      "      dtype=float32), array([84.622  , 91.24619, 90.20136, 93.71753, 98.96517], dtype=float32), array([83.51692 , 84.335915, 91.286026, 82.5627  , 94.68154 ],\n",
      "      dtype=float32), array([100.144485,  95.391754, 101.00805 ,  92.445946,  98.13671 ],\n",
      "      dtype=float32), array([ 85.41094 ,  91.569145,  77.82025 ,  87.57822 , 101.41452 ],\n",
      "      dtype=float32), array([87.14282 , 92.484795, 86.438034, 88.361206, 91.2143  ],\n",
      "      dtype=float32), array([98.08129 , 92.306015, 96.36886 , 88.62886 , 90.69244 ],\n",
      "      dtype=float32), array([93.21998 , 90.86755 , 89.949776, 91.77978 , 86.17106 ],\n",
      "      dtype=float32), array([70.37166, 82.7654 , 77.44735, 80.79926, 92.15791], dtype=float32), array([82.92105 , 88.74831 , 69.05984 , 84.333954, 98.628876],\n",
      "      dtype=float32), array([78.69973 , 87.67464 , 92.15332 , 92.74715 , 85.330154],\n",
      "      dtype=float32), array([69.1196 , 87.79718, 74.89423, 86.06787, 92.80106], dtype=float32), array([84.487526, 98.85445 , 98.99025 , 89.448524, 87.5317  ],\n",
      "      dtype=float32), array([ 94.96447,  98.69871, 102.2985 ,  82.80964,  89.2179 ],\n",
      "      dtype=float32), array([85.78882, 88.00186, 87.543  , 85.80153, 88.38086], dtype=float32), array([ 97.6693  ,  97.845215,  94.998276, 129.37946 , 102.348595],\n",
      "      dtype=float32), array([102.90312,  95.54737,  85.27158,  79.35732,  98.57536],\n",
      "      dtype=float32), array([85.314575, 87.51668 , 88.86673 , 86.93407 , 85.68588 ],\n",
      "      dtype=float32), array([80.895454, 83.74719 , 83.88557 , 77.048965, 87.013664],\n",
      "      dtype=float32), array([75.9124  , 78.61258 , 89.20482 , 74.56204 , 93.102165],\n",
      "      dtype=float32), array([94.16951, 65.12112, 97.65222, 89.20403, 98.79316], dtype=float32), array([ 85.29804,  92.12493,  92.23742, 101.94076,  86.47502],\n",
      "      dtype=float32), array([ 86.49543 , 113.90992 ,  93.94912 , 108.183105,  93.6764  ],\n",
      "      dtype=float32), array([76.65757, 80.37164, 85.8662 , 65.27969, 91.6354 ], dtype=float32), array([96.73731 , 97.069786, 88.1893  , 88.31971 , 91.33505 ],\n",
      "      dtype=float32), array([88.03795 , 89.50362 , 84.53812 , 88.24456 , 85.491554],\n",
      "      dtype=float32), array([76.68721 , 90.25055 , 91.409966, 85.478294, 85.18302 ],\n",
      "      dtype=float32), array([96.05186 , 92.92709 , 86.54013 , 78.852684, 92.81754 ],\n",
      "      dtype=float32), array([ 97.44771,  65.26778, 109.49833,  99.12929, 107.18207],\n",
      "      dtype=float32), array([73.07405 , 81.73681 , 88.406204, 86.75868 , 79.26855 ],\n",
      "      dtype=float32), array([90.951454, 85.55869 , 87.99926 , 85.64434 , 85.92479 ],\n",
      "      dtype=float32), array([92.93638, 91.65604, 98.23086, 93.32861, 94.82907], dtype=float32), array([ 93.03828,  94.49516,  96.49566, 101.28811,  95.8899 ],\n",
      "      dtype=float32), array([101.17437,  94.41296,  88.62167,  78.87796,  86.70075],\n",
      "      dtype=float32), array([72.56978 , 93.038765, 95.6694  , 99.95152 , 87.97917 ],\n",
      "      dtype=float32), array([85.04515, 93.18781, 85.34891, 95.49915, 97.83331], dtype=float32), array([72.31085 , 86.5636  , 81.141556, 93.3625  , 75.9986  ],\n",
      "      dtype=float32), array([71.043304, 86.10633 , 86.77099 , 91.55496 , 70.95891 ],\n",
      "      dtype=float32), array([103.188385,  88.61878 ,  98.284645, 119.3231  ,  93.11679 ],\n",
      "      dtype=float32), array([72.14615 , 96.452324, 96.57858 , 84.45979 , 87.515686],\n",
      "      dtype=float32), array([88.332054, 93.7329  , 91.12788 , 86.72422 , 93.09767 ],\n",
      "      dtype=float32), array([90.64056 , 95.82771 , 98.708405, 91.43402 , 92.506294],\n",
      "      dtype=float32), array([84.54007 , 93.412476, 94.82503 , 83.72778 , 85.57121 ],\n",
      "      dtype=float32), array([79.46867, 81.29323, 76.36169, 82.59117, 87.13303], dtype=float32), array([73.50916, 92.50741, 95.56422, 99.96444, 82.4884 ], dtype=float32), array([90.00705 , 89.85737 , 91.65102 , 83.760925, 89.51447 ],\n",
      "      dtype=float32), array([83.409424, 77.36754 , 84.28502 , 84.85138 , 86.18964 ],\n",
      "      dtype=float32), array([77.88582 , 87.9322  , 83.437294, 83.03521 , 83.325005],\n",
      "      dtype=float32), array([ 89.63253 , 103.455696,  91.47607 ,  89.9382  ,  90.65737 ],\n",
      "      dtype=float32), array([ 82.34566 ,  92.70417 ,  96.24448 , 102.218864,  86.52215 ],\n",
      "      dtype=float32), array([85.350296, 95.090385, 82.54573 , 88.228195, 93.66965 ],\n",
      "      dtype=float32), array([91.10679, 92.4675 , 92.48066, 97.89527, 97.05531], dtype=float32), array([96.36168, 88.11294, 78.6086 , 88.68145, 90.23759], dtype=float32), array([78.746765, 85.0643  , 85.99134 , 80.366005, 74.56985 ],\n",
      "      dtype=float32), array([88.27016 , 95.302475, 88.45882 , 97.23232 , 87.85478 ],\n",
      "      dtype=float32), array([87.18272 , 93.57007 , 85.13364 , 86.87509 , 89.514725],\n",
      "      dtype=float32), array([75.022064, 89.868004, 87.759384, 83.81741 , 82.34573 ],\n",
      "      dtype=float32), array([71.0679 , 76.7385 , 81.22865, 77.98582, 74.26688], dtype=float32)]\n",
      "90\n"
     ]
    }
   ],
   "source": [
    "#hide\n",
    "predicttest=ensembleprediction(5,938.6)\n",
    "#prediction=ensembleprediction(3,938.6)\n",
    "print(predicttest)\n",
    "print(len(predicttest))#len de 3 es el unico que tiene 180, el resto90"
   ]
  },
  {
   "cell_type": "markdown",
   "metadata": {},
   "source": [
    "ensembleMeanVar(prediction): Funcion que hace la media y varianza de los valores predichos"
   ]
  },
  {
   "cell_type": "code",
   "execution_count": null,
   "metadata": {},
   "outputs": [],
   "source": [
    "#export\n",
    "def ensembleMeanVar(prediction):\n",
    "    matrix = [] \n",
    "    invertiblematrix=[]\n",
    "    meanlist=[]\n",
    "    stdlist=[]\n",
    "    for i in range (0,len(prediction[0])):#Horizon que sera la longitud de la prediccion invidual en una run\n",
    "        matrix = []\n",
    "        for j in range(0,len(prediction)):#num de runs que se han hecho, es el numero de prediciones hechas\n",
    "            matrix.append(prediction[j][i])\n",
    "        invertiblematrix.append(matrix)\n",
    "        \n",
    "    for element in invertiblematrix:\n",
    "        nparray=np.array(element,float)\n",
    "        meanlist.append(nparray.mean())\n",
    "        stdlist.append(nparray.std())\n",
    "    \n",
    "    return np.array(meanlist),np.array(stdlist)"
   ]
  },
  {
   "cell_type": "code",
   "execution_count": null,
   "metadata": {},
   "outputs": [
    {
     "data": {
      "text/plain": [
       "(array([86.25172484, 89.57166015, 88.31796358, 88.67318929, 88.88809085]),\n",
       " array([9.19489042, 8.02982189, 8.1236641 , 8.54230127, 7.08595832]))"
      ]
     },
     "execution_count": null,
     "metadata": {},
     "output_type": "execute_result"
    }
   ],
   "source": [
    "#hide\n",
    "#predicttest=ensembleprediction(5,938.6)\n",
    "ensembleMeanVar(predicttest)"
   ]
  },
  {
   "cell_type": "markdown",
   "metadata": {},
   "source": [
    "predecir(forecast): Funcion general que invoca a las demas funciones para cargar y ver el modelo"
   ]
  },
  {
   "cell_type": "code",
   "execution_count": null,
   "metadata": {},
   "outputs": [],
   "source": [
    "#export\n",
    "def modelprediction(forecast,normal):#Parametro normal esta para hacer pruebas\n",
    "    #normalize=getMaxValueSfu()\n",
    "    normalize=normal#Funcion web_scraping getMaxValueSfu(), funciona, pero parra ahorrar tiempo en las pruebas\n",
    "  \n",
    "    prediction=ensembleprediction(forecast,normalize)\n",
    "    \n",
    "    mean,std=ensembleMeanVar(prediction)\n",
    "    return prediction,mean,std \n"
   ]
  },
  {
   "cell_type": "code",
   "execution_count": null,
   "metadata": {},
   "outputs": [
    {
     "name": "stdout",
     "output_type": "stream",
     "text": [
      "----Predict----\n",
      " [array([74.981155, 92.93279 , 92.622154, 79.89616 , 86.963745],\n",
      "      dtype=float32), array([84.54304 , 91.930885, 87.835915, 91.26686 , 88.970436],\n",
      "      dtype=float32), array([86.38434, 93.41148, 95.53563, 85.63299, 91.77669], dtype=float32), array([84.73564 , 76.66728 , 89.02227 , 85.671616, 90.735634],\n",
      "      dtype=float32), array([80.499985, 84.37188 , 77.60178 , 83.79948 , 76.84219 ],\n",
      "      dtype=float32), array([86.80842 , 91.533325, 82.43016 , 84.47903 , 86.20782 ],\n",
      "      dtype=float32), array([88.46016 , 95.98141 , 80.343925, 85.026245, 84.27839 ],\n",
      "      dtype=float32), array([73.78886 , 96.20657 , 91.785286, 87.34165 , 80.62271 ],\n",
      "      dtype=float32), array([86.00594 , 94.54687 , 88.13045 , 90.267975, 95.38281 ],\n",
      "      dtype=float32), array([91.4103  , 82.90245 , 91.30496 , 95.156494, 98.4752  ],\n",
      "      dtype=float32), array([82.62045, 85.30244, 82.89681, 88.06808, 91.41293], dtype=float32), array([79.20084 , 88.19611 , 91.729836, 86.99387 , 84.817085],\n",
      "      dtype=float32), array([ 91.51332 ,  89.32335 , 101.925865,  83.14495 ,  88.73301 ],\n",
      "      dtype=float32), array([82.459274, 79.952156, 91.52713 , 82.91752 , 94.455444],\n",
      "      dtype=float32), array([96.934784, 92.32763 , 96.635864, 92.88094 , 87.49496 ],\n",
      "      dtype=float32), array([74.377144, 82.071144, 91.4623  , 90.001335, 70.920845],\n",
      "      dtype=float32), array([93.44712 , 91.72223 , 90.707245, 90.29333 , 88.70436 ],\n",
      "      dtype=float32), array([94.586395, 88.38165 , 95.8863  , 94.09482 , 97.14446 ],\n",
      "      dtype=float32), array([98.90705, 90.41795, 78.40495, 88.64323, 94.72028], dtype=float32), array([89.274414, 97.11102 , 88.08094 , 84.76577 , 87.79321 ],\n",
      "      dtype=float32), array([85.02841 , 91.40253 , 85.7503  , 95.29196 , 71.680824],\n",
      "      dtype=float32), array([ 84.80089 , 102.442444,  89.5084  ,  92.01395 ,  90.08185 ],\n",
      "      dtype=float32), array([75.74668 , 86.77695 , 58.86133 , 81.90409 , 84.152824],\n",
      "      dtype=float32), array([87.00672, 91.46524, 96.004  , 94.29494, 90.584  ], dtype=float32), array([88.4799  , 84.81182 , 78.33657 , 82.04399 , 82.544266],\n",
      "      dtype=float32), array([93.2493  , 62.706562, 96.78565 , 80.26762 , 94.96175 ],\n",
      "      dtype=float32), array([90.63871 , 89.768684, 87.66994 , 91.08979 , 87.82076 ],\n",
      "      dtype=float32), array([82.24529 , 86.37539 , 86.27727 , 82.692604, 84.427704],\n",
      "      dtype=float32), array([84.542564, 97.80124 , 83.7391  , 86.02744 , 79.92347 ],\n",
      "      dtype=float32), array([95.71682 , 80.43444 , 72.28685 , 86.356606, 82.35138 ],\n",
      "      dtype=float32), array([85.21871 , 86.335724, 84.93346 , 84.918816, 83.41068 ],\n",
      "      dtype=float32), array([83.87236 , 86.020065, 79.788   , 86.96994 , 81.41775 ],\n",
      "      dtype=float32), array([126.044   , 113.128174,  65.80382 ,  88.000305, 102.94432 ],\n",
      "      dtype=float32), array([84.622  , 91.24619, 90.20136, 93.71753, 98.96517], dtype=float32), array([83.51692 , 84.335915, 91.286026, 82.5627  , 94.68154 ],\n",
      "      dtype=float32), array([100.144485,  95.391754, 101.00805 ,  92.445946,  98.13671 ],\n",
      "      dtype=float32), array([ 85.41094 ,  91.569145,  77.82025 ,  87.57822 , 101.41452 ],\n",
      "      dtype=float32), array([87.14282 , 92.484795, 86.438034, 88.361206, 91.2143  ],\n",
      "      dtype=float32), array([98.08129 , 92.306015, 96.36886 , 88.62886 , 90.69244 ],\n",
      "      dtype=float32), array([93.21998 , 90.86755 , 89.949776, 91.77978 , 86.17106 ],\n",
      "      dtype=float32), array([70.37166, 82.7654 , 77.44735, 80.79926, 92.15791], dtype=float32), array([82.92105 , 88.74831 , 69.05984 , 84.333954, 98.628876],\n",
      "      dtype=float32), array([78.69973 , 87.67464 , 92.15332 , 92.74715 , 85.330154],\n",
      "      dtype=float32), array([69.1196 , 87.79718, 74.89423, 86.06787, 92.80106], dtype=float32), array([84.487526, 98.85445 , 98.99025 , 89.448524, 87.5317  ],\n",
      "      dtype=float32), array([ 94.96447,  98.69871, 102.2985 ,  82.80964,  89.2179 ],\n",
      "      dtype=float32), array([85.78882, 88.00186, 87.543  , 85.80153, 88.38086], dtype=float32), array([ 97.6693  ,  97.845215,  94.998276, 129.37946 , 102.348595],\n",
      "      dtype=float32), array([102.90312,  95.54737,  85.27158,  79.35732,  98.57536],\n",
      "      dtype=float32), array([85.314575, 87.51668 , 88.86673 , 86.93407 , 85.68588 ],\n",
      "      dtype=float32), array([80.895454, 83.74719 , 83.88557 , 77.048965, 87.013664],\n",
      "      dtype=float32), array([75.9124  , 78.61258 , 89.20482 , 74.56204 , 93.102165],\n",
      "      dtype=float32), array([94.16951, 65.12112, 97.65222, 89.20403, 98.79316], dtype=float32), array([ 85.29804,  92.12493,  92.23742, 101.94076,  86.47502],\n",
      "      dtype=float32), array([ 86.49543 , 113.90992 ,  93.94912 , 108.183105,  93.6764  ],\n",
      "      dtype=float32), array([76.65757, 80.37164, 85.8662 , 65.27969, 91.6354 ], dtype=float32), array([96.73731 , 97.069786, 88.1893  , 88.31971 , 91.33505 ],\n",
      "      dtype=float32), array([88.03795 , 89.50362 , 84.53812 , 88.24456 , 85.491554],\n",
      "      dtype=float32), array([76.68721 , 90.25055 , 91.409966, 85.478294, 85.18302 ],\n",
      "      dtype=float32), array([96.05186 , 92.92709 , 86.54013 , 78.852684, 92.81754 ],\n",
      "      dtype=float32), array([ 97.44771,  65.26778, 109.49833,  99.12929, 107.18207],\n",
      "      dtype=float32), array([73.07405 , 81.73681 , 88.406204, 86.75868 , 79.26855 ],\n",
      "      dtype=float32), array([90.951454, 85.55869 , 87.99926 , 85.64434 , 85.92479 ],\n",
      "      dtype=float32), array([92.93638, 91.65604, 98.23086, 93.32861, 94.82907], dtype=float32), array([ 93.03828,  94.49516,  96.49566, 101.28811,  95.8899 ],\n",
      "      dtype=float32), array([101.17437,  94.41296,  88.62167,  78.87796,  86.70075],\n",
      "      dtype=float32), array([72.56978 , 93.038765, 95.6694  , 99.95152 , 87.97917 ],\n",
      "      dtype=float32), array([85.04515, 93.18781, 85.34891, 95.49915, 97.83331], dtype=float32), array([72.31085 , 86.5636  , 81.141556, 93.3625  , 75.9986  ],\n",
      "      dtype=float32), array([71.043304, 86.10633 , 86.77099 , 91.55496 , 70.95891 ],\n",
      "      dtype=float32), array([103.188385,  88.61878 ,  98.284645, 119.3231  ,  93.11679 ],\n",
      "      dtype=float32), array([72.14615 , 96.452324, 96.57858 , 84.45979 , 87.515686],\n",
      "      dtype=float32), array([88.332054, 93.7329  , 91.12788 , 86.72422 , 93.09767 ],\n",
      "      dtype=float32), array([90.64056 , 95.82771 , 98.708405, 91.43402 , 92.506294],\n",
      "      dtype=float32), array([84.54007 , 93.412476, 94.82503 , 83.72778 , 85.57121 ],\n",
      "      dtype=float32), array([79.46867, 81.29323, 76.36169, 82.59117, 87.13303], dtype=float32), array([73.50916, 92.50741, 95.56422, 99.96444, 82.4884 ], dtype=float32), array([90.00705 , 89.85737 , 91.65102 , 83.760925, 89.51447 ],\n",
      "      dtype=float32), array([83.409424, 77.36754 , 84.28502 , 84.85138 , 86.18964 ],\n",
      "      dtype=float32), array([77.88582 , 87.9322  , 83.437294, 83.03521 , 83.325005],\n",
      "      dtype=float32), array([ 89.63253 , 103.455696,  91.47607 ,  89.9382  ,  90.65737 ],\n",
      "      dtype=float32), array([ 82.34566 ,  92.70417 ,  96.24448 , 102.218864,  86.52215 ],\n",
      "      dtype=float32), array([85.350296, 95.090385, 82.54573 , 88.228195, 93.66965 ],\n",
      "      dtype=float32), array([91.10679, 92.4675 , 92.48066, 97.89527, 97.05531], dtype=float32), array([96.36168, 88.11294, 78.6086 , 88.68145, 90.23759], dtype=float32), array([78.746765, 85.0643  , 85.99134 , 80.366005, 74.56985 ],\n",
      "      dtype=float32), array([88.27016 , 95.302475, 88.45882 , 97.23232 , 87.85478 ],\n",
      "      dtype=float32), array([87.18272 , 93.57007 , 85.13364 , 86.87509 , 89.514725],\n",
      "      dtype=float32), array([75.022064, 89.868004, 87.759384, 83.81741 , 82.34573 ],\n",
      "      dtype=float32), array([71.0679 , 76.7385 , 81.22865, 77.98582, 74.26688], dtype=float32)] \n",
      "\n",
      "----Mean----\n",
      " [86.25172484 89.57166015 88.31796358 88.67318929 88.88809085] \n",
      "\n",
      "----Std----\n",
      " [9.19489042 8.02982189 8.1236641  8.54230127 7.08595832]\n"
     ]
    }
   ],
   "source": [
    "#hide\n",
    "forecasttest=5\n",
    "globalpredicttest,meantest,stdtest=modelprediction(forecasttest,938.6)\n",
    "print(\"----Predict----\\n\",globalpredicttest,\"\\n\\n----Mean----\\n\",meantest,\"\\n\\n----Std----\\n\",stdtest)"
   ]
  },
  {
   "cell_type": "code",
   "execution_count": null,
   "metadata": {},
   "outputs": [],
   "source": [
    "#hide\n",
    "#Funcion temporal para mostrar el modelo\n",
    "def showmodel(horizon,normal):\n",
    "    lookback=horizon*6  \n",
    "    data=getcsvdata(lookback)\n",
    "    predict,mean,std=modelprediction(horizon,normal)\n",
    "    \n",
    "    forecastlist=[]\n",
    "    for i in range(0,horizon):\n",
    "        forecastlist.append(lookback+i)\n",
    "        i=i+1\n",
    "    plt.plot(data[::-1],\"r--\",forecastlist,mean)\n",
    "    plt.fill_between(forecastlist, mean-std, mean+std,alpha=0.5)\n",
    "    plt.show()"
   ]
  },
  {
   "cell_type": "code",
   "execution_count": null,
   "metadata": {},
   "outputs": [
    {
     "data": {
      "image/png": "[encoded data removed]",
      "text/plain": [
       "<Figure size 432x288 with 1 Axes>"
      ]
     },
     "metadata": {
      "needs_background": "light"
     },
     "output_type": "display_data"
    }
   ],
   "source": [
    "#hide\n",
    "#Funcion con horizon=3 y maximo valor desde 1949 de la essa\n",
    "showmodel(3,938.6)"
   ]
  },
  {
   "cell_type": "code",
   "execution_count": null,
   "metadata": {},
   "outputs": [
    {
     "name": "stderr",
     "output_type": "stream",
     "text": [
      "/home/miguel/anaconda3/lib/python3.8/site-packages/torch/nn/modules/container.py:435: UserWarning: Setting attributes on ParameterList is not supported.\n",
      "  warnings.warn(\"Setting attributes on ParameterList is not supported.\")\n"
     ]
    },
    {
     "data": {
      "image/png": "[encoded data removed]",
      "text/plain": [
       "<Figure size 432x288 with 1 Axes>"
      ]
     },
     "metadata": {
      "needs_background": "light"
     },
     "output_type": "display_data"
    }
   ],
   "source": [
    "#hide\n",
    "#Funcion con horizon y valor aleatorio de normalize = 122\n",
    "showmodel(3,122)"
   ]
  },
  {
   "cell_type": "code",
   "execution_count": null,
   "metadata": {},
   "outputs": [
    {
     "name": "stderr",
     "output_type": "stream",
     "text": [
      "/home/miguel/anaconda3/lib/python3.8/site-packages/torch/nn/modules/container.py:435: UserWarning: Setting attributes on ParameterList is not supported.\n",
      "  warnings.warn(\"Setting attributes on ParameterList is not supported.\")\n"
     ]
    },
    {
     "data": {
      "image/png": "[encoded data removed]",
      "text/plain": [
       "<Figure size 432x288 with 1 Axes>"
      ]
     },
     "metadata": {
      "needs_background": "light"
     },
     "output_type": "display_data"
    }
   ],
   "source": [
    "#hide\n",
    "#Funcion con horizon=7 y maximo valor desde 1949 de la essa\n",
    "showmodel(7,938.6)"
   ]
  },
  {
   "cell_type": "code",
   "execution_count": null,
   "metadata": {},
   "outputs": [
    {
     "name": "stderr",
     "output_type": "stream",
     "text": [
      "/home/miguel/anaconda3/lib/python3.8/site-packages/torch/nn/modules/container.py:435: UserWarning: Setting attributes on ParameterList is not supported.\n",
      "  warnings.warn(\"Setting attributes on ParameterList is not supported.\")\n"
     ]
    },
    {
     "data": {
      "image/png": "[encoded data removed]",
      "text/plain": [
       "<Figure size 432x288 with 1 Axes>"
      ]
     },
     "metadata": {
      "needs_background": "light"
     },
     "output_type": "display_data"
    }
   ],
   "source": [
    "#hide\n",
    "#Funcion con horizon y valor aleatorio de normalize = 122\n",
    "showmodel(7,122)"
   ]
  },
  {
   "cell_type": "code",
   "execution_count": null,
   "metadata": {},
   "outputs": [
    {
     "name": "stderr",
     "output_type": "stream",
     "text": [
      "/home/miguel/anaconda3/lib/python3.8/site-packages/torch/nn/modules/container.py:435: UserWarning: Setting attributes on ParameterList is not supported.\n",
      "  warnings.warn(\"Setting attributes on ParameterList is not supported.\")\n"
     ]
    },
    {
     "data": {
      "image/png": "[encoded data removed]",
      "text/plain": [
       "<Figure size 432x288 with 1 Axes>"
      ]
     },
     "metadata": {
      "needs_background": "light"
     },
     "output_type": "display_data"
    }
   ],
   "source": [
    "#hide\n",
    "showmodel(5,938.6)"
   ]
  },
  {
   "cell_type": "code",
   "execution_count": null,
   "metadata": {},
   "outputs": [
    {
     "name": "stderr",
     "output_type": "stream",
     "text": [
      "/home/miguel/anaconda3/lib/python3.8/site-packages/torch/nn/modules/container.py:435: UserWarning: Setting attributes on ParameterList is not supported.\n",
      "  warnings.warn(\"Setting attributes on ParameterList is not supported.\")\n"
     ]
    },
    {
     "data": {
      "image/png": "[encoded data removed]",
      "text/plain": [
       "<Figure size 432x288 with 1 Axes>"
      ]
     },
     "metadata": {
      "needs_background": "light"
     },
     "output_type": "display_data"
    }
   ],
   "source": [
    "#hide\n",
    "showmodel(14,938.6)"
   ]
  },
  {
   "cell_type": "code",
   "execution_count": null,
   "metadata": {},
   "outputs": [
    {
     "name": "stderr",
     "output_type": "stream",
     "text": [
      "/home/miguel/anaconda3/lib/python3.8/site-packages/torch/nn/modules/container.py:435: UserWarning: Setting attributes on ParameterList is not supported.\n",
      "  warnings.warn(\"Setting attributes on ParameterList is not supported.\")\n"
     ]
    },
    {
     "data": {
      "image/png": "[encoded data removed]",
      "text/plain": [
       "<Figure size 432x288 with 1 Axes>"
      ]
     },
     "metadata": {
      "needs_background": "light"
     },
     "output_type": "display_data"
    }
   ],
   "source": [
    "#hide\n",
    "showmodel(27,938.6)"
   ]
  },
  {
   "cell_type": "code",
   "execution_count": null,
   "metadata": {},
   "outputs": [
    {
     "name": "stdout",
     "output_type": "stream",
     "text": [
      "938.6\n"
     ]
    }
   ],
   "source": [
    "#hide\n",
    "maxvaluesdf=getMaxValueSfu()\n",
    "print(maxvaluesdf)"
   ]
  },
  {
   "cell_type": "code",
   "execution_count": null,
   "metadata": {},
   "outputs": [],
   "source": []
  }
 ],
 "metadata": {
  "kernelspec": {
   "display_name": "Python 3",
   "language": "python",
   "name": "python3"
  }
 },
 "nbformat": 4,
 "nbformat_minor": 4
}
