{
 "cells": [
  {
   "cell_type": "code",
   "execution_count": null,
   "metadata": {},
   "outputs": [],
   "source": [
    "# default_exp manage_data"
   ]
  },
  {
   "cell_type": "markdown",
   "metadata": {},
   "source": [
    "# Manage Data And Model"
   ]
  },
  {
   "cell_type": "code",
   "execution_count": null,
   "metadata": {},
   "outputs": [],
   "source": [
    "#export\n",
    "from swfd.load_model import getAllHorizonPrediction\n",
    "import datetime\n",
    "import numpy as np\n",
    "from swfd.resources import getInfo\n",
    "import csv\n",
    "import pandas as pd\n",
    "import pickle\n",
    "NORMALIZE=707.6\n",
    "HORIZONS=[3,5,7,10,14,21,27]\n",
    "COLUMNS=['Date','H3','H5','H7','H10','H14','H21','H27']"
   ]
  },
  {
   "cell_type": "markdown",
   "metadata": {},
   "source": [
    "savePredict(): Guarda en un archivo todas las predicciones. En caso de existir remplaza el archivo."
   ]
  },
  {
   "cell_type": "code",
   "execution_count": null,
   "metadata": {},
   "outputs": [],
   "source": [
    "#export\n",
    "def savePredict(datalist):\n",
    "    path=getInfo(\"csvdirectory\")+\"predictionData.csv\"\n",
    "    try:\n",
    "        outfile  = open(path, 'wb')\n",
    "        pickle.dump(datalist, outfile )\n",
    "    finally:\n",
    "        outfile.close()\n"
   ]
  },
  {
   "cell_type": "code",
   "execution_count": null,
   "metadata": {},
   "outputs": [
    {
     "name": "stderr",
     "output_type": "stream",
     "text": [
      "/home/miguel/anaconda3/lib/python3.8/site-packages/torch/cuda/__init__.py:52: UserWarning: CUDA initialization: Found no NVIDIA driver on your system. Please check that you have an NVIDIA GPU and installed a driver from http://www.nvidia.com/Download/index.aspx (Triggered internally at  /opt/conda/conda-bld/pytorch_1607370172916/work/c10/cuda/CUDAFunctions.cpp:100.)\n",
      "  return torch._C._cuda_getDeviceCount() > 0\n",
      "/home/miguel/anaconda3/lib/python3.8/site-packages/torch/nn/modules/container.py:435: UserWarning: Setting attributes on ParameterList is not supported.\n",
      "  warnings.warn(\"Setting attributes on ParameterList is not supported.\")\n"
     ]
    },
    {
     "name": "stdout",
     "output_type": "stream",
     "text": [
      "error en horizonte 3  el dia 2021-03-31 00:00:00\n",
      "error en horizonte 5  el dia 2021-03-31 00:00:00\n",
      "error en horizonte 7  el dia 2021-03-31 00:00:00\n",
      "error en horizonte 10  el dia 2021-03-31 00:00:00\n",
      "error en horizonte 14  el dia 2021-03-31 00:00:00\n",
      "error en horizonte 21  el dia 2021-03-31 00:00:00\n",
      "error en horizonte 27  el dia 2021-03-31 00:00:00\n",
      "error en horizonte 3  el dia 2021-03-30 00:00:00\n",
      "error en horizonte 5  el dia 2021-03-30 00:00:00\n",
      "error en horizonte 7  el dia 2021-03-30 00:00:00\n",
      "error en horizonte 10  el dia 2021-03-30 00:00:00\n",
      "error en horizonte 14  el dia 2021-03-30 00:00:00\n",
      "error en horizonte 21  el dia 2021-03-30 00:00:00\n",
      "error en horizonte 27  el dia 2021-03-30 00:00:00\n"
     ]
    }
   ],
   "source": [
    "#hide\n",
    "testallpredict5=getAllHorizonPrediction(datetime.datetime(2021,3,31))\n",
    "testallpredict6=getAllHorizonPrediction(datetime.datetime(2021,3,30))\n",
    "\n",
    "df = pd.DataFrame(columns=COLUMNS)\n",
    "df5 = pd.DataFrame (testallpredict5,columns=COLUMNS)\n",
    "df6 = pd.DataFrame (testallpredict6,columns=COLUMNS)\n",
    "\n",
    "df=df.append(df5)\n",
    "df=df.append(df6)\n",
    "\n",
    "df.reset_index(drop=True, inplace=True)\n",
    "(df)\n",
    "savePredict(df)"
   ]
  },
  {
   "cell_type": "markdown",
   "metadata": {},
   "source": [
    "loadPredict(): Carga y devuelve todas las predicciones"
   ]
  },
  {
   "cell_type": "code",
   "execution_count": null,
   "metadata": {},
   "outputs": [],
   "source": [
    "#export\n",
    "def loadPredict():\n",
    "    predict= pd.DataFrame(columns=COLUMNS)\n",
    "    path=getInfo(\"csvdirectory\")+\"predictionData.csv\"\n",
    "    try:\n",
    "        with open(path,'rb') as infile:\n",
    "            predict = pickle.load(infile, encoding='bytes')\n",
    "        infile.close() \n",
    "    except IOError:\n",
    "        print(\"File not accessible\")\n",
    "        \n",
    "    return predict"
   ]
  },
  {
   "cell_type": "code",
   "execution_count": null,
   "metadata": {},
   "outputs": [
    {
     "name": "stdout",
     "output_type": "stream",
     "text": [
      "File not accessible\n"
     ]
    },
    {
     "data": {
      "text/html": [
       "<div>\n",
       "<style scoped>\n",
       "    .dataframe tbody tr th:only-of-type {\n",
       "        vertical-align: middle;\n",
       "    }\n",
       "\n",
       "    .dataframe tbody tr th {\n",
       "        vertical-align: top;\n",
       "    }\n",
       "\n",
       "    .dataframe thead th {\n",
       "        text-align: right;\n",
       "    }\n",
       "</style>\n",
       "<table border=\"1\" class=\"dataframe\">\n",
       "  <thead>\n",
       "    <tr style=\"text-align: right;\">\n",
       "      <th></th>\n",
       "      <th>Date</th>\n",
       "      <th>H3</th>\n",
       "      <th>H5</th>\n",
       "      <th>H7</th>\n",
       "      <th>H10</th>\n",
       "      <th>H14</th>\n",
       "      <th>H21</th>\n",
       "      <th>H27</th>\n",
       "    </tr>\n",
       "  </thead>\n",
       "  <tbody>\n",
       "  </tbody>\n",
       "</table>\n",
       "</div>"
      ],
      "text/plain": [
       "Empty DataFrame\n",
       "Columns: [Date, H3, H5, H7, H10, H14, H21, H27]\n",
       "Index: []"
      ]
     },
     "execution_count": null,
     "metadata": {},
     "output_type": "execute_result"
    }
   ],
   "source": [
    "#hide\n",
    "loadPredict()"
   ]
  },
  {
   "cell_type": "markdown",
   "metadata": {},
   "source": [
    "updatePredicts(): Hace todas las predicciones desde el primer día guardado del fichero de predicciones hasta hoy y las guarda en el fichero."
   ]
  },
  {
   "cell_type": "code",
   "execution_count": null,
   "metadata": {},
   "outputs": [],
   "source": [
    "#export\n",
    "def updatePredicts():\n",
    "    path=getInfo(\"csvdirectory\")+\"predictionData.csv\"\n",
    "    datapredict=loadPredict()\n",
    "    if(not datapredict.empty): \n",
    "        yesterday = datetime.datetime.today().date()-datetime.timedelta(1)\n",
    "        predictdate=pd.to_datetime(datapredict.loc[0,\"Date\"])+datetime.timedelta(1) #First date to predict\n",
    "        \n",
    "        if(yesterday >= predictdate):\n",
    "        \n",
    "            while(yesterday >= predictdate):# while yesterday is not in the past of data(predictdate)\n",
    "\n",
    "                #print(predictdate,yesterday)\n",
    "                print(\"Currently making \", predictdate ,\" prediction\")\n",
    "                currentpredict=getAllHorizonPrediction(predictdate)\n",
    "                datapredict=pd.concat([pd.DataFrame(currentpredict,columns=COLUMNS), datapredict], ignore_index=True)\n",
    "                predictdate=predictdate+datetime.timedelta(1)\n",
    "            \n",
    "        \n",
    "            print(\"Updated to \",yesterday)\n",
    "            savePredict(datapredict)\n",
    "        else:\n",
    "            print(\"It was already updated\")\n",
    "    else:\n",
    "        print(\"The file does not exist, you should make predictions to update\")"
   ]
  },
  {
   "cell_type": "code",
   "execution_count": null,
   "metadata": {},
   "outputs": [
    {
     "name": "stdout",
     "output_type": "stream",
     "text": [
      "File not accessible\n",
      "The file does not exist, you should make predictions to update\n"
     ]
    }
   ],
   "source": [
    "#hide\n",
    "updatePredicts()"
   ]
  },
  {
   "cell_type": "markdown",
   "metadata": {},
   "source": [
    "updatePredicts(): Hace predicciones desde el último día guardado del fichero de predicciones 'days' veces y las guarda en el fichero."
   ]
  },
  {
   "cell_type": "code",
   "execution_count": null,
   "metadata": {},
   "outputs": [],
   "source": [
    "#export\n",
    "def doNewPredicts(days):\n",
    "    path=getInfo(\"csvdirectory\")+\"predictionData.csv\"\n",
    "    datapredict=loadPredict()\n",
    "    \n",
    "    \n",
    "    if(not datapredict.empty):\n",
    "        datestart=pd.to_datetime(datapredict.iloc[-1].Date)-datetime.timedelta(1)\n",
    "    else:\n",
    "        datestart=datetime.datetime.today().date()-datetime.timedelta(1)\n",
    "    for numdays in range(days): \n",
    "        print(datestart-datetime.timedelta(numdays))\n",
    "        currentpredict=getAllHorizonPrediction(datestart-datetime.timedelta(numdays))\n",
    "        datapredict=pd.concat([datapredict,pd.DataFrame(currentpredict,columns=COLUMNS)], ignore_index=True)\n",
    "        print(\"updated\")\n",
    "        savePredict(datapredict)"
   ]
  },
  {
   "cell_type": "code",
   "execution_count": null,
   "metadata": {},
   "outputs": [
    {
     "name": "stdout",
     "output_type": "stream",
     "text": [
      "hihi\n",
      "File not accessible\n",
      "asdas Empty DataFrame\n",
      "Columns: [Date, H3, H5, H7, H10, H14, H21, H27]\n",
      "Index: [] asd\n",
      "2021-05-14\n"
     ]
    },
    {
     "name": "stderr",
     "output_type": "stream",
     "text": [
      "/home/miguel/anaconda3/lib/python3.8/site-packages/torch/nn/modules/container.py:435: UserWarning: Setting attributes on ParameterList is not supported.\n",
      "  warnings.warn(\"Setting attributes on ParameterList is not supported.\")\n"
     ]
    },
    {
     "name": "stdout",
     "output_type": "stream",
     "text": [
      "updated\n",
      "2021-05-13\n",
      "updated\n"
     ]
    },
    {
     "data": {
      "text/html": [
       "<div>\n",
       "<style scoped>\n",
       "    .dataframe tbody tr th:only-of-type {\n",
       "        vertical-align: middle;\n",
       "    }\n",
       "\n",
       "    .dataframe tbody tr th {\n",
       "        vertical-align: top;\n",
       "    }\n",
       "\n",
       "    .dataframe thead th {\n",
       "        text-align: right;\n",
       "    }\n",
       "</style>\n",
       "<table border=\"1\" class=\"dataframe\">\n",
       "  <thead>\n",
       "    <tr style=\"text-align: right;\">\n",
       "      <th></th>\n",
       "      <th>Date</th>\n",
       "      <th>H3</th>\n",
       "      <th>H5</th>\n",
       "      <th>H7</th>\n",
       "      <th>H10</th>\n",
       "      <th>H14</th>\n",
       "      <th>H21</th>\n",
       "      <th>H27</th>\n",
       "    </tr>\n",
       "  </thead>\n",
       "  <tbody>\n",
       "    <tr>\n",
       "      <th>0</th>\n",
       "      <td>2021-05-14</td>\n",
       "      <td>[[72.07216326395671, 72.26594166225857, 72.187...</td>\n",
       "      <td>[[72.70043097601996, 72.76336568196615, 73.174...</td>\n",
       "      <td>[[73.30684606764052, 72.93419935438368, 73.425...</td>\n",
       "      <td>[[73.78412551879883, 73.42911851671008, 74.061...</td>\n",
       "      <td>[[73.14322361416286, 73.77890463935005, 73.192...</td>\n",
       "      <td>[[73.7312614440918, 74.09432551066081, 74.2782...</td>\n",
       "      <td>[[75.45801552666558, 75.24640163845486, 74.471...</td>\n",
       "    </tr>\n",
       "    <tr>\n",
       "      <th>1</th>\n",
       "      <td>2021-05-13</td>\n",
       "      <td>[[74.5500617980957, 74.96831876966688, 74.9635...</td>\n",
       "      <td>[[75.08528315226236, 75.30237121582032, 75.697...</td>\n",
       "      <td>[[75.51048253377279, 75.21741205851237, 75.698...</td>\n",
       "      <td>[[75.94543991088867, 75.64111735026042, 76.311...</td>\n",
       "      <td>[[75.1321624332004, 75.77315555148654, 75.2147...</td>\n",
       "      <td>[[75.4575986650255, 75.84640655517578, 76.0471...</td>\n",
       "      <td>[[76.8531733194987, 76.76726167466906, 75.9950...</td>\n",
       "    </tr>\n",
       "  </tbody>\n",
       "</table>\n",
       "</div>"
      ],
      "text/plain": [
       "         Date                                                 H3  \\\n",
       "0  2021-05-14  [[72.07216326395671, 72.26594166225857, 72.187...   \n",
       "1  2021-05-13  [[74.5500617980957, 74.96831876966688, 74.9635...   \n",
       "\n",
       "                                                  H5  \\\n",
       "0  [[72.70043097601996, 72.76336568196615, 73.174...   \n",
       "1  [[75.08528315226236, 75.30237121582032, 75.697...   \n",
       "\n",
       "                                                  H7  \\\n",
       "0  [[73.30684606764052, 72.93419935438368, 73.425...   \n",
       "1  [[75.51048253377279, 75.21741205851237, 75.698...   \n",
       "\n",
       "                                                 H10  \\\n",
       "0  [[73.78412551879883, 73.42911851671008, 74.061...   \n",
       "1  [[75.94543991088867, 75.64111735026042, 76.311...   \n",
       "\n",
       "                                                 H14  \\\n",
       "0  [[73.14322361416286, 73.77890463935005, 73.192...   \n",
       "1  [[75.1321624332004, 75.77315555148654, 75.2147...   \n",
       "\n",
       "                                                 H21  \\\n",
       "0  [[73.7312614440918, 74.09432551066081, 74.2782...   \n",
       "1  [[75.4575986650255, 75.84640655517578, 76.0471...   \n",
       "\n",
       "                                                 H27  \n",
       "0  [[75.45801552666558, 75.24640163845486, 74.471...  \n",
       "1  [[76.8531733194987, 76.76726167466906, 75.9950...  "
      ]
     },
     "execution_count": null,
     "metadata": {},
     "output_type": "execute_result"
    }
   ],
   "source": [
    "#hide\n",
    "doNewPredicts(2)\n",
    "loadPredict()"
   ]
  },
  {
   "cell_type": "markdown",
   "metadata": {},
   "source": [
    "infoDatesPredicts(): Devuelve los días entre los que comprende el fichero de datos."
   ]
  },
  {
   "cell_type": "code",
   "execution_count": null,
   "metadata": {},
   "outputs": [],
   "source": [
    "#export\n",
    "def infoDatesPredicts():\n",
    "    startdate=None\n",
    "    enddate=None\n",
    "    datapredict=loadPredict()\n",
    "    if(not datapredict.empty): \n",
    "        startdate=pd.to_datetime(datapredict.iloc[0].Date)\n",
    "        enddate=pd.to_datetime(datapredict.iloc[-1].Date)\n",
    "    return startdate,enddate"
   ]
  },
  {
   "cell_type": "code",
   "execution_count": null,
   "metadata": {},
   "outputs": [
    {
     "name": "stdout",
     "output_type": "stream",
     "text": [
      "File not accessible\n"
     ]
    },
    {
     "data": {
      "text/plain": [
       "(None, None)"
      ]
     },
     "execution_count": null,
     "metadata": {},
     "output_type": "execute_result"
    }
   ],
   "source": [
    "#hide\n",
    "infoDatesPredicts()"
   ]
  },
  {
   "cell_type": "code",
   "execution_count": null,
   "metadata": {},
   "outputs": [],
   "source": []
  }
 ],
 "metadata": {
  "kernelspec": {
   "display_name": "Python 3",
   "language": "python",
   "name": "python3"
  }
 },
 "nbformat": 4,
 "nbformat_minor": 4
}
