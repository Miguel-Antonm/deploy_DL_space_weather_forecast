{
 "cells": [
  {
   "cell_type": "code",
   "execution_count": null,
   "metadata": {},
   "outputs": [],
   "source": [
    "# default_exp manage_data"
   ]
  },
  {
   "cell_type": "markdown",
   "metadata": {},
   "source": [
    "# Manage Data And Model"
   ]
  },
  {
   "cell_type": "code",
   "execution_count": null,
   "metadata": {},
   "outputs": [],
   "source": [
    "#export\n",
    "from swfd.load_model import getAllHorizonPrediction\n",
    "import datetime\n",
    "import numpy as np\n",
    "from swfd.resources import getInfo\n",
    "import csv\n",
    "import pandas as pd\n",
    "import pickle\n",
    "NORMALIZE=707.6\n",
    "HORIZONS=[3,5,7,10,14,21,27]\n",
    "COLUMNS=['Date','H3','H5','H7','H10','H14','H21','H27']"
   ]
  },
  {
   "cell_type": "markdown",
   "metadata": {},
   "source": [
    "savePredict(): Guarda en un archivo todas las predicciones. En caso de existir remplaza el archivo."
   ]
  },
  {
   "cell_type": "code",
   "execution_count": null,
   "metadata": {},
   "outputs": [],
   "source": [
    "#export\n",
    "def savePredict(datalist):\n",
    "    path=getInfo(\"csvdirectory\")+\"predictionData.csv\"\n",
    "    try:\n",
    "        outfile  = open(path, 'wb')\n",
    "        pickle.dump(datalist, outfile )\n",
    "    finally:\n",
    "        outfile.close()\n"
   ]
  },
  {
   "cell_type": "code",
   "execution_count": null,
   "metadata": {},
   "outputs": [],
   "source": [
    "#hide\n",
    "testallpredict5=getAllHorizonPrediction(datetime.datetime(2021,5,20))\n",
    "testallpredict6=getAllHorizonPrediction(datetime.datetime(2021,5,19))\n",
    "\n",
    "df = pd.DataFrame(columns=COLUMNS)\n",
    "df5 = pd.DataFrame (testallpredict5,columns=COLUMNS)\n",
    "df6 = pd.DataFrame (testallpredict6,columns=COLUMNS)\n",
    "\n",
    "df=df.append(df5)\n",
    "df=df.append(df6)\n",
    "\n",
    "df.reset_index(drop=True, inplace=True)\n",
    "(df)\n",
    "savePredict(df)"
   ]
  },
  {
   "cell_type": "markdown",
   "metadata": {},
   "source": [
    "loadPredict(): Carga y devuelve todas las predicciones"
   ]
  },
  {
   "cell_type": "code",
   "execution_count": null,
   "metadata": {},
   "outputs": [],
   "source": [
    "#export\n",
    "def loadPredict():\n",
    "    predict= pd.DataFrame(columns=COLUMNS)\n",
    "    path=getInfo(\"csvdirectory\")+\"predictionData.csv\"\n",
    "    try:\n",
    "        with open(path,'rb') as infile:\n",
    "            predict = pickle.load(infile, encoding='bytes')\n",
    "        infile.close() \n",
    "    except IOError:\n",
    "        print(\"File not accessible\")\n",
    "        \n",
    "    return predict"
   ]
  },
  {
   "cell_type": "code",
   "execution_count": null,
   "metadata": {},
   "outputs": [
    {
     "data": {
      "text/html": [
       "<div>\n",
       "<style scoped>\n",
       "    .dataframe tbody tr th:only-of-type {\n",
       "        vertical-align: middle;\n",
       "    }\n",
       "\n",
       "    .dataframe tbody tr th {\n",
       "        vertical-align: top;\n",
       "    }\n",
       "\n",
       "    .dataframe thead th {\n",
       "        text-align: right;\n",
       "    }\n",
       "</style>\n",
       "<table border=\"1\" class=\"dataframe\">\n",
       "  <thead>\n",
       "    <tr style=\"text-align: right;\">\n",
       "      <th></th>\n",
       "      <th>Date</th>\n",
       "      <th>H3</th>\n",
       "      <th>H5</th>\n",
       "      <th>H7</th>\n",
       "      <th>H10</th>\n",
       "      <th>H14</th>\n",
       "      <th>H21</th>\n",
       "      <th>H27</th>\n",
       "    </tr>\n",
       "  </thead>\n",
       "  <tbody>\n",
       "    <tr>\n",
       "      <th>0</th>\n",
       "      <td>2021-05-20</td>\n",
       "      <td>[[81.21248168945313, 86.84930114746093, 90.730...</td>\n",
       "      <td>[[85.6896743774414, 91.3666488647461, 96.63803...</td>\n",
       "      <td>[[88.08998107910156, 91.18880462646484, 97.142...</td>\n",
       "      <td>[[86.47946166992188, 91.7086410522461, 99.8507...</td>\n",
       "      <td>[[98.36115264892578, 98.92632293701172, 103.43...</td>\n",
       "      <td>[[103.5103759765625, 98.6413803100586, 111.403...</td>\n",
       "      <td>[[100.23645782470703, 102.5992660522461, 106.1...</td>\n",
       "    </tr>\n",
       "    <tr>\n",
       "      <th>1</th>\n",
       "      <td>2021-05-19</td>\n",
       "      <td>[[79.1148452758789, 84.64676513671876, 89.8692...</td>\n",
       "      <td>[[84.84960632324218, 90.60640106201171, 97.151...</td>\n",
       "      <td>[[88.34898376464844, 91.91641998291016, 98.310...</td>\n",
       "      <td>[[85.222900390625, 91.44981384277344, 99.83406...</td>\n",
       "      <td>[[98.57737731933594, 100.28819274902344, 106.5...</td>\n",
       "      <td>[[102.22454833984375, 97.90068054199219, 110.4...</td>\n",
       "      <td>[[97.27412414550781, 100.40276336669922, 105.6...</td>\n",
       "    </tr>\n",
       "  </tbody>\n",
       "</table>\n",
       "</div>"
      ],
      "text/plain": [
       "        Date                                                 H3  \\\n",
       "0 2021-05-20  [[81.21248168945313, 86.84930114746093, 90.730...   \n",
       "1 2021-05-19  [[79.1148452758789, 84.64676513671876, 89.8692...   \n",
       "\n",
       "                                                  H5  \\\n",
       "0  [[85.6896743774414, 91.3666488647461, 96.63803...   \n",
       "1  [[84.84960632324218, 90.60640106201171, 97.151...   \n",
       "\n",
       "                                                  H7  \\\n",
       "0  [[88.08998107910156, 91.18880462646484, 97.142...   \n",
       "1  [[88.34898376464844, 91.91641998291016, 98.310...   \n",
       "\n",
       "                                                 H10  \\\n",
       "0  [[86.47946166992188, 91.7086410522461, 99.8507...   \n",
       "1  [[85.222900390625, 91.44981384277344, 99.83406...   \n",
       "\n",
       "                                                 H14  \\\n",
       "0  [[98.36115264892578, 98.92632293701172, 103.43...   \n",
       "1  [[98.57737731933594, 100.28819274902344, 106.5...   \n",
       "\n",
       "                                                 H21  \\\n",
       "0  [[103.5103759765625, 98.6413803100586, 111.403...   \n",
       "1  [[102.22454833984375, 97.90068054199219, 110.4...   \n",
       "\n",
       "                                                 H27  \n",
       "0  [[100.23645782470703, 102.5992660522461, 106.1...  \n",
       "1  [[97.27412414550781, 100.40276336669922, 105.6...  "
      ]
     },
     "execution_count": null,
     "metadata": {},
     "output_type": "execute_result"
    }
   ],
   "source": [
    "#hide\n",
    "loadPredict()"
   ]
  },
  {
   "cell_type": "markdown",
   "metadata": {},
   "source": [
    "updatePredicts(): Hace todas las predicciones desde el primer día guardado del fichero de predicciones hasta hoy y las guarda en el fichero."
   ]
  },
  {
   "cell_type": "code",
   "execution_count": null,
   "metadata": {},
   "outputs": [],
   "source": [
    "#export\n",
    "def updatePredicts():\n",
    "    path=getInfo(\"csvdirectory\")+\"predictionData.csv\"\n",
    "    datapredict=loadPredict()\n",
    "    if(not datapredict.empty): \n",
    "        yesterday = datetime.datetime.today().date()-datetime.timedelta(1)\n",
    "        predictdate=pd.to_datetime(datapredict.loc[0,\"Date\"])+datetime.timedelta(1) #First date to predict\n",
    "        \n",
    "        if(yesterday >= predictdate):\n",
    "        \n",
    "            while(yesterday >= predictdate):# while yesterday is not in the past of data(predictdate)\n",
    "\n",
    "                #print(predictdate,yesterday)\n",
    "                print(\"Currently making \", predictdate.strftime(\"%Y-%m-%d\") ,\" prediction\")\n",
    "                currentpredict=getAllHorizonPrediction(predictdate)\n",
    "                datapredict=pd.concat([pd.DataFrame(currentpredict,columns=COLUMNS), datapredict], ignore_index=True)\n",
    "                predictdate=predictdate+datetime.timedelta(1)\n",
    "            \n",
    "        \n",
    "            print(\"Updated to \",yesterday)\n",
    "            savePredict(datapredict)\n",
    "        else:\n",
    "            print(\"It was already updated\")\n",
    "    else:\n",
    "        print(\"The file does not exist, you should make predictions to update\")"
   ]
  },
  {
   "cell_type": "code",
   "execution_count": null,
   "metadata": {},
   "outputs": [
    {
     "name": "stdout",
     "output_type": "stream",
     "text": [
      "Currently making  2021-05-21 00:00:00  prediction\n"
     ]
    },
    {
     "name": "stderr",
     "output_type": "stream",
     "text": [
      "/home/miguel/anaconda3/lib/python3.8/site-packages/torch/nn/modules/container.py:435: UserWarning: Setting attributes on ParameterList is not supported.\n",
      "  warnings.warn(\"Setting attributes on ParameterList is not supported.\")\n"
     ]
    },
    {
     "name": "stdout",
     "output_type": "stream",
     "text": [
      "Currently making  2021-05-22 00:00:00  prediction\n",
      "Updated to  2021-05-22\n"
     ]
    }
   ],
   "source": [
    "#hide\n",
    "updatePredicts()"
   ]
  },
  {
   "cell_type": "markdown",
   "metadata": {},
   "source": [
    "updatePredicts(): Hace predicciones desde el último día guardado del fichero de predicciones 'days' veces y las guarda en el fichero."
   ]
  },
  {
   "cell_type": "code",
   "execution_count": null,
   "metadata": {},
   "outputs": [],
   "source": [
    "#export\n",
    "def doNewPredicts(days):\n",
    "    datapredict=loadPredict()\n",
    "    \n",
    "    \n",
    "    if(not datapredict.empty):\n",
    "        datestart=pd.to_datetime(datapredict.iloc[-1].Date)-datetime.timedelta(1)\n",
    "    else:\n",
    "        datestart=datetime.datetime.today().date()-datetime.timedelta(1)\n",
    "    for numdays in range(days): \n",
    "        print((datestart-datetime.timedelta(numdays)).strftime(\"%Y-%m-%d\"))\n",
    "        currentpredict=getAllHorizonPrediction(datestart-datetime.timedelta(numdays))\n",
    "        datapredict=pd.concat([datapredict,pd.DataFrame(currentpredict,columns=COLUMNS)], ignore_index=True)\n",
    "        print(\"updated\")\n",
    "        savePredict(datapredict)"
   ]
  },
  {
   "cell_type": "code",
   "execution_count": null,
   "metadata": {},
   "outputs": [
    {
     "name": "stdout",
     "output_type": "stream",
     "text": [
      "2021-05-18 00:00:00\n",
      "updated\n",
      "2021-05-17 00:00:00\n",
      "updated\n"
     ]
    },
    {
     "data": {
      "text/html": [
       "<div>\n",
       "<style scoped>\n",
       "    .dataframe tbody tr th:only-of-type {\n",
       "        vertical-align: middle;\n",
       "    }\n",
       "\n",
       "    .dataframe tbody tr th {\n",
       "        vertical-align: top;\n",
       "    }\n",
       "\n",
       "    .dataframe thead th {\n",
       "        text-align: right;\n",
       "    }\n",
       "</style>\n",
       "<table border=\"1\" class=\"dataframe\">\n",
       "  <thead>\n",
       "    <tr style=\"text-align: right;\">\n",
       "      <th></th>\n",
       "      <th>Date</th>\n",
       "      <th>H3</th>\n",
       "      <th>H5</th>\n",
       "      <th>H7</th>\n",
       "      <th>H10</th>\n",
       "      <th>H14</th>\n",
       "      <th>H21</th>\n",
       "      <th>H27</th>\n",
       "    </tr>\n",
       "  </thead>\n",
       "  <tbody>\n",
       "    <tr>\n",
       "      <th>0</th>\n",
       "      <td>2021-05-22</td>\n",
       "      <td>[[84.03729095458985, 88.03429107666015, 89.865...</td>\n",
       "      <td>[[84.67812957763672, 88.30326843261719, 92.606...</td>\n",
       "      <td>[[84.67823791503906, 88.69149780273438, 92.523...</td>\n",
       "      <td>[[80.38555908203125, 84.468994140625, 92.61737...</td>\n",
       "      <td>[[101.35305786132812, 99.46685028076172, 103.8...</td>\n",
       "      <td>[[103.991455078125, 99.47657775878906, 109.813...</td>\n",
       "      <td>[[102.07795715332031, 103.3031005859375, 103.4...</td>\n",
       "    </tr>\n",
       "    <tr>\n",
       "      <th>1</th>\n",
       "      <td>2021-05-21</td>\n",
       "      <td>[[83.69420166015625, 88.32374572753906, 91.195...</td>\n",
       "      <td>[[85.68935699462891, 90.75347900390625, 94.940...</td>\n",
       "      <td>[[88.5923843383789, 93.01776885986328, 96.3802...</td>\n",
       "      <td>[[85.0068130493164, 88.88204956054688, 96.9358...</td>\n",
       "      <td>[[99.32980346679688, 99.18195343017578, 103.22...</td>\n",
       "      <td>[[103.77058410644531, 97.80664825439453, 110.7...</td>\n",
       "      <td>[[101.01580047607422, 102.25955200195312, 104....</td>\n",
       "    </tr>\n",
       "    <tr>\n",
       "      <th>2</th>\n",
       "      <td>2021-05-20</td>\n",
       "      <td>[[81.21248168945313, 86.84930114746093, 90.730...</td>\n",
       "      <td>[[85.6896743774414, 91.3666488647461, 96.63803...</td>\n",
       "      <td>[[88.08998107910156, 91.18880462646484, 97.142...</td>\n",
       "      <td>[[86.47946166992188, 91.7086410522461, 99.8507...</td>\n",
       "      <td>[[98.36115264892578, 98.92632293701172, 103.43...</td>\n",
       "      <td>[[103.5103759765625, 98.6413803100586, 111.403...</td>\n",
       "      <td>[[100.23645782470703, 102.5992660522461, 106.1...</td>\n",
       "    </tr>\n",
       "    <tr>\n",
       "      <th>3</th>\n",
       "      <td>2021-05-19</td>\n",
       "      <td>[[79.1148452758789, 84.64676513671876, 89.8692...</td>\n",
       "      <td>[[84.84960632324218, 90.60640106201171, 97.151...</td>\n",
       "      <td>[[88.34898376464844, 91.91641998291016, 98.310...</td>\n",
       "      <td>[[85.222900390625, 91.44981384277344, 99.83406...</td>\n",
       "      <td>[[98.57737731933594, 100.28819274902344, 106.5...</td>\n",
       "      <td>[[102.22454833984375, 97.90068054199219, 110.4...</td>\n",
       "      <td>[[97.27412414550781, 100.40276336669922, 105.6...</td>\n",
       "    </tr>\n",
       "    <tr>\n",
       "      <th>4</th>\n",
       "      <td>2021-05-18</td>\n",
       "      <td>[[77.24601287841797, 82.04307403564454, 87.805...</td>\n",
       "      <td>[[82.9322738647461, 89.56397552490235, 95.4848...</td>\n",
       "      <td>[[89.31147003173828, 91.42094421386719, 97.182...</td>\n",
       "      <td>[[84.14317321777344, 91.30431365966797, 99.914...</td>\n",
       "      <td>[[96.60798645019531, 98.28929138183594, 107.74...</td>\n",
       "      <td>[[97.37294006347656, 94.68815612792969, 106.97...</td>\n",
       "      <td>[[93.70542907714844, 95.90367889404297, 101.94...</td>\n",
       "    </tr>\n",
       "    <tr>\n",
       "      <th>5</th>\n",
       "      <td>2021-05-17</td>\n",
       "      <td>[[69.76936645507813, 74.02055511474609, 79.464...</td>\n",
       "      <td>[[75.6918441772461, 82.5073471069336, 88.62305...</td>\n",
       "      <td>[[81.01795196533203, 80.90645599365234, 90.064...</td>\n",
       "      <td>[[81.79053497314453, 88.2459487915039, 97.7942...</td>\n",
       "      <td>[[91.79501342773438, 90.76585388183594, 102.00...</td>\n",
       "      <td>[[89.51701354980469, 88.32717895507812, 99.790...</td>\n",
       "      <td>[[87.9896469116211, 89.56783294677734, 97.1685...</td>\n",
       "    </tr>\n",
       "  </tbody>\n",
       "</table>\n",
       "</div>"
      ],
      "text/plain": [
       "        Date                                                 H3  \\\n",
       "0 2021-05-22  [[84.03729095458985, 88.03429107666015, 89.865...   \n",
       "1 2021-05-21  [[83.69420166015625, 88.32374572753906, 91.195...   \n",
       "2 2021-05-20  [[81.21248168945313, 86.84930114746093, 90.730...   \n",
       "3 2021-05-19  [[79.1148452758789, 84.64676513671876, 89.8692...   \n",
       "4 2021-05-18  [[77.24601287841797, 82.04307403564454, 87.805...   \n",
       "5 2021-05-17  [[69.76936645507813, 74.02055511474609, 79.464...   \n",
       "\n",
       "                                                  H5  \\\n",
       "0  [[84.67812957763672, 88.30326843261719, 92.606...   \n",
       "1  [[85.68935699462891, 90.75347900390625, 94.940...   \n",
       "2  [[85.6896743774414, 91.3666488647461, 96.63803...   \n",
       "3  [[84.84960632324218, 90.60640106201171, 97.151...   \n",
       "4  [[82.9322738647461, 89.56397552490235, 95.4848...   \n",
       "5  [[75.6918441772461, 82.5073471069336, 88.62305...   \n",
       "\n",
       "                                                  H7  \\\n",
       "0  [[84.67823791503906, 88.69149780273438, 92.523...   \n",
       "1  [[88.5923843383789, 93.01776885986328, 96.3802...   \n",
       "2  [[88.08998107910156, 91.18880462646484, 97.142...   \n",
       "3  [[88.34898376464844, 91.91641998291016, 98.310...   \n",
       "4  [[89.31147003173828, 91.42094421386719, 97.182...   \n",
       "5  [[81.01795196533203, 80.90645599365234, 90.064...   \n",
       "\n",
       "                                                 H10  \\\n",
       "0  [[80.38555908203125, 84.468994140625, 92.61737...   \n",
       "1  [[85.0068130493164, 88.88204956054688, 96.9358...   \n",
       "2  [[86.47946166992188, 91.7086410522461, 99.8507...   \n",
       "3  [[85.222900390625, 91.44981384277344, 99.83406...   \n",
       "4  [[84.14317321777344, 91.30431365966797, 99.914...   \n",
       "5  [[81.79053497314453, 88.2459487915039, 97.7942...   \n",
       "\n",
       "                                                 H14  \\\n",
       "0  [[101.35305786132812, 99.46685028076172, 103.8...   \n",
       "1  [[99.32980346679688, 99.18195343017578, 103.22...   \n",
       "2  [[98.36115264892578, 98.92632293701172, 103.43...   \n",
       "3  [[98.57737731933594, 100.28819274902344, 106.5...   \n",
       "4  [[96.60798645019531, 98.28929138183594, 107.74...   \n",
       "5  [[91.79501342773438, 90.76585388183594, 102.00...   \n",
       "\n",
       "                                                 H21  \\\n",
       "0  [[103.991455078125, 99.47657775878906, 109.813...   \n",
       "1  [[103.77058410644531, 97.80664825439453, 110.7...   \n",
       "2  [[103.5103759765625, 98.6413803100586, 111.403...   \n",
       "3  [[102.22454833984375, 97.90068054199219, 110.4...   \n",
       "4  [[97.37294006347656, 94.68815612792969, 106.97...   \n",
       "5  [[89.51701354980469, 88.32717895507812, 99.790...   \n",
       "\n",
       "                                                 H27  \n",
       "0  [[102.07795715332031, 103.3031005859375, 103.4...  \n",
       "1  [[101.01580047607422, 102.25955200195312, 104....  \n",
       "2  [[100.23645782470703, 102.5992660522461, 106.1...  \n",
       "3  [[97.27412414550781, 100.40276336669922, 105.6...  \n",
       "4  [[93.70542907714844, 95.90367889404297, 101.94...  \n",
       "5  [[87.9896469116211, 89.56783294677734, 97.1685...  "
      ]
     },
     "execution_count": null,
     "metadata": {},
     "output_type": "execute_result"
    }
   ],
   "source": [
    "#hide\n",
    "doNewPredicts(2)\n",
    "loadPredict()"
   ]
  },
  {
   "cell_type": "markdown",
   "metadata": {},
   "source": [
    "infoDatesPredicts(): Devuelve los días entre los que comprende el fichero de datos."
   ]
  },
  {
   "cell_type": "code",
   "execution_count": null,
   "metadata": {},
   "outputs": [],
   "source": [
    "#export\n",
    "def infoDatesPredicts():\n",
    "    startdate=None\n",
    "    enddate=None\n",
    "    datapredict=loadPredict()\n",
    "    if(not datapredict.empty): \n",
    "        startdate=pd.to_datetime(datapredict.iloc[0].Date)\n",
    "        enddate=pd.to_datetime(datapredict.iloc[-1].Date)\n",
    "    return startdate,enddate"
   ]
  },
  {
   "cell_type": "code",
   "execution_count": null,
   "metadata": {},
   "outputs": [
    {
     "data": {
      "text/plain": [
       "(Timestamp('2021-05-22 00:00:00'), Timestamp('2021-05-17 00:00:00'))"
      ]
     },
     "execution_count": null,
     "metadata": {},
     "output_type": "execute_result"
    }
   ],
   "source": [
    "#hide\n",
    "infoDatesPredicts()"
   ]
  },
  {
   "cell_type": "code",
   "execution_count": null,
   "metadata": {},
   "outputs": [],
   "source": []
  }
 ],
 "metadata": {
  "kernelspec": {
   "display_name": "Python 3",
   "language": "python",
   "name": "python3"
  }
 },
 "nbformat": 4,
 "nbformat_minor": 4
}
